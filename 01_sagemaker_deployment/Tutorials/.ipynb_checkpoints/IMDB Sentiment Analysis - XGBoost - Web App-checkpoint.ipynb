{
 "cells": [
  {
   "cell_type": "markdown",
   "metadata": {},
   "source": [
    "# Sentiment Analysis Web App\n",
    "\n",
    "_Deep Learning Nanodegree Program | Deployment_\n",
    "\n",
    "---\n",
    "\n",
    "In this notebook we will use Amazon's SageMaker service to construct a random tree model to predict the sentiment of a movie review. In addition, we will deploy this model to an endpoint and construct a very simple web app which will interact with our model's deployed endpoint.\n",
    "\n",
    "## General Outline\n",
    "\n",
    "Typically, when using a notebook instance with SageMaker, you will proceed through the following steps. Of course, not every step will need to be done with each project. Also, there is quite a lot of room for variation in many of the steps, as you will see throughout these lessons.\n",
    "\n",
    "1. Download or otherwise retrieve the data.\n",
    "2. Process / Prepare the data.\n",
    "3. Upload the processed data to S3.\n",
    "4. Train a chosen model.\n",
    "5. Test the trained model (typically using a batch transform job).\n",
    "6. Deploy the trained model.\n",
    "7. Use the deployed model.\n",
    "\n",
    "In this notebook we will progress through each of the steps above. We will also see that the final step, using the deployed model, can be quite challenging."
   ]
  },
  {
   "cell_type": "markdown",
   "metadata": {},
   "source": [
    "## Step 1: Downloading the data\n",
    "\n",
    "The dataset we are going to use is very popular among researchers in Natural Language Processing, usually referred to as the [IMDb dataset](http://ai.stanford.edu/~amaas/data/sentiment/). It consists of movie reviews from the website [imdb.com](http://www.imdb.com/), each labeled as either '**pos**itive', if the reviewer enjoyed the film, or '**neg**ative' otherwise.\n",
    "\n",
    "> Maas, Andrew L., et al. [Learning Word Vectors for Sentiment Analysis](http://ai.stanford.edu/~amaas/data/sentiment/). In _Proceedings of the 49th Annual Meeting of the Association for Computational Linguistics: Human Language Technologies_. Association for Computational Linguistics, 2011.\n",
    "\n",
    "We begin by using some Jupyter Notebook magic to download and extract the dataset."
   ]
  },
  {
   "cell_type": "code",
   "execution_count": 1,
   "metadata": {},
   "outputs": [
    {
     "name": "stdout",
     "output_type": "stream",
     "text": [
      "mkdir: cannot create directory ‘../data’: File exists\n",
      "--2020-06-20 21:04:54--  http://ai.stanford.edu/~amaas/data/sentiment/aclImdb_v1.tar.gz\n",
      "Resolving ai.stanford.edu (ai.stanford.edu)... 171.64.68.10\n",
      "Connecting to ai.stanford.edu (ai.stanford.edu)|171.64.68.10|:80... connected.\n",
      "HTTP request sent, awaiting response... 200 OK\n",
      "Length: 84125825 (80M) [application/x-gzip]\n",
      "Saving to: ‘../data/aclImdb_v1.tar.gz’\n",
      "\n",
      "../data/aclImdb_v1. 100%[===================>]  80.23M  3.48MB/s    in 9.1s    \n",
      "\n",
      "2020-06-20 21:05:03 (8.84 MB/s) - ‘../data/aclImdb_v1.tar.gz’ saved [84125825/84125825]\n",
      "\n"
     ]
    }
   ],
   "source": [
    "%mkdir ../data\n",
    "!wget -O ../data/aclImdb_v1.tar.gz http://ai.stanford.edu/~amaas/data/sentiment/aclImdb_v1.tar.gz\n",
    "!tar -zxf ../data/aclImdb_v1.tar.gz -C ../data"
   ]
  },
  {
   "cell_type": "markdown",
   "metadata": {},
   "source": [
    "## Step 2: Preparing and Processing the data\n",
    "\n",
    "The data we have downloaded is split into various files, each of which contains a single review. It will be much easier going forward if we combine these individual files into two large files, one for training and one for testing."
   ]
  },
  {
   "cell_type": "code",
   "execution_count": 2,
   "metadata": {},
   "outputs": [],
   "source": [
    "import os\n",
    "import glob\n",
    "\n",
    "def read_imdb_data(data_dir='../data/aclImdb'):\n",
    "    data = {}\n",
    "    labels = {}\n",
    "    \n",
    "    for data_type in ['train', 'test']:\n",
    "        data[data_type] = {}\n",
    "        labels[data_type] = {}\n",
    "        \n",
    "        for sentiment in ['pos', 'neg']:\n",
    "            data[data_type][sentiment] = []\n",
    "            labels[data_type][sentiment] = []\n",
    "            \n",
    "            path = os.path.join(data_dir, data_type, sentiment, '*.txt')\n",
    "            files = glob.glob(path)\n",
    "            \n",
    "            for f in files:\n",
    "                with open(f) as review:\n",
    "                    data[data_type][sentiment].append(review.read())\n",
    "                    # Here we represent a positive review by '1' and a negative review by '0'\n",
    "                    labels[data_type][sentiment].append(1 if sentiment == 'pos' else 0)\n",
    "                    \n",
    "            assert len(data[data_type][sentiment]) == len(labels[data_type][sentiment]), \\\n",
    "                    \"{}/{} data size does not match labels size\".format(data_type, sentiment)\n",
    "                \n",
    "    return data, labels"
   ]
  },
  {
   "cell_type": "code",
   "execution_count": 3,
   "metadata": {},
   "outputs": [
    {
     "name": "stdout",
     "output_type": "stream",
     "text": [
      "IMDB reviews: train = 12500 pos / 12500 neg, test = 12500 pos / 12500 neg\n"
     ]
    }
   ],
   "source": [
    "data, labels = read_imdb_data()\n",
    "print(\"IMDB reviews: train = {} pos / {} neg, test = {} pos / {} neg\".format(\n",
    "            len(data['train']['pos']), len(data['train']['neg']),\n",
    "            len(data['test']['pos']), len(data['test']['neg'])))"
   ]
  },
  {
   "cell_type": "code",
   "execution_count": 4,
   "metadata": {},
   "outputs": [],
   "source": [
    "from sklearn.utils import shuffle\n",
    "\n",
    "def prepare_imdb_data(data, labels):\n",
    "    \"\"\"Prepare training and test sets from IMDb movie reviews.\"\"\"\n",
    "    \n",
    "    #Combine positive and negative reviews and labels\n",
    "    data_train = data['train']['pos'] + data['train']['neg']\n",
    "    data_test = data['test']['pos'] + data['test']['neg']\n",
    "    labels_train = labels['train']['pos'] + labels['train']['neg']\n",
    "    labels_test = labels['test']['pos'] + labels['test']['neg']\n",
    "    \n",
    "    #Shuffle reviews and corresponding labels within training and test sets\n",
    "    data_train, labels_train = shuffle(data_train, labels_train)\n",
    "    data_test, labels_test = shuffle(data_test, labels_test)\n",
    "    \n",
    "    # Return a unified training data, test data, training labels, test labets\n",
    "    return data_train, data_test, labels_train, labels_test"
   ]
  },
  {
   "cell_type": "code",
   "execution_count": 5,
   "metadata": {},
   "outputs": [
    {
     "name": "stdout",
     "output_type": "stream",
     "text": [
      "IMDb reviews (combined): train = 25000, test = 25000\n"
     ]
    }
   ],
   "source": [
    "train_X, test_X, train_y, test_y = prepare_imdb_data(data, labels)\n",
    "print(\"IMDb reviews (combined): train = {}, test = {}\".format(len(train_X), len(test_X)))"
   ]
  },
  {
   "cell_type": "code",
   "execution_count": 6,
   "metadata": {},
   "outputs": [
    {
     "data": {
      "text/plain": [
       "'Many days after seeing Conceiving Ada, I am still in awe that any group of people would spend so much time to make such an atrocious film.<br /><br />No one ought see this film in hopes of learning anything of consequence about Ada Lovelock, her colleagues or the product of her endeavors.<br /><br />Likewise, no one ought to see this film in hopes of being entertained.<br /><br />As a sci-fi film, this would unquestionably be a horrendous failure. Somehow, the main character manages to bring the past to life and interact with it on her personal computer--with the advice and encouraging words of Timothy Leary. I doubt anyone could suspend their disbelief enough to keep this from seeming absolutely absurd.<br /><br />As a drama film, this would unquestionably be a horrendous failure. Somehow, the writer/director manages to fill eighty-five minutes with constant, unnecessary, annoying and trivial drama over essentially nothing. I doubt that anyone could feel that all the drama in the film serves only as an irritating distraction.<br /><br />I find it difficult to fully express my degree of contempt for Conceiving Ada. The circumstances under which I saw it forbid me from leaving the theater but there is no question that I would have otherwise. I am still angry that I wasted the time that it took to see it. Only that I might more effectively criticize this movie, I wish that I were more articulate.'"
      ]
     },
     "execution_count": 6,
     "metadata": {},
     "output_type": "execute_result"
    }
   ],
   "source": [
    "train_X[100]"
   ]
  },
  {
   "cell_type": "markdown",
   "metadata": {},
   "source": [
    "## Processing the data\n",
    "\n",
    "Now that we have our training and testing datasets merged and ready to use, we need to start processing the raw data into something that will be useable by our machine learning algorithm. To begin with, we remove any html formatting and any non-alpha numeric characters that may appear in the reviews. We will do this in a very simplistic way using Python's regular expression module. We will discuss the reason for this rather simplistic pre-processing later on."
   ]
  },
  {
   "cell_type": "code",
   "execution_count": 7,
   "metadata": {},
   "outputs": [],
   "source": [
    "import re\n",
    "\n",
    "REPLACE_NO_SPACE = re.compile(\"(\\.)|(\\;)|(\\:)|(\\!)|(\\')|(\\?)|(\\,)|(\\\")|(\\()|(\\))|(\\[)|(\\])\")\n",
    "REPLACE_WITH_SPACE = re.compile(\"(<br\\s*/><br\\s*/>)|(\\-)|(\\/)\")\n",
    "\n",
    "def review_to_words(review):\n",
    "    words = REPLACE_NO_SPACE.sub(\"\", review.lower())\n",
    "    words = REPLACE_WITH_SPACE.sub(\" \", words)\n",
    "    return words"
   ]
  },
  {
   "cell_type": "code",
   "execution_count": 8,
   "metadata": {},
   "outputs": [
    {
     "data": {
      "text/plain": [
       "'many days after seeing conceiving ada i am still in awe that any group of people would spend so much time to make such an atrocious film no one ought see this film in hopes of learning anything of consequence about ada lovelock her colleagues or the product of her endeavors likewise no one ought to see this film in hopes of being entertained as a sci fi film this would unquestionably be a horrendous failure somehow the main character manages to bring the past to life and interact with it on her personal computer  with the advice and encouraging words of timothy leary i doubt anyone could suspend their disbelief enough to keep this from seeming absolutely absurd as a drama film this would unquestionably be a horrendous failure somehow the writer director manages to fill eighty five minutes with constant unnecessary annoying and trivial drama over essentially nothing i doubt that anyone could feel that all the drama in the film serves only as an irritating distraction i find it difficult to fully express my degree of contempt for conceiving ada the circumstances under which i saw it forbid me from leaving the theater but there is no question that i would have otherwise i am still angry that i wasted the time that it took to see it only that i might more effectively criticize this movie i wish that i were more articulate'"
      ]
     },
     "execution_count": 8,
     "metadata": {},
     "output_type": "execute_result"
    }
   ],
   "source": [
    "review_to_words(train_X[100])"
   ]
  },
  {
   "cell_type": "code",
   "execution_count": 9,
   "metadata": {},
   "outputs": [],
   "source": [
    "import pickle\n",
    "\n",
    "cache_dir = os.path.join(\"../cache\", \"sentiment_web_app\")  # where to store cache files\n",
    "os.makedirs(cache_dir, exist_ok=True)  # ensure cache directory exists\n",
    "\n",
    "def preprocess_data(data_train, data_test, labels_train, labels_test,\n",
    "                    cache_dir=cache_dir, cache_file=\"preprocessed_data.pkl\"):\n",
    "    \"\"\"Convert each review to words; read from cache if available.\"\"\"\n",
    "\n",
    "    # If cache_file is not None, try to read from it first\n",
    "    cache_data = None\n",
    "    if cache_file is not None:\n",
    "        try:\n",
    "            with open(os.path.join(cache_dir, cache_file), \"rb\") as f:\n",
    "                cache_data = pickle.load(f)\n",
    "            print(\"Read preprocessed data from cache file:\", cache_file)\n",
    "        except:\n",
    "            pass  # unable to read from cache, but that's okay\n",
    "    \n",
    "    # If cache is missing, then do the heavy lifting\n",
    "    if cache_data is None:\n",
    "        # Preprocess training and test data to obtain words for each review\n",
    "        #words_train = list(map(review_to_words, data_train))\n",
    "        #words_test = list(map(review_to_words, data_test))\n",
    "        words_train = [review_to_words(review) for review in data_train]\n",
    "        words_test = [review_to_words(review) for review in data_test]\n",
    "        \n",
    "        # Write to cache file for future runs\n",
    "        if cache_file is not None:\n",
    "            cache_data = dict(words_train=words_train, words_test=words_test,\n",
    "                              labels_train=labels_train, labels_test=labels_test)\n",
    "            with open(os.path.join(cache_dir, cache_file), \"wb\") as f:\n",
    "                pickle.dump(cache_data, f)\n",
    "            print(\"Wrote preprocessed data to cache file:\", cache_file)\n",
    "    else:\n",
    "        # Unpack data loaded from cache file\n",
    "        words_train, words_test, labels_train, labels_test = (cache_data['words_train'],\n",
    "                cache_data['words_test'], cache_data['labels_train'], cache_data['labels_test'])\n",
    "    \n",
    "    return words_train, words_test, labels_train, labels_test"
   ]
  },
  {
   "cell_type": "code",
   "execution_count": 10,
   "metadata": {},
   "outputs": [
    {
     "name": "stdout",
     "output_type": "stream",
     "text": [
      "Wrote preprocessed data to cache file: preprocessed_data.pkl\n"
     ]
    }
   ],
   "source": [
    "# Preprocess data\n",
    "train_X, test_X, train_y, test_y = preprocess_data(train_X, test_X, train_y, test_y)"
   ]
  },
  {
   "cell_type": "markdown",
   "metadata": {},
   "source": [
    "### Extract Bag-of-Words features\n",
    "\n",
    "For the model we will be implementing, rather than using the reviews directly, we are going to transform each review into a Bag-of-Words feature representation. Keep in mind that 'in the wild' we will only have access to the training set so our transformer can only use the training set to construct a representation."
   ]
  },
  {
   "cell_type": "code",
   "execution_count": 11,
   "metadata": {},
   "outputs": [
    {
     "name": "stderr",
     "output_type": "stream",
     "text": [
      "/home/ec2-user/anaconda3/envs/python3/lib/python3.6/site-packages/sklearn/externals/joblib/__init__.py:15: FutureWarning: sklearn.externals.joblib is deprecated in 0.21 and will be removed in 0.23. Please import this functionality directly from joblib, which can be installed with: pip install joblib. If this warning is raised when loading pickled models, you may need to re-serialize those models with scikit-learn 0.21+.\n",
      "  warnings.warn(msg, category=FutureWarning)\n"
     ]
    }
   ],
   "source": [
    "import numpy as np\n",
    "from sklearn.feature_extraction.text import CountVectorizer\n",
    "from sklearn.externals import joblib\n",
    "# joblib is an enhanced version of pickle that is more efficient for storing NumPy arrays\n",
    "\n",
    "def extract_BoW_features(words_train, words_test, vocabulary_size=5000,\n",
    "                         cache_dir=cache_dir, cache_file=\"bow_features.pkl\"):\n",
    "    \"\"\"Extract Bag-of-Words for a given set of documents, already preprocessed into words.\"\"\"\n",
    "    \n",
    "    # If cache_file is not None, try to read from it first\n",
    "    cache_data = None\n",
    "    if cache_file is not None:\n",
    "        try:\n",
    "            with open(os.path.join(cache_dir, cache_file), \"rb\") as f:\n",
    "                cache_data = joblib.load(f)\n",
    "            print(\"Read features from cache file:\", cache_file)\n",
    "        except:\n",
    "            pass  # unable to read from cache, but that's okay\n",
    "    \n",
    "    # If cache is missing, then do the heavy lifting\n",
    "    if cache_data is None:\n",
    "        # Fit a vectorizer to training documents and use it to transform them\n",
    "        # NOTE: Training documents have already been preprocessed and tokenized into words;\n",
    "        #       pass in dummy functions to skip those steps, e.g. preprocessor=lambda x: x\n",
    "        vectorizer = CountVectorizer(max_features=vocabulary_size)\n",
    "        features_train = vectorizer.fit_transform(words_train).toarray()\n",
    "\n",
    "        # Apply the same vectorizer to transform the test documents (ignore unknown words)\n",
    "        features_test = vectorizer.transform(words_test).toarray()\n",
    "        \n",
    "        # NOTE: Remember to convert the features using .toarray() for a compact representation\n",
    "        \n",
    "        # Write to cache file for future runs (store vocabulary as well)\n",
    "        if cache_file is not None:\n",
    "            vocabulary = vectorizer.vocabulary_\n",
    "            cache_data = dict(features_train=features_train, features_test=features_test,\n",
    "                             vocabulary=vocabulary)\n",
    "            with open(os.path.join(cache_dir, cache_file), \"wb\") as f:\n",
    "                joblib.dump(cache_data, f)\n",
    "            print(\"Wrote features to cache file:\", cache_file)\n",
    "    else:\n",
    "        # Unpack data loaded from cache file\n",
    "        features_train, features_test, vocabulary = (cache_data['features_train'],\n",
    "                cache_data['features_test'], cache_data['vocabulary'])\n",
    "    \n",
    "    # Return both the extracted features as well as the vocabulary\n",
    "    return features_train, features_test, vocabulary"
   ]
  },
  {
   "cell_type": "code",
   "execution_count": 12,
   "metadata": {},
   "outputs": [
    {
     "name": "stdout",
     "output_type": "stream",
     "text": [
      "Wrote features to cache file: bow_features.pkl\n"
     ]
    }
   ],
   "source": [
    "# Extract Bag of Words features for both training and test datasets\n",
    "train_X, test_X, vocabulary = extract_BoW_features(train_X, test_X)"
   ]
  },
  {
   "cell_type": "code",
   "execution_count": 13,
   "metadata": {},
   "outputs": [
    {
     "data": {
      "text/plain": [
       "5000"
      ]
     },
     "execution_count": 13,
     "metadata": {},
     "output_type": "execute_result"
    }
   ],
   "source": [
    "len(train_X[100])"
   ]
  },
  {
   "cell_type": "markdown",
   "metadata": {},
   "source": [
    "## Step 3: Upload data to S3\n",
    "\n",
    "Now that we have created the feature representation of our training (and testing) data, it is time to start setting up and using the XGBoost classifier provided by SageMaker.\n",
    "\n",
    "### Writing the datasets\n",
    "\n",
    "The XGBoost classifier that we will be using requires the dataset to be written to a file and stored using Amazon S3. To do this, we will start by splitting the training dataset into two parts, the data we will train the model with and a validation set. Then, we will write those datasets to a file locally and then upload the files to S3. In addition, we will write the test set to a file and upload that file to S3. This is so that we can use SageMakers Batch Transform functionality to test our model once we've fit it."
   ]
  },
  {
   "cell_type": "code",
   "execution_count": 14,
   "metadata": {},
   "outputs": [],
   "source": [
    "import pandas as pd\n",
    "\n",
    "# Earlier we shuffled the training dataset so to make things simple we can just assign\n",
    "# the first 10 000 reviews to the validation set and use the remaining reviews for training.\n",
    "val_X = pd.DataFrame(train_X[:10000])\n",
    "train_X = pd.DataFrame(train_X[10000:])\n",
    "\n",
    "val_y = pd.DataFrame(train_y[:10000])\n",
    "train_y = pd.DataFrame(train_y[10000:])"
   ]
  },
  {
   "cell_type": "markdown",
   "metadata": {},
   "source": [
    "The documentation for the XGBoost algorithm in SageMaker requires that the training and validation datasets should contain no headers or index and that the label should occur first for each sample.\n",
    "\n",
    "For more information about this and other algorithms, the SageMaker developer documentation can be found on __[Amazon's website.](https://docs.aws.amazon.com/sagemaker/latest/dg/)__"
   ]
  },
  {
   "cell_type": "code",
   "execution_count": 15,
   "metadata": {},
   "outputs": [],
   "source": [
    "# First we make sure that the local directory in which we'd like to store the training and validation csv files exists.\n",
    "data_dir = '../data/sentiment_web_app'\n",
    "if not os.path.exists(data_dir):\n",
    "    os.makedirs(data_dir)"
   ]
  },
  {
   "cell_type": "code",
   "execution_count": 16,
   "metadata": {},
   "outputs": [],
   "source": [
    "pd.DataFrame(test_X).to_csv(os.path.join(data_dir, 'test.csv'), header=False, index=False)\n",
    "\n",
    "pd.concat([val_y, val_X], axis=1).to_csv(os.path.join(data_dir, 'validation.csv'), header=False, index=False)\n",
    "pd.concat([train_y, train_X], axis=1).to_csv(os.path.join(data_dir, 'train.csv'), header=False, index=False)"
   ]
  },
  {
   "cell_type": "code",
   "execution_count": 17,
   "metadata": {},
   "outputs": [],
   "source": [
    "# To save a bit of memory we can set text_X, train_X, val_X, train_y and val_y to None.\n",
    "\n",
    "test_X = train_X = val_X = train_y = val_y = None"
   ]
  },
  {
   "cell_type": "markdown",
   "metadata": {},
   "source": [
    "### Uploading Training / Validation files to S3\n",
    "\n",
    "Amazon's S3 service allows us to store files that can be accessed by both the built-in training models such as the XGBoost model we will be using as well as custom models such as the one we will see a little later.\n",
    "\n",
    "For this and most other tasks we will be doing using SageMaker, there are two methods we could use. The first is to use the low level functionality of SageMaker which requires knowing each of the objects involved in the SageMaker environment. The second is to use the high level functionality in which certain choices have been made on the user's behalf. The low level approach benefits from allowing the user a great deal of flexibility while the high level approach makes development much quicker. For our purposes we will opt to use the high level approach although using the low-level approach is certainly an option.\n",
    "\n",
    "Recall the method `upload_data()` which is a member of the object representing our current SageMaker session. What this method does is upload the data to the default bucket (which is created if it does not exist) into the path described by the key_prefix variable. To see this for yourself, once you have uploaded the data files, go to the S3 console and look to see where the files have been uploaded.\n",
    "\n",
    "For additional resources, see the __[SageMaker API documentation](http://sagemaker.readthedocs.io/en/latest/)__ and in addition the __[SageMaker Developer Guide.](https://docs.aws.amazon.com/sagemaker/latest/dg/)__"
   ]
  },
  {
   "cell_type": "code",
   "execution_count": 18,
   "metadata": {},
   "outputs": [],
   "source": [
    "import sagemaker\n",
    "\n",
    "session = sagemaker.Session() # Store the current SageMaker session\n",
    "\n",
    "# S3 prefix (which folder will we use)\n",
    "prefix = 'sentiment-web-app'\n",
    "\n",
    "test_location = session.upload_data(os.path.join(data_dir, 'test.csv'), key_prefix=prefix)\n",
    "val_location = session.upload_data(os.path.join(data_dir, 'validation.csv'), key_prefix=prefix)\n",
    "train_location = session.upload_data(os.path.join(data_dir, 'train.csv'), key_prefix=prefix)"
   ]
  },
  {
   "cell_type": "markdown",
   "metadata": {},
   "source": [
    "## Step 4: Creating the XGBoost model\n",
    "\n",
    "Now that the data has been uploaded it is time to create the XGBoost model. To begin with, we need to do some setup. At this point it is worth discussing what a model is in SageMaker. It is easiest to think of a model of comprising three different objects in the SageMaker ecosystem, which interact with one another.\n",
    "\n",
    "- Model Artifacts\n",
    "- Training Code (Container)\n",
    "- Inference Code (Container)\n",
    "\n",
    "The Model Artifacts are what you might think of as the actual model itself. For example, if you were building a neural network, the model artifacts would be the weights of the various layers. In our case, for an XGBoost model, the artifacts are the actual trees that are created during training.\n",
    "\n",
    "The other two objects, the training code and the inference code are then used to manipulate the training artifacts. More precisely, the training code uses the training data that is provided and creates the model artifacts, while the inference code uses the model artifacts to make predictions on new data.\n",
    "\n",
    "The way that SageMaker runs the training and inference code is by making use of Docker containers. For now, think of a container as being a way of packaging code up so that dependencies aren't an issue."
   ]
  },
  {
   "cell_type": "code",
   "execution_count": 19,
   "metadata": {},
   "outputs": [],
   "source": [
    "from sagemaker import get_execution_role\n",
    "\n",
    "# Our current execution role is required when creating the model as the training\n",
    "# and inference code will need to access the model artifacts.\n",
    "role = get_execution_role()"
   ]
  },
  {
   "cell_type": "code",
   "execution_count": 20,
   "metadata": {},
   "outputs": [
    {
     "name": "stderr",
     "output_type": "stream",
     "text": [
      "'get_image_uri' method will be deprecated in favor of 'ImageURIProvider' class in SageMaker Python SDK v2.\n",
      "WARNING:root:There is a more up to date SageMaker XGBoost image. To use the newer image, please set 'repo_version'='1.0-1'. For example:\n",
      "\tget_image_uri(region, 'xgboost', '1.0-1').\n"
     ]
    }
   ],
   "source": [
    "# We need to retrieve the location of the container which is provided by Amazon for using XGBoost.\n",
    "# As a matter of convenience, the training and inference code both use the same container.\n",
    "from sagemaker.amazon.amazon_estimator import get_image_uri\n",
    "\n",
    "container = get_image_uri(session.boto_region_name, 'xgboost')"
   ]
  },
  {
   "cell_type": "code",
   "execution_count": 21,
   "metadata": {},
   "outputs": [
    {
     "name": "stderr",
     "output_type": "stream",
     "text": [
      "WARNING:root:Parameter image_name will be renamed to image_uri in SageMaker Python SDK v2.\n"
     ]
    }
   ],
   "source": [
    "# First we create a SageMaker estimator object for our model.\n",
    "xgb = sagemaker.estimator.Estimator(container, # The location of the container we wish to use\n",
    "                                    role,                                    # What is our current IAM Role\n",
    "                                    train_instance_count=1,                  # How many compute instances\n",
    "                                    train_instance_type='ml.m4.xlarge',      # What kind of compute instances\n",
    "                                    output_path='s3://{}/{}/output'.format(session.default_bucket(), prefix),\n",
    "                                    sagemaker_session=session)\n",
    "\n",
    "# And then set the algorithm specific parameters.\n",
    "xgb.set_hyperparameters(max_depth=5,\n",
    "                        eta=0.2,\n",
    "                        gamma=4,\n",
    "                        min_child_weight=6,\n",
    "                        subsample=0.8,\n",
    "                        silent=0,\n",
    "                        objective='binary:logistic',\n",
    "                        early_stopping_rounds=10,\n",
    "                        num_round=500)"
   ]
  },
  {
   "cell_type": "markdown",
   "metadata": {},
   "source": [
    "### Fit the XGBoost model\n",
    "\n",
    "Now that our model has been set up we simply need to attach the training and validation datasets and then ask SageMaker to set up the computation."
   ]
  },
  {
   "cell_type": "code",
   "execution_count": 22,
   "metadata": {},
   "outputs": [
    {
     "name": "stderr",
     "output_type": "stream",
     "text": [
      "WARNING:sagemaker:'s3_input' class will be renamed to 'TrainingInput' in SageMaker Python SDK v2.\n",
      "WARNING:sagemaker:'s3_input' class will be renamed to 'TrainingInput' in SageMaker Python SDK v2.\n"
     ]
    }
   ],
   "source": [
    "s3_input_train = sagemaker.s3_input(s3_data=train_location, content_type='csv')\n",
    "s3_input_validation = sagemaker.s3_input(s3_data=val_location, content_type='csv')"
   ]
  },
  {
   "cell_type": "code",
   "execution_count": 23,
   "metadata": {},
   "outputs": [
    {
     "name": "stdout",
     "output_type": "stream",
     "text": [
      "2020-06-20 21:09:56 Starting - Starting the training job...\n",
      "2020-06-20 21:09:58 Starting - Launching requested ML instances......\n",
      "2020-06-20 21:11:04 Starting - Preparing the instances for training...\n",
      "2020-06-20 21:11:51 Downloading - Downloading input data...\n",
      "2020-06-20 21:12:25 Training - Training image download completed. Training in progress..\u001b[34mArguments: train\u001b[0m\n",
      "\u001b[34m[2020-06-20:21:12:25:INFO] Running standalone xgboost training.\u001b[0m\n",
      "\u001b[34m[2020-06-20:21:12:25:INFO] File size need to be processed in the node: 238.5mb. Available memory size in the node: 8489.75mb\u001b[0m\n",
      "\u001b[34m[2020-06-20:21:12:25:INFO] Determined delimiter of CSV input is ','\u001b[0m\n",
      "\u001b[34m[21:12:25] S3DistributionType set as FullyReplicated\u001b[0m\n",
      "\u001b[34m[21:12:27] 15000x5000 matrix with 75000000 entries loaded from /opt/ml/input/data/train?format=csv&label_column=0&delimiter=,\u001b[0m\n",
      "\u001b[34m[2020-06-20:21:12:27:INFO] Determined delimiter of CSV input is ','\u001b[0m\n",
      "\u001b[34m[21:12:27] S3DistributionType set as FullyReplicated\u001b[0m\n",
      "\u001b[34m[21:12:28] 10000x5000 matrix with 50000000 entries loaded from /opt/ml/input/data/validation?format=csv&label_column=0&delimiter=,\u001b[0m\n",
      "\u001b[34m[21:12:32] src/tree/updater_prune.cc:74: tree pruning end, 1 roots, 42 extra nodes, 6 pruned nodes, max_depth=5\u001b[0m\n",
      "\u001b[34m[0]#011train-error:0.303667#011validation-error:0.312\u001b[0m\n",
      "\u001b[34mMultiple eval metrics have been passed: 'validation-error' will be used for early stopping.\n",
      "\u001b[0m\n",
      "\u001b[34mWill train until validation-error hasn't improved in 10 rounds.\u001b[0m\n",
      "\u001b[34m[21:12:33] src/tree/updater_prune.cc:74: tree pruning end, 1 roots, 36 extra nodes, 10 pruned nodes, max_depth=5\u001b[0m\n",
      "\u001b[34m[1]#011train-error:0.301867#011validation-error:0.3066\u001b[0m\n",
      "\u001b[34m[21:12:35] src/tree/updater_prune.cc:74: tree pruning end, 1 roots, 44 extra nodes, 6 pruned nodes, max_depth=5\u001b[0m\n",
      "\u001b[34m[2]#011train-error:0.300667#011validation-error:0.3077\u001b[0m\n",
      "\u001b[34m[21:12:36] src/tree/updater_prune.cc:74: tree pruning end, 1 roots, 40 extra nodes, 8 pruned nodes, max_depth=5\u001b[0m\n",
      "\u001b[34m[3]#011train-error:0.2866#011validation-error:0.2964\u001b[0m\n",
      "\u001b[34m[21:12:38] src/tree/updater_prune.cc:74: tree pruning end, 1 roots, 30 extra nodes, 4 pruned nodes, max_depth=5\u001b[0m\n",
      "\u001b[34m[4]#011train-error:0.2644#011validation-error:0.2756\u001b[0m\n",
      "\u001b[34m[21:12:39] src/tree/updater_prune.cc:74: tree pruning end, 1 roots, 36 extra nodes, 4 pruned nodes, max_depth=5\u001b[0m\n",
      "\u001b[34m[5]#011train-error:0.258733#011validation-error:0.2724\u001b[0m\n",
      "\u001b[34m[21:12:40] src/tree/updater_prune.cc:74: tree pruning end, 1 roots, 32 extra nodes, 0 pruned nodes, max_depth=5\u001b[0m\n",
      "\u001b[34m[6]#011train-error:0.243133#011validation-error:0.257\u001b[0m\n",
      "\u001b[34m[21:12:41] src/tree/updater_prune.cc:74: tree pruning end, 1 roots, 46 extra nodes, 0 pruned nodes, max_depth=5\u001b[0m\n",
      "\u001b[34m[7]#011train-error:0.2408#011validation-error:0.2566\u001b[0m\n",
      "\u001b[34m[21:12:43] src/tree/updater_prune.cc:74: tree pruning end, 1 roots, 40 extra nodes, 6 pruned nodes, max_depth=5\u001b[0m\n",
      "\u001b[34m[8]#011train-error:0.237#011validation-error:0.2514\u001b[0m\n",
      "\u001b[34m[21:12:44] src/tree/updater_prune.cc:74: tree pruning end, 1 roots, 30 extra nodes, 12 pruned nodes, max_depth=5\u001b[0m\n",
      "\u001b[34m[9]#011train-error:0.231067#011validation-error:0.2444\u001b[0m\n",
      "\u001b[34m[21:12:45] src/tree/updater_prune.cc:74: tree pruning end, 1 roots, 36 extra nodes, 4 pruned nodes, max_depth=5\u001b[0m\n",
      "\u001b[34m[10]#011train-error:0.222533#011validation-error:0.2387\u001b[0m\n",
      "\u001b[34m[21:12:47] src/tree/updater_prune.cc:74: tree pruning end, 1 roots, 40 extra nodes, 10 pruned nodes, max_depth=5\u001b[0m\n",
      "\u001b[34m[11]#011train-error:0.2178#011validation-error:0.2359\u001b[0m\n",
      "\u001b[34m[21:12:48] src/tree/updater_prune.cc:74: tree pruning end, 1 roots, 38 extra nodes, 0 pruned nodes, max_depth=5\u001b[0m\n",
      "\u001b[34m[12]#011train-error:0.211933#011validation-error:0.2297\u001b[0m\n",
      "\u001b[34m[21:12:49] src/tree/updater_prune.cc:74: tree pruning end, 1 roots, 34 extra nodes, 4 pruned nodes, max_depth=5\u001b[0m\n",
      "\u001b[34m[13]#011train-error:0.2092#011validation-error:0.2272\u001b[0m\n",
      "\u001b[34m[21:12:51] src/tree/updater_prune.cc:74: tree pruning end, 1 roots, 32 extra nodes, 2 pruned nodes, max_depth=5\u001b[0m\n",
      "\u001b[34m[14]#011train-error:0.203667#011validation-error:0.2224\u001b[0m\n",
      "\u001b[34m[21:12:52] src/tree/updater_prune.cc:74: tree pruning end, 1 roots, 20 extra nodes, 6 pruned nodes, max_depth=5\u001b[0m\n",
      "\u001b[34m[15]#011train-error:0.201533#011validation-error:0.2213\u001b[0m\n",
      "\u001b[34m[21:12:53] src/tree/updater_prune.cc:74: tree pruning end, 1 roots, 20 extra nodes, 14 pruned nodes, max_depth=5\u001b[0m\n",
      "\u001b[34m[16]#011train-error:0.2008#011validation-error:0.2197\u001b[0m\n",
      "\u001b[34m[21:12:54] src/tree/updater_prune.cc:74: tree pruning end, 1 roots, 26 extra nodes, 8 pruned nodes, max_depth=5\u001b[0m\n",
      "\u001b[34m[17]#011train-error:0.198133#011validation-error:0.2159\u001b[0m\n",
      "\u001b[34m[21:12:56] src/tree/updater_prune.cc:74: tree pruning end, 1 roots, 20 extra nodes, 16 pruned nodes, max_depth=5\u001b[0m\n",
      "\u001b[34m[18]#011train-error:0.195#011validation-error:0.2119\u001b[0m\n",
      "\u001b[34m[21:12:57] src/tree/updater_prune.cc:74: tree pruning end, 1 roots, 22 extra nodes, 2 pruned nodes, max_depth=5\u001b[0m\n",
      "\u001b[34m[19]#011train-error:0.190933#011validation-error:0.2101\u001b[0m\n",
      "\u001b[34m[21:12:58] src/tree/updater_prune.cc:74: tree pruning end, 1 roots, 38 extra nodes, 4 pruned nodes, max_depth=5\u001b[0m\n",
      "\u001b[34m[20]#011train-error:0.188467#011validation-error:0.2101\u001b[0m\n",
      "\u001b[34m[21:13:00] src/tree/updater_prune.cc:74: tree pruning end, 1 roots, 26 extra nodes, 8 pruned nodes, max_depth=5\u001b[0m\n",
      "\u001b[34m[21]#011train-error:0.186333#011validation-error:0.2066\u001b[0m\n",
      "\u001b[34m[21:13:01] src/tree/updater_prune.cc:74: tree pruning end, 1 roots, 24 extra nodes, 10 pruned nodes, max_depth=5\u001b[0m\n",
      "\u001b[34m[22]#011train-error:0.184133#011validation-error:0.203\u001b[0m\n",
      "\u001b[34m[21:13:02] src/tree/updater_prune.cc:74: tree pruning end, 1 roots, 20 extra nodes, 8 pruned nodes, max_depth=5\u001b[0m\n",
      "\u001b[34m[23]#011train-error:0.181267#011validation-error:0.201\u001b[0m\n",
      "\u001b[34m[21:13:04] src/tree/updater_prune.cc:74: tree pruning end, 1 roots, 20 extra nodes, 8 pruned nodes, max_depth=5\u001b[0m\n",
      "\u001b[34m[24]#011train-error:0.179467#011validation-error:0.1977\u001b[0m\n",
      "\u001b[34m[21:13:05] src/tree/updater_prune.cc:74: tree pruning end, 1 roots, 46 extra nodes, 4 pruned nodes, max_depth=5\u001b[0m\n",
      "\u001b[34m[25]#011train-error:0.1776#011validation-error:0.1982\u001b[0m\n",
      "\u001b[34m[21:13:06] src/tree/updater_prune.cc:74: tree pruning end, 1 roots, 34 extra nodes, 0 pruned nodes, max_depth=5\u001b[0m\n",
      "\u001b[34m[26]#011train-error:0.174467#011validation-error:0.1962\u001b[0m\n",
      "\u001b[34m[21:13:07] src/tree/updater_prune.cc:74: tree pruning end, 1 roots, 26 extra nodes, 10 pruned nodes, max_depth=5\u001b[0m\n",
      "\u001b[34m[27]#011train-error:0.173467#011validation-error:0.1957\u001b[0m\n",
      "\u001b[34m[21:13:09] src/tree/updater_prune.cc:74: tree pruning end, 1 roots, 20 extra nodes, 12 pruned nodes, max_depth=5\u001b[0m\n",
      "\u001b[34m[28]#011train-error:0.171267#011validation-error:0.1957\u001b[0m\n",
      "\u001b[34m[21:13:10] src/tree/updater_prune.cc:74: tree pruning end, 1 roots, 38 extra nodes, 6 pruned nodes, max_depth=5\u001b[0m\n",
      "\u001b[34m[29]#011train-error:0.169533#011validation-error:0.1955\u001b[0m\n",
      "\u001b[34m[21:13:11] src/tree/updater_prune.cc:74: tree pruning end, 1 roots, 28 extra nodes, 10 pruned nodes, max_depth=5\u001b[0m\n",
      "\u001b[34m[30]#011train-error:0.1676#011validation-error:0.1937\u001b[0m\n",
      "\u001b[34m[21:13:13] src/tree/updater_prune.cc:74: tree pruning end, 1 roots, 16 extra nodes, 12 pruned nodes, max_depth=5\u001b[0m\n",
      "\u001b[34m[31]#011train-error:0.164333#011validation-error:0.1916\u001b[0m\n",
      "\u001b[34m[21:13:14] src/tree/updater_prune.cc:74: tree pruning end, 1 roots, 30 extra nodes, 8 pruned nodes, max_depth=5\u001b[0m\n",
      "\u001b[34m[32]#011train-error:0.162#011validation-error:0.1898\u001b[0m\n",
      "\u001b[34m[21:13:15] src/tree/updater_prune.cc:74: tree pruning end, 1 roots, 22 extra nodes, 10 pruned nodes, max_depth=5\u001b[0m\n",
      "\u001b[34m[33]#011train-error:0.161133#011validation-error:0.1877\u001b[0m\n",
      "\u001b[34m[21:13:16] src/tree/updater_prune.cc:74: tree pruning end, 1 roots, 34 extra nodes, 6 pruned nodes, max_depth=5\u001b[0m\n",
      "\u001b[34m[34]#011train-error:0.159333#011validation-error:0.1877\u001b[0m\n",
      "\u001b[34m[21:13:18] src/tree/updater_prune.cc:74: tree pruning end, 1 roots, 14 extra nodes, 14 pruned nodes, max_depth=5\u001b[0m\n",
      "\u001b[34m[35]#011train-error:0.1584#011validation-error:0.1862\u001b[0m\n",
      "\u001b[34m[21:13:19] src/tree/updater_prune.cc:74: tree pruning end, 1 roots, 36 extra nodes, 10 pruned nodes, max_depth=5\u001b[0m\n",
      "\u001b[34m[36]#011train-error:0.158133#011validation-error:0.185\u001b[0m\n",
      "\u001b[34m[21:13:20] src/tree/updater_prune.cc:74: tree pruning end, 1 roots, 16 extra nodes, 10 pruned nodes, max_depth=5\u001b[0m\n",
      "\u001b[34m[37]#011train-error:0.156867#011validation-error:0.1846\u001b[0m\n",
      "\u001b[34m[21:13:22] src/tree/updater_prune.cc:74: tree pruning end, 1 roots, 36 extra nodes, 8 pruned nodes, max_depth=5\u001b[0m\n",
      "\u001b[34m[38]#011train-error:0.1548#011validation-error:0.1842\u001b[0m\n",
      "\u001b[34m[21:13:23] src/tree/updater_prune.cc:74: tree pruning end, 1 roots, 26 extra nodes, 12 pruned nodes, max_depth=5\u001b[0m\n",
      "\u001b[34m[39]#011train-error:0.151467#011validation-error:0.1833\u001b[0m\n"
     ]
    },
    {
     "name": "stdout",
     "output_type": "stream",
     "text": [
      "\u001b[34m[21:13:24] src/tree/updater_prune.cc:74: tree pruning end, 1 roots, 32 extra nodes, 8 pruned nodes, max_depth=5\u001b[0m\n",
      "\u001b[34m[40]#011train-error:0.151067#011validation-error:0.1823\u001b[0m\n",
      "\u001b[34m[21:13:25] src/tree/updater_prune.cc:74: tree pruning end, 1 roots, 22 extra nodes, 10 pruned nodes, max_depth=5\u001b[0m\n",
      "\u001b[34m[41]#011train-error:0.148333#011validation-error:0.1812\u001b[0m\n",
      "\u001b[34m[21:13:27] src/tree/updater_prune.cc:74: tree pruning end, 1 roots, 16 extra nodes, 16 pruned nodes, max_depth=5\u001b[0m\n",
      "\u001b[34m[42]#011train-error:0.147333#011validation-error:0.1811\u001b[0m\n",
      "\u001b[34m[21:13:28] src/tree/updater_prune.cc:74: tree pruning end, 1 roots, 20 extra nodes, 12 pruned nodes, max_depth=5\u001b[0m\n",
      "\u001b[34m[43]#011train-error:0.146267#011validation-error:0.1776\u001b[0m\n",
      "\u001b[34m[21:13:29] src/tree/updater_prune.cc:74: tree pruning end, 1 roots, 16 extra nodes, 8 pruned nodes, max_depth=5\u001b[0m\n",
      "\u001b[34m[44]#011train-error:0.144533#011validation-error:0.1786\u001b[0m\n",
      "\u001b[34m[21:13:31] src/tree/updater_prune.cc:74: tree pruning end, 1 roots, 30 extra nodes, 10 pruned nodes, max_depth=5\u001b[0m\n",
      "\u001b[34m[45]#011train-error:0.142867#011validation-error:0.1784\u001b[0m\n",
      "\u001b[34m[21:13:32] src/tree/updater_prune.cc:74: tree pruning end, 1 roots, 18 extra nodes, 8 pruned nodes, max_depth=5\u001b[0m\n",
      "\u001b[34m[46]#011train-error:0.142133#011validation-error:0.1779\u001b[0m\n",
      "\u001b[34m[21:13:33] src/tree/updater_prune.cc:74: tree pruning end, 1 roots, 16 extra nodes, 14 pruned nodes, max_depth=5\u001b[0m\n",
      "\u001b[34m[47]#011train-error:0.140867#011validation-error:0.1767\u001b[0m\n",
      "\u001b[34m[21:13:34] src/tree/updater_prune.cc:74: tree pruning end, 1 roots, 30 extra nodes, 10 pruned nodes, max_depth=5\u001b[0m\n",
      "\u001b[34m[48]#011train-error:0.140867#011validation-error:0.1762\u001b[0m\n",
      "\u001b[34m[21:13:36] src/tree/updater_prune.cc:74: tree pruning end, 1 roots, 32 extra nodes, 10 pruned nodes, max_depth=5\u001b[0m\n",
      "\u001b[34m[49]#011train-error:0.1402#011validation-error:0.1748\u001b[0m\n",
      "\u001b[34m[21:13:37] src/tree/updater_prune.cc:74: tree pruning end, 1 roots, 26 extra nodes, 12 pruned nodes, max_depth=5\u001b[0m\n",
      "\u001b[34m[50]#011train-error:0.139333#011validation-error:0.1738\u001b[0m\n",
      "\u001b[34m[21:13:38] src/tree/updater_prune.cc:74: tree pruning end, 1 roots, 26 extra nodes, 12 pruned nodes, max_depth=5\u001b[0m\n",
      "\u001b[34m[51]#011train-error:0.138267#011validation-error:0.1748\u001b[0m\n",
      "\u001b[34m[21:13:40] src/tree/updater_prune.cc:74: tree pruning end, 1 roots, 14 extra nodes, 8 pruned nodes, max_depth=5\u001b[0m\n",
      "\u001b[34m[52]#011train-error:0.137467#011validation-error:0.1746\u001b[0m\n",
      "\u001b[34m[21:13:41] src/tree/updater_prune.cc:74: tree pruning end, 1 roots, 10 extra nodes, 10 pruned nodes, max_depth=5\u001b[0m\n",
      "\u001b[34m[53]#011train-error:0.138067#011validation-error:0.1739\u001b[0m\n",
      "\u001b[34m[21:13:42] src/tree/updater_prune.cc:74: tree pruning end, 1 roots, 22 extra nodes, 6 pruned nodes, max_depth=5\u001b[0m\n",
      "\u001b[34m[54]#011train-error:0.137733#011validation-error:0.1735\u001b[0m\n",
      "\u001b[34m[21:13:43] src/tree/updater_prune.cc:74: tree pruning end, 1 roots, 22 extra nodes, 12 pruned nodes, max_depth=5\u001b[0m\n",
      "\u001b[34m[55]#011train-error:0.137#011validation-error:0.1721\u001b[0m\n",
      "\u001b[34m[21:13:45] src/tree/updater_prune.cc:74: tree pruning end, 1 roots, 34 extra nodes, 2 pruned nodes, max_depth=5\u001b[0m\n",
      "\u001b[34m[56]#011train-error:0.135267#011validation-error:0.1704\u001b[0m\n",
      "\u001b[34m[21:13:46] src/tree/updater_prune.cc:74: tree pruning end, 1 roots, 20 extra nodes, 10 pruned nodes, max_depth=5\u001b[0m\n",
      "\u001b[34m[57]#011train-error:0.134533#011validation-error:0.1717\u001b[0m\n",
      "\u001b[34m[21:13:47] src/tree/updater_prune.cc:74: tree pruning end, 1 roots, 18 extra nodes, 16 pruned nodes, max_depth=5\u001b[0m\n",
      "\u001b[34m[58]#011train-error:0.132533#011validation-error:0.171\u001b[0m\n",
      "\u001b[34m[21:13:49] src/tree/updater_prune.cc:74: tree pruning end, 1 roots, 22 extra nodes, 14 pruned nodes, max_depth=5\u001b[0m\n",
      "\u001b[34m[59]#011train-error:0.131933#011validation-error:0.1702\u001b[0m\n",
      "\u001b[34m[21:13:50] src/tree/updater_prune.cc:74: tree pruning end, 1 roots, 30 extra nodes, 6 pruned nodes, max_depth=5\u001b[0m\n",
      "\u001b[34m[60]#011train-error:0.130133#011validation-error:0.169\u001b[0m\n",
      "\u001b[34m[21:13:51] src/tree/updater_prune.cc:74: tree pruning end, 1 roots, 18 extra nodes, 14 pruned nodes, max_depth=5\u001b[0m\n",
      "\u001b[34m[61]#011train-error:0.129067#011validation-error:0.1689\u001b[0m\n",
      "\u001b[34m[21:13:53] src/tree/updater_prune.cc:74: tree pruning end, 1 roots, 20 extra nodes, 6 pruned nodes, max_depth=5\u001b[0m\n",
      "\u001b[34m[62]#011train-error:0.1286#011validation-error:0.1676\u001b[0m\n",
      "\u001b[34m[21:13:54] src/tree/updater_prune.cc:74: tree pruning end, 1 roots, 18 extra nodes, 10 pruned nodes, max_depth=5\u001b[0m\n",
      "\u001b[34m[63]#011train-error:0.128133#011validation-error:0.1666\u001b[0m\n",
      "\u001b[34m[21:13:55] src/tree/updater_prune.cc:74: tree pruning end, 1 roots, 32 extra nodes, 10 pruned nodes, max_depth=5\u001b[0m\n",
      "\u001b[34m[64]#011train-error:0.126733#011validation-error:0.166\u001b[0m\n",
      "\u001b[34m[21:13:56] src/tree/updater_prune.cc:74: tree pruning end, 1 roots, 26 extra nodes, 18 pruned nodes, max_depth=5\u001b[0m\n",
      "\u001b[34m[65]#011train-error:0.125333#011validation-error:0.1666\u001b[0m\n",
      "\u001b[34m[21:13:58] src/tree/updater_prune.cc:74: tree pruning end, 1 roots, 20 extra nodes, 4 pruned nodes, max_depth=5\u001b[0m\n",
      "\u001b[34m[66]#011train-error:0.124067#011validation-error:0.1651\u001b[0m\n",
      "\u001b[34m[21:13:59] src/tree/updater_prune.cc:74: tree pruning end, 1 roots, 12 extra nodes, 12 pruned nodes, max_depth=5\u001b[0m\n",
      "\u001b[34m[67]#011train-error:0.124667#011validation-error:0.1651\u001b[0m\n",
      "\u001b[34m[21:14:00] src/tree/updater_prune.cc:74: tree pruning end, 1 roots, 10 extra nodes, 8 pruned nodes, max_depth=5\u001b[0m\n",
      "\u001b[34m[68]#011train-error:0.124933#011validation-error:0.1638\u001b[0m\n",
      "\u001b[34m[21:14:02] src/tree/updater_prune.cc:74: tree pruning end, 1 roots, 22 extra nodes, 6 pruned nodes, max_depth=5\u001b[0m\n",
      "\u001b[34m[69]#011train-error:0.124933#011validation-error:0.1623\u001b[0m\n",
      "\u001b[34m[21:14:03] src/tree/updater_prune.cc:74: tree pruning end, 1 roots, 22 extra nodes, 10 pruned nodes, max_depth=5\u001b[0m\n",
      "\u001b[34m[70]#011train-error:0.124333#011validation-error:0.1631\u001b[0m\n",
      "\u001b[34m[21:14:04] src/tree/updater_prune.cc:74: tree pruning end, 1 roots, 32 extra nodes, 2 pruned nodes, max_depth=5\u001b[0m\n",
      "\u001b[34m[71]#011train-error:0.1224#011validation-error:0.1629\u001b[0m\n",
      "\u001b[34m[21:14:05] src/tree/updater_prune.cc:74: tree pruning end, 1 roots, 12 extra nodes, 10 pruned nodes, max_depth=5\u001b[0m\n",
      "\u001b[34m[72]#011train-error:0.121467#011validation-error:0.1621\u001b[0m\n",
      "\u001b[34m[21:14:07] src/tree/updater_prune.cc:74: tree pruning end, 1 roots, 22 extra nodes, 12 pruned nodes, max_depth=5\u001b[0m\n",
      "\u001b[34m[73]#011train-error:0.121067#011validation-error:0.162\u001b[0m\n",
      "\u001b[34m[21:14:08] src/tree/updater_prune.cc:74: tree pruning end, 1 roots, 18 extra nodes, 4 pruned nodes, max_depth=5\u001b[0m\n",
      "\u001b[34m[74]#011train-error:0.1202#011validation-error:0.1618\u001b[0m\n",
      "\u001b[34m[21:14:09] src/tree/updater_prune.cc:74: tree pruning end, 1 roots, 22 extra nodes, 8 pruned nodes, max_depth=5\u001b[0m\n",
      "\u001b[34m[75]#011train-error:0.118933#011validation-error:0.1612\u001b[0m\n",
      "\u001b[34m[21:14:11] src/tree/updater_prune.cc:74: tree pruning end, 1 roots, 16 extra nodes, 10 pruned nodes, max_depth=5\u001b[0m\n",
      "\u001b[34m[76]#011train-error:0.118667#011validation-error:0.1607\u001b[0m\n",
      "\u001b[34m[21:14:12] src/tree/updater_prune.cc:74: tree pruning end, 1 roots, 10 extra nodes, 16 pruned nodes, max_depth=5\u001b[0m\n",
      "\u001b[34m[77]#011train-error:0.119467#011validation-error:0.1606\u001b[0m\n",
      "\u001b[34m[21:14:13] src/tree/updater_prune.cc:74: tree pruning end, 1 roots, 18 extra nodes, 12 pruned nodes, max_depth=5\u001b[0m\n",
      "\u001b[34m[78]#011train-error:0.118667#011validation-error:0.1602\u001b[0m\n",
      "\u001b[34m[21:14:14] src/tree/updater_prune.cc:74: tree pruning end, 1 roots, 22 extra nodes, 12 pruned nodes, max_depth=5\u001b[0m\n",
      "\u001b[34m[79]#011train-error:0.118733#011validation-error:0.1588\u001b[0m\n",
      "\u001b[34m[21:14:16] src/tree/updater_prune.cc:74: tree pruning end, 1 roots, 18 extra nodes, 6 pruned nodes, max_depth=5\u001b[0m\n",
      "\u001b[34m[80]#011train-error:0.118#011validation-error:0.1594\u001b[0m\n",
      "\u001b[34m[21:14:17] src/tree/updater_prune.cc:74: tree pruning end, 1 roots, 22 extra nodes, 2 pruned nodes, max_depth=5\u001b[0m\n",
      "\u001b[34m[81]#011train-error:0.117733#011validation-error:0.1572\u001b[0m\n",
      "\u001b[34m[21:14:18] src/tree/updater_prune.cc:74: tree pruning end, 1 roots, 18 extra nodes, 12 pruned nodes, max_depth=5\u001b[0m\n",
      "\u001b[34m[82]#011train-error:0.117267#011validation-error:0.1575\u001b[0m\n",
      "\u001b[34m[21:14:20] src/tree/updater_prune.cc:74: tree pruning end, 1 roots, 18 extra nodes, 6 pruned nodes, max_depth=5\u001b[0m\n",
      "\u001b[34m[83]#011train-error:0.1166#011validation-error:0.1569\u001b[0m\n",
      "\u001b[34m[21:14:21] src/tree/updater_prune.cc:74: tree pruning end, 1 roots, 20 extra nodes, 12 pruned nodes, max_depth=5\u001b[0m\n",
      "\u001b[34m[84]#011train-error:0.1146#011validation-error:0.1562\u001b[0m\n",
      "\u001b[34m[21:14:22] src/tree/updater_prune.cc:74: tree pruning end, 1 roots, 16 extra nodes, 4 pruned nodes, max_depth=5\u001b[0m\n",
      "\u001b[34m[85]#011train-error:0.114667#011validation-error:0.1557\u001b[0m\n",
      "\u001b[34m[21:14:23] src/tree/updater_prune.cc:74: tree pruning end, 1 roots, 22 extra nodes, 8 pruned nodes, max_depth=5\u001b[0m\n",
      "\u001b[34m[86]#011train-error:0.1126#011validation-error:0.1557\u001b[0m\n",
      "\u001b[34m[21:14:25] src/tree/updater_prune.cc:74: tree pruning end, 1 roots, 12 extra nodes, 10 pruned nodes, max_depth=5\u001b[0m\n",
      "\u001b[34m[87]#011train-error:0.1126#011validation-error:0.1546\u001b[0m\n"
     ]
    },
    {
     "name": "stdout",
     "output_type": "stream",
     "text": [
      "\u001b[34m[21:14:26] src/tree/updater_prune.cc:74: tree pruning end, 1 roots, 16 extra nodes, 8 pruned nodes, max_depth=5\u001b[0m\n",
      "\u001b[34m[88]#011train-error:0.112533#011validation-error:0.1545\u001b[0m\n",
      "\u001b[34m[21:14:27] src/tree/updater_prune.cc:74: tree pruning end, 1 roots, 12 extra nodes, 8 pruned nodes, max_depth=5\u001b[0m\n",
      "\u001b[34m[89]#011train-error:0.1118#011validation-error:0.1542\u001b[0m\n",
      "\u001b[34m[21:14:29] src/tree/updater_prune.cc:74: tree pruning end, 1 roots, 22 extra nodes, 10 pruned nodes, max_depth=5\u001b[0m\n",
      "\u001b[34m[90]#011train-error:0.111067#011validation-error:0.1544\u001b[0m\n",
      "\u001b[34m[21:14:30] src/tree/updater_prune.cc:74: tree pruning end, 1 roots, 24 extra nodes, 6 pruned nodes, max_depth=5\u001b[0m\n",
      "\u001b[34m[91]#011train-error:0.110933#011validation-error:0.1537\u001b[0m\n",
      "\u001b[34m[21:14:31] src/tree/updater_prune.cc:74: tree pruning end, 1 roots, 18 extra nodes, 6 pruned nodes, max_depth=5\u001b[0m\n",
      "\u001b[34m[92]#011train-error:0.1102#011validation-error:0.154\u001b[0m\n",
      "\u001b[34m[21:14:32] src/tree/updater_prune.cc:74: tree pruning end, 1 roots, 16 extra nodes, 12 pruned nodes, max_depth=5\u001b[0m\n",
      "\u001b[34m[93]#011train-error:0.109133#011validation-error:0.1537\u001b[0m\n",
      "\u001b[34m[21:14:34] src/tree/updater_prune.cc:74: tree pruning end, 1 roots, 10 extra nodes, 10 pruned nodes, max_depth=5\u001b[0m\n",
      "\u001b[34m[94]#011train-error:0.108733#011validation-error:0.1541\u001b[0m\n",
      "\u001b[34m[21:14:35] src/tree/updater_prune.cc:74: tree pruning end, 1 roots, 28 extra nodes, 8 pruned nodes, max_depth=5\u001b[0m\n",
      "\u001b[34m[95]#011train-error:0.108733#011validation-error:0.1549\u001b[0m\n",
      "\u001b[34m[21:14:36] src/tree/updater_prune.cc:74: tree pruning end, 1 roots, 18 extra nodes, 12 pruned nodes, max_depth=5\u001b[0m\n",
      "\u001b[34m[96]#011train-error:0.1088#011validation-error:0.1534\u001b[0m\n",
      "\u001b[34m[21:14:38] src/tree/updater_prune.cc:74: tree pruning end, 1 roots, 20 extra nodes, 4 pruned nodes, max_depth=5\u001b[0m\n",
      "\u001b[34m[97]#011train-error:0.108533#011validation-error:0.1539\u001b[0m\n",
      "\u001b[34m[21:14:39] src/tree/updater_prune.cc:74: tree pruning end, 1 roots, 12 extra nodes, 12 pruned nodes, max_depth=5\u001b[0m\n",
      "\u001b[34m[98]#011train-error:0.1076#011validation-error:0.1536\u001b[0m\n",
      "\u001b[34m[21:14:40] src/tree/updater_prune.cc:74: tree pruning end, 1 roots, 16 extra nodes, 6 pruned nodes, max_depth=5\u001b[0m\n",
      "\u001b[34m[99]#011train-error:0.107533#011validation-error:0.1527\u001b[0m\n",
      "\u001b[34m[21:14:41] src/tree/updater_prune.cc:74: tree pruning end, 1 roots, 14 extra nodes, 12 pruned nodes, max_depth=5\u001b[0m\n",
      "\u001b[34m[100]#011train-error:0.106867#011validation-error:0.1523\u001b[0m\n",
      "\u001b[34m[21:14:43] src/tree/updater_prune.cc:74: tree pruning end, 1 roots, 22 extra nodes, 8 pruned nodes, max_depth=5\u001b[0m\n",
      "\u001b[34m[101]#011train-error:0.106333#011validation-error:0.1519\u001b[0m\n",
      "\u001b[34m[21:14:44] src/tree/updater_prune.cc:74: tree pruning end, 1 roots, 24 extra nodes, 10 pruned nodes, max_depth=5\u001b[0m\n",
      "\u001b[34m[102]#011train-error:0.105333#011validation-error:0.152\u001b[0m\n",
      "\u001b[34m[21:14:45] src/tree/updater_prune.cc:74: tree pruning end, 1 roots, 26 extra nodes, 10 pruned nodes, max_depth=5\u001b[0m\n",
      "\u001b[34m[103]#011train-error:0.104#011validation-error:0.1516\u001b[0m\n",
      "\u001b[34m[21:14:46] src/tree/updater_prune.cc:74: tree pruning end, 1 roots, 22 extra nodes, 14 pruned nodes, max_depth=5\u001b[0m\n",
      "\u001b[34m[104]#011train-error:0.102333#011validation-error:0.1509\u001b[0m\n",
      "\u001b[34m[21:14:48] src/tree/updater_prune.cc:74: tree pruning end, 1 roots, 28 extra nodes, 8 pruned nodes, max_depth=5\u001b[0m\n",
      "\u001b[34m[105]#011train-error:0.1032#011validation-error:0.1513\u001b[0m\n",
      "\u001b[34m[21:14:49] src/tree/updater_prune.cc:74: tree pruning end, 1 roots, 14 extra nodes, 6 pruned nodes, max_depth=5\u001b[0m\n",
      "\u001b[34m[106]#011train-error:0.102333#011validation-error:0.1508\u001b[0m\n",
      "\u001b[34m[21:14:50] src/tree/updater_prune.cc:74: tree pruning end, 1 roots, 24 extra nodes, 10 pruned nodes, max_depth=5\u001b[0m\n",
      "\u001b[34m[107]#011train-error:0.102133#011validation-error:0.1513\u001b[0m\n",
      "\u001b[34m[21:14:52] src/tree/updater_prune.cc:74: tree pruning end, 1 roots, 16 extra nodes, 8 pruned nodes, max_depth=5\u001b[0m\n",
      "\u001b[34m[108]#011train-error:0.102#011validation-error:0.1506\u001b[0m\n",
      "\u001b[34m[21:14:53] src/tree/updater_prune.cc:74: tree pruning end, 1 roots, 10 extra nodes, 2 pruned nodes, max_depth=5\u001b[0m\n",
      "\u001b[34m[109]#011train-error:0.102067#011validation-error:0.1501\u001b[0m\n",
      "\u001b[34m[21:14:54] src/tree/updater_prune.cc:74: tree pruning end, 1 roots, 14 extra nodes, 10 pruned nodes, max_depth=5\u001b[0m\n",
      "\u001b[34m[110]#011train-error:0.102133#011validation-error:0.1497\u001b[0m\n",
      "\u001b[34m[21:14:56] src/tree/updater_prune.cc:74: tree pruning end, 1 roots, 12 extra nodes, 4 pruned nodes, max_depth=5\u001b[0m\n",
      "\u001b[34m[111]#011train-error:0.101067#011validation-error:0.1495\u001b[0m\n",
      "\u001b[34m[21:14:57] src/tree/updater_prune.cc:74: tree pruning end, 1 roots, 12 extra nodes, 8 pruned nodes, max_depth=5\u001b[0m\n",
      "\u001b[34m[112]#011train-error:0.101#011validation-error:0.1496\u001b[0m\n",
      "\u001b[34m[21:14:58] src/tree/updater_prune.cc:74: tree pruning end, 1 roots, 12 extra nodes, 4 pruned nodes, max_depth=5\u001b[0m\n",
      "\u001b[34m[113]#011train-error:0.1006#011validation-error:0.1501\u001b[0m\n",
      "\u001b[34m[21:15:00] src/tree/updater_prune.cc:74: tree pruning end, 1 roots, 18 extra nodes, 10 pruned nodes, max_depth=5\u001b[0m\n",
      "\u001b[34m[114]#011train-error:0.099333#011validation-error:0.1483\u001b[0m\n",
      "\u001b[34m[21:15:01] src/tree/updater_prune.cc:74: tree pruning end, 1 roots, 10 extra nodes, 8 pruned nodes, max_depth=5\u001b[0m\n",
      "\u001b[34m[115]#011train-error:0.099133#011validation-error:0.1481\u001b[0m\n",
      "\u001b[34m[21:15:02] src/tree/updater_prune.cc:74: tree pruning end, 1 roots, 22 extra nodes, 8 pruned nodes, max_depth=5\u001b[0m\n",
      "\u001b[34m[116]#011train-error:0.099333#011validation-error:0.1482\u001b[0m\n",
      "\u001b[34m[21:15:03] src/tree/updater_prune.cc:74: tree pruning end, 1 roots, 12 extra nodes, 6 pruned nodes, max_depth=5\u001b[0m\n",
      "\u001b[34m[117]#011train-error:0.099#011validation-error:0.1482\u001b[0m\n",
      "\u001b[34m[21:15:05] src/tree/updater_prune.cc:74: tree pruning end, 1 roots, 24 extra nodes, 12 pruned nodes, max_depth=5\u001b[0m\n",
      "\u001b[34m[118]#011train-error:0.0972#011validation-error:0.1481\u001b[0m\n",
      "\u001b[34m[21:15:06] src/tree/updater_prune.cc:74: tree pruning end, 1 roots, 26 extra nodes, 8 pruned nodes, max_depth=5\u001b[0m\n",
      "\u001b[34m[119]#011train-error:0.0968#011validation-error:0.1484\u001b[0m\n",
      "\u001b[34m[21:15:07] src/tree/updater_prune.cc:74: tree pruning end, 1 roots, 32 extra nodes, 16 pruned nodes, max_depth=5\u001b[0m\n",
      "\u001b[34m[120]#011train-error:0.096867#011validation-error:0.1479\u001b[0m\n",
      "\u001b[34m[21:15:09] src/tree/updater_prune.cc:74: tree pruning end, 1 roots, 14 extra nodes, 12 pruned nodes, max_depth=5\u001b[0m\n",
      "\u001b[34m[121]#011train-error:0.096#011validation-error:0.1478\u001b[0m\n",
      "\u001b[34m[21:15:10] src/tree/updater_prune.cc:74: tree pruning end, 1 roots, 10 extra nodes, 10 pruned nodes, max_depth=5\u001b[0m\n",
      "\u001b[34m[122]#011train-error:0.095533#011validation-error:0.1476\u001b[0m\n",
      "\u001b[34m[21:15:11] src/tree/updater_prune.cc:74: tree pruning end, 1 roots, 14 extra nodes, 6 pruned nodes, max_depth=5\u001b[0m\n",
      "\u001b[34m[123]#011train-error:0.095933#011validation-error:0.1466\u001b[0m\n",
      "\u001b[34m[21:15:12] src/tree/updater_prune.cc:74: tree pruning end, 1 roots, 20 extra nodes, 8 pruned nodes, max_depth=5\u001b[0m\n",
      "\u001b[34m[124]#011train-error:0.095533#011validation-error:0.1459\u001b[0m\n",
      "\u001b[34m[21:15:14] src/tree/updater_prune.cc:74: tree pruning end, 1 roots, 34 extra nodes, 12 pruned nodes, max_depth=5\u001b[0m\n",
      "\u001b[34m[125]#011train-error:0.093733#011validation-error:0.1471\u001b[0m\n",
      "\u001b[34m[21:15:15] src/tree/updater_prune.cc:74: tree pruning end, 1 roots, 18 extra nodes, 10 pruned nodes, max_depth=5\u001b[0m\n",
      "\u001b[34m[126]#011train-error:0.093733#011validation-error:0.1462\u001b[0m\n",
      "\u001b[34m[21:15:16] src/tree/updater_prune.cc:74: tree pruning end, 1 roots, 12 extra nodes, 14 pruned nodes, max_depth=5\u001b[0m\n",
      "\u001b[34m[127]#011train-error:0.0934#011validation-error:0.1453\u001b[0m\n",
      "\u001b[34m[21:15:18] src/tree/updater_prune.cc:74: tree pruning end, 1 roots, 14 extra nodes, 12 pruned nodes, max_depth=5\u001b[0m\n",
      "\u001b[34m[128]#011train-error:0.092867#011validation-error:0.1454\u001b[0m\n",
      "\u001b[34m[21:15:19] src/tree/updater_prune.cc:74: tree pruning end, 1 roots, 14 extra nodes, 6 pruned nodes, max_depth=5\u001b[0m\n",
      "\u001b[34m[129]#011train-error:0.092733#011validation-error:0.1451\u001b[0m\n",
      "\u001b[34m[21:15:20] src/tree/updater_prune.cc:74: tree pruning end, 1 roots, 12 extra nodes, 0 pruned nodes, max_depth=5\u001b[0m\n",
      "\u001b[34m[130]#011train-error:0.0922#011validation-error:0.1457\u001b[0m\n",
      "\u001b[34m[21:15:21] src/tree/updater_prune.cc:74: tree pruning end, 1 roots, 14 extra nodes, 8 pruned nodes, max_depth=5\u001b[0m\n",
      "\u001b[34m[131]#011train-error:0.092#011validation-error:0.1456\u001b[0m\n"
     ]
    },
    {
     "name": "stdout",
     "output_type": "stream",
     "text": [
      "\u001b[34m[21:15:23] src/tree/updater_prune.cc:74: tree pruning end, 1 roots, 10 extra nodes, 8 pruned nodes, max_depth=5\u001b[0m\n",
      "\u001b[34m[132]#011train-error:0.092267#011validation-error:0.1455\u001b[0m\n",
      "\u001b[34m[21:15:24] src/tree/updater_prune.cc:74: tree pruning end, 1 roots, 16 extra nodes, 8 pruned nodes, max_depth=5\u001b[0m\n",
      "\u001b[34m[133]#011train-error:0.092467#011validation-error:0.1451\u001b[0m\n",
      "\u001b[34m[21:15:25] src/tree/updater_prune.cc:74: tree pruning end, 1 roots, 14 extra nodes, 6 pruned nodes, max_depth=5\u001b[0m\n",
      "\u001b[34m[134]#011train-error:0.092067#011validation-error:0.144\u001b[0m\n",
      "\u001b[34m[21:15:27] src/tree/updater_prune.cc:74: tree pruning end, 1 roots, 12 extra nodes, 10 pruned nodes, max_depth=5\u001b[0m\n",
      "\u001b[34m[135]#011train-error:0.092067#011validation-error:0.1441\u001b[0m\n",
      "\u001b[34m[21:15:28] src/tree/updater_prune.cc:74: tree pruning end, 1 roots, 22 extra nodes, 4 pruned nodes, max_depth=5\u001b[0m\n",
      "\u001b[34m[136]#011train-error:0.090867#011validation-error:0.144\u001b[0m\n",
      "\u001b[34m[21:15:29] src/tree/updater_prune.cc:74: tree pruning end, 1 roots, 16 extra nodes, 4 pruned nodes, max_depth=5\u001b[0m\n",
      "\u001b[34m[137]#011train-error:0.090467#011validation-error:0.1435\u001b[0m\n",
      "\u001b[34m[21:15:30] src/tree/updater_prune.cc:74: tree pruning end, 1 roots, 16 extra nodes, 4 pruned nodes, max_depth=5\u001b[0m\n",
      "\u001b[34m[138]#011train-error:0.089933#011validation-error:0.1439\u001b[0m\n",
      "\u001b[34m[21:15:32] src/tree/updater_prune.cc:74: tree pruning end, 1 roots, 26 extra nodes, 8 pruned nodes, max_depth=5\u001b[0m\n",
      "\u001b[34m[139]#011train-error:0.089667#011validation-error:0.1444\u001b[0m\n",
      "\u001b[34m[21:15:33] src/tree/updater_prune.cc:74: tree pruning end, 1 roots, 14 extra nodes, 10 pruned nodes, max_depth=5\u001b[0m\n",
      "\u001b[34m[140]#011train-error:0.089333#011validation-error:0.1437\u001b[0m\n",
      "\u001b[34m[21:15:34] src/tree/updater_prune.cc:74: tree pruning end, 1 roots, 12 extra nodes, 4 pruned nodes, max_depth=5\u001b[0m\n",
      "\u001b[34m[141]#011train-error:0.089#011validation-error:0.1436\u001b[0m\n",
      "\u001b[34m[21:15:36] src/tree/updater_prune.cc:74: tree pruning end, 1 roots, 18 extra nodes, 8 pruned nodes, max_depth=5\u001b[0m\n",
      "\u001b[34m[142]#011train-error:0.087867#011validation-error:0.1428\u001b[0m\n",
      "\u001b[34m[21:15:37] src/tree/updater_prune.cc:74: tree pruning end, 1 roots, 12 extra nodes, 8 pruned nodes, max_depth=5\u001b[0m\n",
      "\u001b[34m[143]#011train-error:0.087667#011validation-error:0.1424\u001b[0m\n",
      "\u001b[34m[21:15:38] src/tree/updater_prune.cc:74: tree pruning end, 1 roots, 20 extra nodes, 10 pruned nodes, max_depth=5\u001b[0m\n",
      "\u001b[34m[144]#011train-error:0.088133#011validation-error:0.1425\u001b[0m\n",
      "\u001b[34m[21:15:39] src/tree/updater_prune.cc:74: tree pruning end, 1 roots, 18 extra nodes, 2 pruned nodes, max_depth=5\u001b[0m\n",
      "\u001b[34m[145]#011train-error:0.087933#011validation-error:0.1425\u001b[0m\n",
      "\u001b[34m[21:15:41] src/tree/updater_prune.cc:74: tree pruning end, 1 roots, 14 extra nodes, 10 pruned nodes, max_depth=5\u001b[0m\n",
      "\u001b[34m[146]#011train-error:0.088067#011validation-error:0.1434\u001b[0m\n",
      "\u001b[34m[21:15:42] src/tree/updater_prune.cc:74: tree pruning end, 1 roots, 12 extra nodes, 2 pruned nodes, max_depth=5\u001b[0m\n",
      "\u001b[34m[147]#011train-error:0.087467#011validation-error:0.1429\u001b[0m\n",
      "\n",
      "2020-06-20 21:15:53 Uploading - Uploading generated training model\u001b[34m[21:15:43] src/tree/updater_prune.cc:74: tree pruning end, 1 roots, 30 extra nodes, 16 pruned nodes, max_depth=5\u001b[0m\n",
      "\u001b[34m[148]#011train-error:0.0866#011validation-error:0.1429\u001b[0m\n",
      "\u001b[34m[21:15:45] src/tree/updater_prune.cc:74: tree pruning end, 1 roots, 14 extra nodes, 12 pruned nodes, max_depth=5\u001b[0m\n",
      "\u001b[34m[149]#011train-error:0.086333#011validation-error:0.144\u001b[0m\n",
      "\u001b[34m[21:15:46] src/tree/updater_prune.cc:74: tree pruning end, 1 roots, 28 extra nodes, 8 pruned nodes, max_depth=5\u001b[0m\n",
      "\u001b[34m[150]#011train-error:0.085733#011validation-error:0.1428\u001b[0m\n",
      "\u001b[34m[21:15:47] src/tree/updater_prune.cc:74: tree pruning end, 1 roots, 10 extra nodes, 14 pruned nodes, max_depth=5\u001b[0m\n",
      "\u001b[34m[151]#011train-error:0.0862#011validation-error:0.1424\u001b[0m\n",
      "\u001b[34m[21:15:48] src/tree/updater_prune.cc:74: tree pruning end, 1 roots, 14 extra nodes, 4 pruned nodes, max_depth=5\u001b[0m\n",
      "\u001b[34m[152]#011train-error:0.0856#011validation-error:0.1426\u001b[0m\n",
      "\u001b[34m[21:15:50] src/tree/updater_prune.cc:74: tree pruning end, 1 roots, 12 extra nodes, 4 pruned nodes, max_depth=5\u001b[0m\n",
      "\u001b[34m[153]#011train-error:0.085533#011validation-error:0.1427\u001b[0m\n",
      "\u001b[34mStopping. Best iteration:\u001b[0m\n",
      "\u001b[34m[143]#011train-error:0.087667#011validation-error:0.1424\n",
      "\u001b[0m\n",
      "\n",
      "2020-06-20 21:16:00 Completed - Training job completed\n",
      "Training seconds: 249\n",
      "Billable seconds: 249\n"
     ]
    }
   ],
   "source": [
    "xgb.fit({'train': s3_input_train, 'validation': s3_input_validation})"
   ]
  },
  {
   "cell_type": "markdown",
   "metadata": {},
   "source": [
    "## Step 5: Testing the model\n",
    "\n",
    "Now that we've fit our XGBoost model, it's time to see how well it performs. To do this we will use SageMakers Batch Transform functionality. Batch Transform is a convenient way to perform inference on a large dataset in a way that is not realtime. That is, we don't necessarily need to use our model's results immediately and instead we can perform inference on a large number of samples. An example of this in industry might be performing an end of month report. This method of inference can also be useful to us as it means that we can perform inference on our entire test set. \n",
    "\n",
    "To perform a Batch Transformation we need to first create a transformer objects from our trained estimator object."
   ]
  },
  {
   "cell_type": "code",
   "execution_count": 24,
   "metadata": {},
   "outputs": [
    {
     "name": "stderr",
     "output_type": "stream",
     "text": [
      "WARNING:sagemaker:Parameter image will be renamed to image_uri in SageMaker Python SDK v2.\n"
     ]
    }
   ],
   "source": [
    "xgb_transformer = xgb.transformer(instance_count = 1, instance_type = 'ml.m4.xlarge')"
   ]
  },
  {
   "cell_type": "markdown",
   "metadata": {},
   "source": [
    "Next we actually perform the transform job. When doing so we need to make sure to specify the type of data we are sending so that it is serialized correctly in the background. In our case we are providing our model with csv data so we specify `text/csv`. Also, if the test data that we have provided is too large to process all at once then we need to specify how the data file should be split up. Since each line is a single entry in our data set we tell SageMaker that it can split the input on each line."
   ]
  },
  {
   "cell_type": "code",
   "execution_count": 25,
   "metadata": {},
   "outputs": [],
   "source": [
    "xgb_transformer.transform(test_location, content_type='text/csv', split_type='Line')"
   ]
  },
  {
   "cell_type": "markdown",
   "metadata": {},
   "source": [
    "Currently the transform job is running but it is doing so in the background. Since we wish to wait until the transform job is done and we would like a bit of feedback we can run the `wait()` method."
   ]
  },
  {
   "cell_type": "code",
   "execution_count": 26,
   "metadata": {},
   "outputs": [
    {
     "name": "stdout",
     "output_type": "stream",
     "text": [
      ".....................\u001b[34mArguments: serve\u001b[0m\n",
      "\u001b[34m[2020-06-20 21:19:58 +0000] [1] [INFO] Starting gunicorn 19.7.1\u001b[0m\n",
      "\u001b[34m[2020-06-20 21:19:58 +0000] [1] [INFO] Listening at: http://0.0.0.0:8080 (1)\u001b[0m\n",
      "\u001b[34m[2020-06-20 21:19:58 +0000] [1] [INFO] Using worker: gevent\u001b[0m\n",
      "\u001b[34m[2020-06-20 21:19:58 +0000] [37] [INFO] Booting worker with pid: 37\u001b[0m\n",
      "\u001b[34m[2020-06-20 21:19:58 +0000] [38] [INFO] Booting worker with pid: 38\u001b[0m\n",
      "\u001b[34m[2020-06-20 21:19:59 +0000] [39] [INFO] Booting worker with pid: 39\u001b[0m\n",
      "\u001b[34m[2020-06-20 21:19:59 +0000] [40] [INFO] Booting worker with pid: 40\u001b[0m\n",
      "\u001b[34m[2020-06-20:21:19:59:INFO] Model loaded successfully for worker : 38\u001b[0m\n",
      "\u001b[34m[2020-06-20:21:19:59:INFO] Model loaded successfully for worker : 39\u001b[0m\n",
      "\u001b[34m[2020-06-20:21:19:59:INFO] Model loaded successfully for worker : 37\u001b[0m\n",
      "\u001b[34m[2020-06-20:21:19:59:INFO] Model loaded successfully for worker : 40\u001b[0m\n",
      "\u001b[34m[2020-06-20:21:20:22:INFO] Sniff delimiter as ','\u001b[0m\n",
      "\u001b[34m[2020-06-20:21:20:22:INFO] Determined delimiter of CSV input is ','\u001b[0m\n",
      "\u001b[34m[2020-06-20:21:20:22:INFO] Sniff delimiter as ','\u001b[0m\n",
      "\u001b[34m[2020-06-20:21:20:22:INFO] Determined delimiter of CSV input is ','\u001b[0m\n",
      "\u001b[34m[2020-06-20:21:20:23:INFO] Sniff delimiter as ','\u001b[0m\n",
      "\u001b[34m[2020-06-20:21:20:23:INFO] Determined delimiter of CSV input is ','\u001b[0m\n",
      "\u001b[35m[2020-06-20:21:20:22:INFO] Sniff delimiter as ','\u001b[0m\n",
      "\u001b[35m[2020-06-20:21:20:22:INFO] Determined delimiter of CSV input is ','\u001b[0m\n",
      "\u001b[35m[2020-06-20:21:20:22:INFO] Sniff delimiter as ','\u001b[0m\n",
      "\u001b[35m[2020-06-20:21:20:22:INFO] Determined delimiter of CSV input is ','\u001b[0m\n",
      "\u001b[35m[2020-06-20:21:20:23:INFO] Sniff delimiter as ','\u001b[0m\n",
      "\u001b[35m[2020-06-20:21:20:23:INFO] Determined delimiter of CSV input is ','\u001b[0m\n",
      "\u001b[32m2020-06-20T21:20:20.265:[sagemaker logs]: MaxConcurrentTransforms=4, MaxPayloadInMB=6, BatchStrategy=MULTI_RECORD\u001b[0m\n",
      "\u001b[34m[2020-06-20:21:20:23:INFO] Sniff delimiter as ','\u001b[0m\n",
      "\u001b[34m[2020-06-20:21:20:23:INFO] Determined delimiter of CSV input is ','\u001b[0m\n",
      "\u001b[35m[2020-06-20:21:20:23:INFO] Sniff delimiter as ','\u001b[0m\n",
      "\u001b[35m[2020-06-20:21:20:23:INFO] Determined delimiter of CSV input is ','\u001b[0m\n",
      "\u001b[34m[2020-06-20:21:20:25:INFO] Sniff delimiter as ','\u001b[0m\n",
      "\u001b[34m[2020-06-20:21:20:25:INFO] Determined delimiter of CSV input is ','\u001b[0m\n",
      "\u001b[34m[2020-06-20:21:20:25:INFO] Sniff delimiter as ','\u001b[0m\n",
      "\u001b[34m[2020-06-20:21:20:25:INFO] Determined delimiter of CSV input is ','\u001b[0m\n",
      "\u001b[34m[2020-06-20:21:20:25:INFO] Sniff delimiter as ','\u001b[0m\n",
      "\u001b[34m[2020-06-20:21:20:25:INFO] Determined delimiter of CSV input is ','\u001b[0m\n",
      "\u001b[34m[2020-06-20:21:20:25:INFO] Sniff delimiter as ','\u001b[0m\n",
      "\u001b[34m[2020-06-20:21:20:25:INFO] Determined delimiter of CSV input is ','\u001b[0m\n",
      "\u001b[35m[2020-06-20:21:20:25:INFO] Sniff delimiter as ','\u001b[0m\n",
      "\u001b[35m[2020-06-20:21:20:25:INFO] Determined delimiter of CSV input is ','\u001b[0m\n",
      "\u001b[35m[2020-06-20:21:20:25:INFO] Sniff delimiter as ','\u001b[0m\n",
      "\u001b[35m[2020-06-20:21:20:25:INFO] Determined delimiter of CSV input is ','\u001b[0m\n",
      "\u001b[35m[2020-06-20:21:20:25:INFO] Sniff delimiter as ','\u001b[0m\n",
      "\u001b[35m[2020-06-20:21:20:25:INFO] Determined delimiter of CSV input is ','\u001b[0m\n",
      "\u001b[35m[2020-06-20:21:20:25:INFO] Sniff delimiter as ','\u001b[0m\n",
      "\u001b[35m[2020-06-20:21:20:25:INFO] Determined delimiter of CSV input is ','\u001b[0m\n",
      "\u001b[34m[2020-06-20:21:20:30:INFO] Sniff delimiter as ','\u001b[0m\n",
      "\u001b[34m[2020-06-20:21:20:30:INFO] Determined delimiter of CSV input is ','\u001b[0m\n",
      "\u001b[34m[2020-06-20:21:20:30:INFO] Sniff delimiter as ','\u001b[0m\n",
      "\u001b[34m[2020-06-20:21:20:30:INFO] Determined delimiter of CSV input is ','\u001b[0m\n",
      "\u001b[34m[2020-06-20:21:20:30:INFO] Sniff delimiter as ','\u001b[0m\n",
      "\u001b[34m[2020-06-20:21:20:30:INFO] Determined delimiter of CSV input is ','\u001b[0m\n",
      "\u001b[34m[2020-06-20:21:20:30:INFO] Sniff delimiter as ','\u001b[0m\n",
      "\u001b[34m[2020-06-20:21:20:30:INFO] Determined delimiter of CSV input is ','\u001b[0m\n",
      "\u001b[35m[2020-06-20:21:20:30:INFO] Sniff delimiter as ','\u001b[0m\n",
      "\u001b[35m[2020-06-20:21:20:30:INFO] Determined delimiter of CSV input is ','\u001b[0m\n",
      "\u001b[35m[2020-06-20:21:20:30:INFO] Sniff delimiter as ','\u001b[0m\n",
      "\u001b[35m[2020-06-20:21:20:30:INFO] Determined delimiter of CSV input is ','\u001b[0m\n",
      "\u001b[35m[2020-06-20:21:20:30:INFO] Sniff delimiter as ','\u001b[0m\n",
      "\u001b[35m[2020-06-20:21:20:30:INFO] Determined delimiter of CSV input is ','\u001b[0m\n",
      "\u001b[35m[2020-06-20:21:20:30:INFO] Sniff delimiter as ','\u001b[0m\n",
      "\u001b[35m[2020-06-20:21:20:30:INFO] Determined delimiter of CSV input is ','\u001b[0m\n",
      "\u001b[34m[2020-06-20:21:20:32:INFO] Sniff delimiter as ','\u001b[0m\n",
      "\u001b[34m[2020-06-20:21:20:32:INFO] Determined delimiter of CSV input is ','\u001b[0m\n",
      "\u001b[34m[2020-06-20:21:20:32:INFO] Sniff delimiter as ','\u001b[0m\n",
      "\u001b[34m[2020-06-20:21:20:32:INFO] Determined delimiter of CSV input is ','\u001b[0m\n",
      "\u001b[34m[2020-06-20:21:20:32:INFO] Sniff delimiter as ','\u001b[0m\n",
      "\u001b[34m[2020-06-20:21:20:32:INFO] Determined delimiter of CSV input is ','\u001b[0m\n",
      "\u001b[35m[2020-06-20:21:20:32:INFO] Sniff delimiter as ','\u001b[0m\n",
      "\u001b[35m[2020-06-20:21:20:32:INFO] Determined delimiter of CSV input is ','\u001b[0m\n",
      "\u001b[35m[2020-06-20:21:20:32:INFO] Sniff delimiter as ','\u001b[0m\n",
      "\u001b[35m[2020-06-20:21:20:32:INFO] Determined delimiter of CSV input is ','\u001b[0m\n",
      "\u001b[35m[2020-06-20:21:20:32:INFO] Sniff delimiter as ','\u001b[0m\n",
      "\u001b[35m[2020-06-20:21:20:32:INFO] Determined delimiter of CSV input is ','\u001b[0m\n",
      "\u001b[34m[2020-06-20:21:20:33:INFO] Sniff delimiter as ','\u001b[0m\n",
      "\u001b[34m[2020-06-20:21:20:33:INFO] Determined delimiter of CSV input is ','\u001b[0m\n",
      "\u001b[35m[2020-06-20:21:20:33:INFO] Sniff delimiter as ','\u001b[0m\n",
      "\u001b[35m[2020-06-20:21:20:33:INFO] Determined delimiter of CSV input is ','\u001b[0m\n",
      "\u001b[34m[2020-06-20:21:20:35:INFO] Sniff delimiter as ','\u001b[0m\n",
      "\u001b[34m[2020-06-20:21:20:35:INFO] Determined delimiter of CSV input is ','\u001b[0m\n",
      "\u001b[35m[2020-06-20:21:20:35:INFO] Sniff delimiter as ','\u001b[0m\n",
      "\u001b[35m[2020-06-20:21:20:35:INFO] Determined delimiter of CSV input is ','\u001b[0m\n",
      "\u001b[34m[2020-06-20:21:20:35:INFO] Sniff delimiter as ','\u001b[0m\n",
      "\u001b[34m[2020-06-20:21:20:35:INFO] Determined delimiter of CSV input is ','\u001b[0m\n",
      "\u001b[34m[2020-06-20:21:20:35:INFO] Sniff delimiter as ','\u001b[0m\n",
      "\u001b[35m[2020-06-20:21:20:35:INFO] Sniff delimiter as ','\u001b[0m\n",
      "\u001b[35m[2020-06-20:21:20:35:INFO] Determined delimiter of CSV input is ','\u001b[0m\n",
      "\u001b[35m[2020-06-20:21:20:35:INFO] Sniff delimiter as ','\u001b[0m\n",
      "\u001b[34m[2020-06-20:21:20:35:INFO] Determined delimiter of CSV input is ','\u001b[0m\n",
      "\u001b[34m[2020-06-20:21:20:35:INFO] Sniff delimiter as ','\u001b[0m\n",
      "\u001b[34m[2020-06-20:21:20:35:INFO] Determined delimiter of CSV input is ','\u001b[0m\n",
      "\u001b[35m[2020-06-20:21:20:35:INFO] Determined delimiter of CSV input is ','\u001b[0m\n",
      "\u001b[35m[2020-06-20:21:20:35:INFO] Sniff delimiter as ','\u001b[0m\n",
      "\u001b[35m[2020-06-20:21:20:35:INFO] Determined delimiter of CSV input is ','\u001b[0m\n",
      "\u001b[34m[2020-06-20:21:20:37:INFO] Determined delimiter of CSV input is ','\u001b[0m\n",
      "\u001b[34m[2020-06-20:21:20:37:INFO] Sniff delimiter as ','\u001b[0m\n",
      "\u001b[34m[2020-06-20:21:20:37:INFO] Determined delimiter of CSV input is ','\u001b[0m\n",
      "\u001b[34m[2020-06-20:21:20:38:INFO] Sniff delimiter as ','\u001b[0m\n",
      "\u001b[34m[2020-06-20:21:20:38:INFO] Determined delimiter of CSV input is ','\u001b[0m\n",
      "\u001b[35m[2020-06-20:21:20:37:INFO] Determined delimiter of CSV input is ','\u001b[0m\n",
      "\u001b[35m[2020-06-20:21:20:37:INFO] Sniff delimiter as ','\u001b[0m\n",
      "\u001b[35m[2020-06-20:21:20:37:INFO] Determined delimiter of CSV input is ','\u001b[0m\n",
      "\u001b[35m[2020-06-20:21:20:38:INFO] Sniff delimiter as ','\u001b[0m\n",
      "\u001b[35m[2020-06-20:21:20:38:INFO] Determined delimiter of CSV input is ','\u001b[0m\n",
      "\u001b[34m[2020-06-20:21:20:40:INFO] Sniff delimiter as ','\u001b[0m\n",
      "\u001b[34m[2020-06-20:21:20:40:INFO] Determined delimiter of CSV input is ','\u001b[0m\n",
      "\u001b[35m[2020-06-20:21:20:40:INFO] Sniff delimiter as ','\u001b[0m\n",
      "\u001b[35m[2020-06-20:21:20:40:INFO] Determined delimiter of CSV input is ','\u001b[0m\n",
      "\u001b[34m[2020-06-20:21:20:40:INFO] Sniff delimiter as ','\u001b[0m\n",
      "\u001b[34m[2020-06-20:21:20:40:INFO] Determined delimiter of CSV input is ','\u001b[0m\n",
      "\u001b[34m[2020-06-20:21:20:40:INFO] Sniff delimiter as ','\u001b[0m\n",
      "\u001b[34m[2020-06-20:21:20:40:INFO] Determined delimiter of CSV input is ','\u001b[0m\n",
      "\u001b[34m[2020-06-20:21:20:40:INFO] Sniff delimiter as ','\u001b[0m\n",
      "\u001b[34m[2020-06-20:21:20:40:INFO] Determined delimiter of CSV input is ','\u001b[0m\n",
      "\u001b[35m[2020-06-20:21:20:40:INFO] Sniff delimiter as ','\u001b[0m\n",
      "\u001b[35m[2020-06-20:21:20:40:INFO] Determined delimiter of CSV input is ','\u001b[0m\n",
      "\u001b[35m[2020-06-20:21:20:40:INFO] Sniff delimiter as ','\u001b[0m\n",
      "\u001b[35m[2020-06-20:21:20:40:INFO] Determined delimiter of CSV input is ','\u001b[0m\n",
      "\u001b[35m[2020-06-20:21:20:40:INFO] Sniff delimiter as ','\u001b[0m\n",
      "\u001b[35m[2020-06-20:21:20:40:INFO] Determined delimiter of CSV input is ','\u001b[0m\n",
      "\u001b[34m[2020-06-20:21:20:42:INFO] Sniff delimiter as ','\u001b[0m\n",
      "\u001b[34m[2020-06-20:21:20:42:INFO] Determined delimiter of CSV input is ','\u001b[0m\n",
      "\u001b[34m[2020-06-20:21:20:42:INFO] Sniff delimiter as ','\u001b[0m\n",
      "\u001b[34m[2020-06-20:21:20:42:INFO] Determined delimiter of CSV input is ','\u001b[0m\n",
      "\u001b[34m[2020-06-20:21:20:42:INFO] Sniff delimiter as ','\u001b[0m\n",
      "\u001b[34m[2020-06-20:21:20:42:INFO] Determined delimiter of CSV input is ','\u001b[0m\n",
      "\u001b[34m[2020-06-20:21:20:42:INFO] Sniff delimiter as ','\u001b[0m\n",
      "\u001b[34m[2020-06-20:21:20:42:INFO] Determined delimiter of CSV input is ','\u001b[0m\n",
      "\u001b[35m[2020-06-20:21:20:42:INFO] Sniff delimiter as ','\u001b[0m\n",
      "\u001b[35m[2020-06-20:21:20:42:INFO] Determined delimiter of CSV input is ','\u001b[0m\n",
      "\u001b[35m[2020-06-20:21:20:42:INFO] Sniff delimiter as ','\u001b[0m\n",
      "\u001b[35m[2020-06-20:21:20:42:INFO] Determined delimiter of CSV input is ','\u001b[0m\n",
      "\u001b[35m[2020-06-20:21:20:42:INFO] Sniff delimiter as ','\u001b[0m\n",
      "\u001b[35m[2020-06-20:21:20:42:INFO] Determined delimiter of CSV input is ','\u001b[0m\n",
      "\u001b[35m[2020-06-20:21:20:42:INFO] Sniff delimiter as ','\u001b[0m\n",
      "\u001b[35m[2020-06-20:21:20:42:INFO] Determined delimiter of CSV input is ','\u001b[0m\n",
      "\u001b[34m[2020-06-20:21:20:44:INFO] Sniff delimiter as ','\u001b[0m\n",
      "\u001b[34m[2020-06-20:21:20:44:INFO] Determined delimiter of CSV input is ','\u001b[0m\n",
      "\u001b[34m[2020-06-20:21:20:44:INFO] Sniff delimiter as ','\u001b[0m\n",
      "\u001b[34m[2020-06-20:21:20:44:INFO] Determined delimiter of CSV input is ','\u001b[0m\n",
      "\u001b[34m[2020-06-20:21:20:45:INFO] Sniff delimiter as ','\u001b[0m\n",
      "\u001b[34m[2020-06-20:21:20:45:INFO] Determined delimiter of CSV input is ','\u001b[0m\n",
      "\u001b[35m[2020-06-20:21:20:44:INFO] Sniff delimiter as ','\u001b[0m\n",
      "\u001b[35m[2020-06-20:21:20:44:INFO] Determined delimiter of CSV input is ','\u001b[0m\n",
      "\u001b[35m[2020-06-20:21:20:44:INFO] Sniff delimiter as ','\u001b[0m\n",
      "\u001b[35m[2020-06-20:21:20:44:INFO] Determined delimiter of CSV input is ','\u001b[0m\n",
      "\u001b[35m[2020-06-20:21:20:45:INFO] Sniff delimiter as ','\u001b[0m\n",
      "\u001b[35m[2020-06-20:21:20:45:INFO] Determined delimiter of CSV input is ','\u001b[0m\n",
      "\u001b[34m[2020-06-20:21:20:45:INFO] Sniff delimiter as ','\u001b[0m\n",
      "\u001b[34m[2020-06-20:21:20:45:INFO] Determined delimiter of CSV input is ','\u001b[0m\n",
      "\u001b[35m[2020-06-20:21:20:45:INFO] Sniff delimiter as ','\u001b[0m\n",
      "\u001b[35m[2020-06-20:21:20:45:INFO] Determined delimiter of CSV input is ','\u001b[0m\n"
     ]
    },
    {
     "name": "stdout",
     "output_type": "stream",
     "text": [
      "\n"
     ]
    }
   ],
   "source": [
    "xgb_transformer.wait()"
   ]
  },
  {
   "cell_type": "markdown",
   "metadata": {},
   "source": [
    "Now the transform job has executed and the result, the estimated sentiment of each review, has been saved on S3. Since we would rather work on this file locally we can perform a bit of notebook magic to copy the file to the `data_dir`."
   ]
  },
  {
   "cell_type": "code",
   "execution_count": 27,
   "metadata": {},
   "outputs": [
    {
     "name": "stdout",
     "output_type": "stream",
     "text": [
      "Completed 256.0 KiB/369.6 KiB (2.1 MiB/s) with 1 file(s) remaining\r",
      "Completed 369.6 KiB/369.6 KiB (3.0 MiB/s) with 1 file(s) remaining\r",
      "download: s3://sagemaker-us-east-2-927731155833/xgboost-2020-06-20-21-16-40-921/test.csv.out to ../data/sentiment_web_app/test.csv.out\r\n"
     ]
    }
   ],
   "source": [
    "!aws s3 cp --recursive $xgb_transformer.output_path $data_dir"
   ]
  },
  {
   "cell_type": "markdown",
   "metadata": {},
   "source": [
    "The last step is now to read in the output from our model, convert the output to something a little more usable, in this case we want the sentiment to be either `1` (positive) or `0` (negative), and then compare to the ground truth labels."
   ]
  },
  {
   "cell_type": "code",
   "execution_count": 31,
   "metadata": {},
   "outputs": [],
   "source": [
    "predictions = pd.read_csv(os.path.join(data_dir, 'test.csv.out'), header=None)\n",
    "predictions = [round(num) for num in predictions.squeeze().values]"
   ]
  },
  {
   "cell_type": "code",
   "execution_count": 32,
   "metadata": {},
   "outputs": [
    {
     "data": {
      "text/plain": [
       "0.85732"
      ]
     },
     "execution_count": 32,
     "metadata": {},
     "output_type": "execute_result"
    }
   ],
   "source": [
    "from sklearn.metrics import accuracy_score\n",
    "accuracy_score(test_y, predictions)"
   ]
  },
  {
   "cell_type": "markdown",
   "metadata": {},
   "source": [
    "## Step 6: Deploying the model\n",
    "\n",
    "Once we construct and fit our model, SageMaker stores the resulting model artifacts and we can use those to deploy an endpoint (inference code). To see this, look in the SageMaker console and you should see that a model has been created along with a link to the S3 location where the model artifacts have been stored.\n",
    "\n",
    "Deploying an endpoint is a lot like training the model with a few important differences. The first is that a deployed model doesn't change the model artifacts, so as you send it various testing instances the model won't change. Another difference is that since we aren't performing a fixed computation, as we were in the training step or while performing a batch transform, the compute instance that gets started stays running until we tell it to stop. This is important to note as if we forget and leave it running we will be charged the entire time.\n",
    "\n",
    "In other words **If you are no longer using a deployed endpoint, shut it down!**"
   ]
  },
  {
   "cell_type": "code",
   "execution_count": 33,
   "metadata": {},
   "outputs": [
    {
     "name": "stderr",
     "output_type": "stream",
     "text": [
      "WARNING:sagemaker:Parameter image will be renamed to image_uri in SageMaker Python SDK v2.\n",
      "WARNING:sagemaker:Using already existing model: xgboost-2020-06-20-21-09-56-057\n"
     ]
    },
    {
     "name": "stdout",
     "output_type": "stream",
     "text": [
      "-------------!"
     ]
    }
   ],
   "source": [
    "xgb_predictor = xgb.deploy(initial_instance_count = 1, instance_type = 'ml.m4.xlarge')"
   ]
  },
  {
   "cell_type": "markdown",
   "metadata": {},
   "source": [
    "### Testing the model (again)\n",
    "\n",
    "Now that we have deployed our endpoint, we can send the testing data to it and get back the inference results. We already did this earlier using the batch transform functionality of SageMaker, however, we will test our model again using the newly deployed endpoint so that we can make sure that it works properly and to get a bit of a feel for how the endpoint works.\n",
    "\n",
    "When using the created endpoint it is important to know that we are limited in the amount of information we can send in each call so we need to break the testing data up into chunks and then send each chunk. Also, we need to serialize our data before we send it to the endpoint to ensure that our data is transmitted properly. Fortunately, SageMaker can do the serialization part for us provided we tell it the format of our data."
   ]
  },
  {
   "cell_type": "code",
   "execution_count": 34,
   "metadata": {},
   "outputs": [],
   "source": [
    "from sagemaker.predictor import csv_serializer\n",
    "\n",
    "# We need to tell the endpoint what format the data we are sending is in so that SageMaker can perform the serialization.\n",
    "xgb_predictor.content_type = 'text/csv'\n",
    "xgb_predictor.serializer = csv_serializer"
   ]
  },
  {
   "cell_type": "code",
   "execution_count": 37,
   "metadata": {},
   "outputs": [],
   "source": [
    "# We split the data into chunks and send each chunk seperately, accumulating the results.\n",
    "\n",
    "def predict(data, rows=512):\n",
    "    split_array = np.array_split(data, int(data.shape[0] / float(rows) + 1))\n",
    "    predictions = ''\n",
    "    for i, array in enumerate(split_array):\n",
    "        predictions = ','.join([predictions, xgb_predictor.predict(array).decode('utf-8')])\n",
    "    \n",
    "    return np.fromstring(predictions[1:], sep=',')"
   ]
  },
  {
   "cell_type": "code",
   "execution_count": 38,
   "metadata": {},
   "outputs": [],
   "source": [
    "test_X = pd.read_csv(os.path.join(data_dir, 'test.csv'), header=None).values\n",
    "\n",
    "predictions = predict(test_X)\n",
    "predictions = [round(num) for num in predictions]"
   ]
  },
  {
   "cell_type": "markdown",
   "metadata": {},
   "source": [
    "Lastly, we check to see what the accuracy of our model is."
   ]
  },
  {
   "cell_type": "code",
   "execution_count": 39,
   "metadata": {},
   "outputs": [
    {
     "data": {
      "text/plain": [
       "0.85732"
      ]
     },
     "execution_count": 39,
     "metadata": {},
     "output_type": "execute_result"
    }
   ],
   "source": [
    "from sklearn.metrics import accuracy_score\n",
    "accuracy_score(test_y, predictions)"
   ]
  },
  {
   "cell_type": "markdown",
   "metadata": {},
   "source": [
    "And the results here should agree with the model testing that we did earlier using the batch transform job.\n",
    "\n",
    "### Cleaning up\n",
    "\n",
    "Now that we've determined that deploying our model works as expected, we are going to shut it down. Remember that the longer the endpoint is left running, the greater the cost and since we have a bit more work to do before we are able to use our endpoint with our simple web app, we should shut everything down."
   ]
  },
  {
   "cell_type": "code",
   "execution_count": 40,
   "metadata": {},
   "outputs": [],
   "source": [
    "xgb_predictor.delete_endpoint()"
   ]
  },
  {
   "cell_type": "markdown",
   "metadata": {},
   "source": [
    "## Step 7: Putting our model to work\n",
    "\n",
    "As we've mentioned a few times now, our goal is to have our model deployed and then access it using a very simple web app. The intent is for this web app to take some user submitted data (a review), send it off to our endpoint (the model) and then display the result.\n",
    "\n",
    "However, there is a small catch. Currently the only way we can access the endpoint to send it data is using the SageMaker API. We can, if we wish, expose the actual URL that our model's endpoint is receiving data from, however, if we just send it data ourselves we will not get anything in return. This is because the endpoint created by SageMaker requires the entity accessing it have the correct permissions. So, we would need to somehow authenticate our web app with AWS.\n",
    "\n",
    "Having a website that authenticates to AWS seems a bit beyond the scope of this lesson so we will opt for an alternative approach. Namely, we will create a new endpoint which does not require authentication and which acts as a proxy for the SageMaker endpoint.\n",
    "\n",
    "As an additional constraint, we will try to avoid doing any data processing in the web app itself. Remember that when we constructed and tested our model we started with a movie review, then we simplified it by removing any html formatting and punctuation, then we constructed a bag of words embedding and the resulting vector is what we sent to our model. All of this needs to be done to our user input as well.\n",
    "\n",
    "Fortunately we can do all of this data processing in the backend, using Amazon's Lambda service.\n",
    "\n",
    "<img src=\"Web App Diagram.svg\">\n",
    "\n",
    "The diagram above gives an overview of how the various services will work together. On the far right is the model which we trained above and which will be deployed using SageMaker. On the far left is our web app that collects a user's movie review, sends it off and expects a positive or negative sentiment in return.\n",
    "\n",
    "In the middle is where some of the magic happens. We will construct a Lambda function, which you can think of as a straightforward Python function that can be executed whenever a specified event occurs. This Python function will do the data processing we need to perform on a user submitted review. In addition, we will give this function permission to send and recieve data from a SageMaker endpoint.\n",
    "\n",
    "Lastly, the method we will use to execute the Lambda function is a new endpoint that we will create using API Gateway. This endpoint will be a url that listens for data to be sent to it. Once it gets some data it will pass that data on to the Lambda function and then return whatever the Lambda function returns. Essentially it will act as an interface that lets our web app communicate with the Lambda function.\n",
    "\n",
    "### Processing a single review\n",
    "\n",
    "For now, suppose we are given a movie review by our user in the form of a string, like so:"
   ]
  },
  {
   "cell_type": "code",
   "execution_count": 41,
   "metadata": {},
   "outputs": [],
   "source": [
    "test_review = \"Nothing but a disgusting materialistic pageant of glistening abed remote control greed zombies, totally devoid of any heart or heat. A romantic comedy that has zero romantic chemestry and zero laughs!\""
   ]
  },
  {
   "cell_type": "markdown",
   "metadata": {},
   "source": [
    "How do we go from this string to the bag of words feature vector that is expected by our model?\n",
    "\n",
    "If we recall at the beginning of this notebook, the first step is to remove any unnecessary characters using the `review_to_words` method. Remember that we intentionally did this in a very simplistic way. This is because we are going to have to copy this method to our (eventual) Lambda function (we will go into more detail later) and this means it needs to be rather simplistic."
   ]
  },
  {
   "cell_type": "code",
   "execution_count": 42,
   "metadata": {},
   "outputs": [
    {
     "name": "stdout",
     "output_type": "stream",
     "text": [
      "nothing but a disgusting materialistic pageant of glistening abed remote control greed zombies totally devoid of any heart or heat a romantic comedy that has zero romantic chemestry and zero laughs\n"
     ]
    }
   ],
   "source": [
    "test_words = review_to_words(test_review)\n",
    "print(test_words)"
   ]
  },
  {
   "cell_type": "markdown",
   "metadata": {},
   "source": [
    "Next, we need to construct a bag of words embedding of the `test_words` string. To do this, remember that a bag of words embedding uses a `vocabulary` consisting of the most frequently appearing words in a set of documents. Then, for each word in the vocabulary we record the number of times that word appears in `test_words`. We constructed the `vocabulary` earlier using the training set for our problem so encoding `test_words` is relatively straightforward."
   ]
  },
  {
   "cell_type": "code",
   "execution_count": 45,
   "metadata": {},
   "outputs": [],
   "source": [
    "def bow_encoding(words, vocabulary):\n",
    "    bow = [0] * len(vocabulary) # Start by setting the count for each word in the vocabulary to zero.\n",
    "    for word in words.split():  # For each word in the string\n",
    "        if word in vocabulary:  # If the word is one that occurs in the vocabulary, increase its count.\n",
    "            bow[vocabulary[word]] += 1\n",
    "    return bow"
   ]
  },
  {
   "cell_type": "code",
   "execution_count": 46,
   "metadata": {},
   "outputs": [
    {
     "name": "stdout",
     "output_type": "stream",
     "text": [
      "[0, 0, 0, 0, 0, 0, 0, 0, 0, 0, 0, 0, 0, 0, 0, 0, 0, 0, 0, 0, 0, 0, 0, 0, 0, 0, 0, 0, 0, 0, 0, 0, 0, 0, 0, 0, 0, 0, 0, 0, 0, 0, 0, 0, 0, 0, 0, 0, 0, 0, 0, 0, 0, 0, 0, 0, 0, 0, 0, 0, 0, 0, 0, 0, 0, 0, 0, 0, 0, 0, 0, 0, 0, 0, 0, 0, 0, 0, 0, 0, 0, 0, 0, 0, 0, 0, 0, 0, 0, 0, 0, 0, 0, 0, 0, 0, 0, 0, 0, 0, 0, 0, 0, 0, 0, 0, 0, 0, 0, 0, 0, 0, 0, 0, 0, 0, 0, 0, 0, 0, 0, 0, 0, 0, 0, 0, 0, 0, 0, 0, 0, 0, 0, 0, 0, 0, 0, 0, 0, 0, 0, 0, 0, 0, 0, 0, 0, 0, 0, 0, 0, 0, 0, 0, 0, 0, 0, 0, 0, 0, 0, 0, 0, 0, 0, 0, 0, 0, 0, 0, 0, 0, 0, 0, 0, 0, 0, 0, 0, 0, 0, 0, 0, 0, 0, 0, 0, 0, 0, 0, 0, 0, 0, 0, 0, 0, 0, 0, 0, 0, 0, 0, 0, 0, 0, 0, 0, 0, 0, 0, 0, 0, 0, 0, 0, 0, 0, 0, 0, 0, 0, 0, 0, 0, 0, 0, 1, 0, 0, 0, 0, 0, 0, 0, 0, 0, 0, 0, 0, 0, 0, 0, 0, 0, 0, 0, 0, 0, 0, 0, 0, 0, 0, 0, 0, 0, 1, 0, 0, 0, 0, 0, 0, 0, 0, 0, 0, 0, 0, 0, 0, 0, 0, 0, 0, 0, 0, 0, 0, 0, 0, 0, 0, 0, 0, 0, 0, 0, 0, 0, 0, 0, 0, 0, 0, 0, 0, 0, 0, 0, 0, 0, 0, 0, 0, 0, 0, 0, 0, 0, 0, 0, 0, 0, 0, 0, 0, 0, 0, 0, 0, 0, 0, 0, 0, 0, 0, 0, 0, 0, 0, 0, 0, 0, 0, 0, 0, 0, 0, 0, 0, 0, 0, 0, 0, 0, 0, 0, 0, 0, 0, 0, 0, 0, 0, 0, 0, 0, 0, 0, 0, 0, 0, 0, 0, 0, 0, 0, 0, 0, 0, 0, 0, 0, 0, 0, 0, 0, 0, 0, 0, 0, 0, 0, 0, 0, 0, 0, 0, 0, 0, 0, 0, 0, 0, 0, 0, 0, 0, 0, 0, 0, 0, 0, 0, 0, 0, 0, 0, 0, 0, 0, 0, 0, 0, 0, 0, 0, 0, 0, 0, 0, 0, 0, 0, 0, 0, 0, 0, 0, 0, 0, 0, 0, 0, 0, 0, 0, 0, 0, 0, 0, 0, 0, 0, 0, 0, 0, 0, 0, 0, 0, 0, 0, 0, 0, 0, 0, 0, 0, 0, 0, 0, 0, 0, 0, 0, 0, 0, 0, 0, 0, 0, 0, 0, 0, 0, 0, 0, 0, 0, 0, 0, 0, 0, 0, 0, 0, 0, 0, 0, 0, 0, 0, 0, 0, 0, 0, 0, 0, 0, 0, 0, 0, 0, 0, 0, 0, 0, 0, 0, 0, 0, 0, 0, 0, 0, 0, 0, 0, 0, 0, 0, 0, 0, 0, 0, 0, 0, 0, 0, 0, 0, 0, 0, 0, 0, 0, 0, 0, 0, 0, 0, 0, 0, 0, 0, 0, 0, 0, 0, 0, 0, 0, 0, 0, 0, 0, 0, 0, 0, 0, 0, 0, 0, 0, 0, 0, 0, 0, 0, 0, 0, 0, 0, 0, 0, 0, 0, 0, 0, 0, 0, 0, 0, 0, 0, 0, 0, 0, 0, 0, 0, 0, 0, 0, 0, 0, 0, 0, 0, 0, 0, 0, 0, 0, 0, 0, 0, 0, 0, 0, 0, 0, 0, 0, 0, 0, 0, 0, 0, 0, 0, 0, 0, 0, 0, 0, 0, 0, 0, 0, 0, 0, 0, 0, 1, 0, 0, 0, 0, 0, 0, 0, 0, 0, 0, 0, 0, 0, 0, 0, 0, 0, 0, 0, 0, 0, 0, 0, 0, 0, 0, 0, 0, 0, 0, 0, 0, 0, 0, 0, 0, 0, 0, 0, 0, 0, 0, 0, 0, 0, 0, 0, 0, 0, 0, 0, 0, 0, 0, 0, 0, 0, 0, 0, 0, 0, 0, 0, 0, 0, 0, 0, 0, 0, 0, 0, 0, 0, 0, 0, 0, 0, 0, 0, 0, 0, 0, 0, 0, 0, 0, 0, 0, 0, 0, 0, 0, 0, 0, 0, 0, 0, 0, 0, 0, 0, 0, 0, 0, 0, 0, 0, 0, 0, 0, 0, 0, 0, 0, 0, 0, 0, 0, 0, 0, 0, 0, 0, 0, 0, 0, 0, 0, 0, 0, 0, 0, 0, 0, 0, 0, 0, 0, 0, 0, 0, 0, 0, 0, 0, 0, 0, 0, 0, 0, 0, 0, 0, 0, 0, 0, 0, 0, 0, 0, 0, 0, 0, 0, 0, 0, 0, 0, 0, 0, 0, 0, 0, 0, 0, 0, 0, 0, 0, 0, 0, 0, 0, 0, 0, 0, 0, 0, 0, 0, 0, 0, 0, 0, 0, 0, 0, 0, 0, 0, 0, 0, 0, 0, 0, 0, 0, 0, 0, 0, 0, 0, 0, 0, 0, 0, 0, 0, 0, 0, 0, 0, 0, 0, 0, 0, 0, 0, 0, 0, 0, 0, 0, 0, 0, 0, 0, 0, 0, 0, 0, 0, 0, 0, 0, 0, 0, 0, 0, 0, 0, 0, 0, 1, 0, 0, 0, 0, 0, 0, 0, 0, 0, 0, 0, 0, 0, 0, 0, 0, 0, 0, 0, 0, 0, 0, 0, 0, 0, 0, 0, 0, 0, 0, 0, 0, 0, 0, 0, 0, 0, 0, 0, 0, 0, 0, 0, 0, 0, 0, 0, 0, 0, 0, 0, 0, 0, 0, 0, 0, 0, 0, 0, 0, 0, 0, 0, 0, 0, 0, 0, 0, 0, 0, 0, 0, 0, 0, 0, 0, 0, 0, 0, 0, 0, 0, 0, 0, 0, 0, 1, 0, 0, 0, 0, 0, 0, 0, 0, 0, 0, 0, 0, 0, 0, 0, 0, 0, 0, 0, 0, 0, 0, 0, 0, 0, 0, 0, 0, 0, 0, 0, 0, 0, 0, 0, 0, 0, 0, 0, 0, 0, 0, 0, 0, 0, 0, 0, 0, 0, 0, 0, 0, 0, 0, 0, 0, 0, 0, 0, 0, 0, 0, 0, 0, 0, 0, 0, 0, 0, 0, 0, 0, 0, 0, 0, 0, 0, 0, 0, 0, 0, 0, 0, 0, 0, 0, 0, 0, 0, 0, 0, 0, 0, 0, 0, 0, 0, 0, 0, 0, 0, 0, 0, 0, 0, 0, 0, 0, 0, 0, 0, 0, 0, 0, 0, 0, 0, 0, 0, 0, 0, 0, 0, 0, 0, 0, 0, 0, 0, 0, 0, 0, 0, 0, 0, 0, 0, 0, 0, 0, 0, 0, 0, 0, 0, 0, 0, 0, 0, 0, 0, 0, 0, 0, 0, 0, 0, 0, 0, 0, 0, 0, 0, 0, 0, 0, 0, 0, 0, 0, 0, 0, 0, 0, 0, 0, 0, 0, 0, 0, 0, 0, 0, 0, 0, 0, 0, 0, 0, 0, 0, 0, 0, 0, 0, 0, 0, 0, 0, 0, 0, 0, 0, 0, 0, 0, 0, 0, 0, 0, 0, 0, 0, 0, 0, 0, 0, 0, 0, 0, 0, 0, 0, 0, 0, 0, 0, 0, 0, 0, 0, 0, 0, 0, 0, 0, 0, 0, 0, 0, 0, 0, 0, 0, 0, 0, 0, 0, 0, 0, 0, 0, 1, 0, 0, 0, 0, 0, 0, 0, 0, 0, 0, 0, 0, 0, 0, 0, 0, 0, 0, 0, 0, 0, 0, 0, 0, 0, 0, 0, 0, 0, 0, 0, 0, 0, 0, 0, 0, 0, 0, 0, 0, 0, 0, 0, 0, 0, 0, 0, 0, 0, 0, 0, 0, 0, 0, 0, 1, 0, 0, 0, 0, 0, 0, 0, 0, 0, 0, 0, 0, 0, 0, 0, 0, 0, 0, 0, 0, 0, 0, 0, 0, 0, 0, 0, 0, 0, 0, 0, 0, 0, 0, 0, 0, 0, 0, 0, 0, 0, 0, 0, 0, 0, 0, 0, 0, 0, 0, 0, 0, 0, 0, 0, 0, 0, 0, 0, 0, 0, 0, 0, 0, 0, 0, 0, 0, 0, 0, 0, 0, 0, 0, 0, 0, 0, 0, 0, 0, 0, 0, 0, 0, 0, 0, 0, 0, 0, 0, 0, 0, 0, 0, 0, 0, 0, 0, 0, 0, 0, 0, 0, 0, 0, 0, 0, 0, 0, 0, 0, 0, 0, 0, 0, 0, 0, 0, 0, 0, 0, 0, 0, 0, 0, 0, 0, 0, 0, 0, 0, 0, 0, 0, 0, 0, 0, 0, 0, 0, 0, 0, 0, 0, 0, 0, 0, 0, 0, 0, 0, 0, 0, 0, 0, 0, 0, 0, 0, 0, 0, 0, 0, 0, 0, 0, 0, 0, 0, 0, 0, 0, 0, 0, 0, 0, 0, 0, 0, 0, 0, 0, 0, 0, 0, 0, 0, 0, 0, 0, 0, 0, 0, 0, 0, 0, 0, 0, 0, 0, 0, 0, 0, 0, 0, 0, 0, 0, 0, 0, 0, 0, 0, 0, 0, 0, 0, 0, 0, 0, 0, 0, 0, 0, 0, 0, 0, 0, 0, 0, 0, 0, 0, 0, 0, 0, 0, 0, 0, 0, 0, 0, 0, 0, 0, 0, 0, 0, 0, 0, 0, 0, 0, 0, 0, 0, 0, 0, 0, 0, 0, 0, 0, 0, 0, 0, 0, 0, 0, 0, 0, 0, 0, 0, 0, 0, 0, 0, 0, 0, 0, 0, 0, 0, 0, 0, 0, 0, 0, 0, 0, 0, 0, 0, 0, 0, 0, 0, 0, 0, 0, 0, 0, 0, 0, 0, 0, 0, 0, 0, 0, 0, 0, 0, 0, 0, 0, 0, 0, 0, 0, 0, 0, 0, 0, 0, 0, 0, 0, 0, 0, 0, 0, 0, 0, 0, 0, 0, 0, 0, 0, 0, 0, 0, 0, 0, 0, 0, 0, 0, 0, 0, 0, 0, 0, 0, 0, 0, 0, 0, 0, 0, 0, 0, 0, 0, 0, 0, 0, 0, 0, 0, 0, 0, 0, 0, 0, 0, 0, 0, 0, 0, 0, 0, 0, 0, 0, 0, 0, 0, 0, 0, 0, 0, 0, 0, 0, 0, 0, 0, 0, 0, 0, 0, 0, 0, 0, 0, 0, 0, 0, 0, 0, 0, 0, 0, 0, 0, 0, 0, 0, 0, 0, 0, 0, 0, 0, 0, 0, 0, 0, 0, 0, 0, 0, 0, 0, 0, 0, 0, 0, 0, 0, 0, 0, 0, 0, 0, 0, 0, 0, 0, 0, 0, 0, 0, 0, 0, 0, 0, 0, 0, 0, 0, 0, 0, 0, 0, 0, 0, 0, 0, 0, 0, 0, 0, 0, 0, 0, 0, 0, 0, 0, 0, 0, 0, 0, 0, 0, 0, 0, 0, 0, 0, 0, 0, 0, 0, 0, 0, 0, 0, 0, 0, 0, 0, 0, 0, 0, 0, 0, 0, 0, 0, 0, 0, 0, 0, 0, 0, 0, 0, 0, 0, 0, 0, 0, 0, 0, 0, 0, 0, 0, 0, 0, 0, 0, 0, 0, 0, 0, 0, 0, 0, 0, 0, 0, 0, 0, 0, 0, 0, 0, 0, 0, 0, 0, 0, 0, 0, 0, 0, 0, 0, 0, 0, 0, 0, 0, 0, 0, 0, 0, 0, 0, 0, 0, 0, 0, 0, 0, 0, 0, 0, 0, 0, 0, 0, 0, 0, 0, 0, 0, 0, 0, 0, 0, 0, 0, 0, 0, 0, 0, 0, 0, 0, 0, 0, 0, 0, 0, 0, 0, 0, 0, 0, 0, 0, 0, 0, 0, 0, 0, 0, 0, 0, 0, 0, 0, 0, 0, 0, 0, 0, 0, 0, 0, 0, 0, 0, 0, 0, 0, 0, 0, 0, 0, 0, 0, 0, 0, 0, 0, 0, 0, 0, 0, 0, 0, 0, 0, 0, 0, 0, 0, 0, 0, 0, 0, 0, 0, 0, 0, 0, 0, 0, 0, 0, 0, 0, 0, 1, 0, 0, 0, 0, 0, 0, 0, 0, 0, 0, 0, 0, 0, 0, 0, 0, 0, 0, 0, 0, 0, 0, 0, 0, 0, 0, 0, 0, 0, 0, 0, 0, 0, 0, 0, 0, 0, 0, 0, 0, 0, 0, 0, 0, 0, 0, 0, 0, 0, 0, 0, 0, 0, 0, 0, 0, 0, 0, 0, 0, 0, 0, 0, 0, 0, 0, 0, 0, 0, 0, 0, 0, 0, 0, 1, 0, 0, 0, 0, 0, 0, 0, 0, 0, 0, 0, 0, 0, 0, 0, 0, 0, 0, 0, 0, 1, 0, 0, 1, 0, 0, 0, 0, 0, 0, 0, 0, 0, 0, 0, 0, 0, 0, 0, 0, 0, 0, 0, 0, 0, 0, 0, 0, 0, 0, 0, 0, 0, 0, 0, 0, 0, 0, 0, 0, 0, 0, 0, 0, 0, 0, 0, 0, 0, 0, 0, 0, 0, 0, 0, 0, 0, 0, 0, 0, 0, 0, 0, 0, 0, 0, 0, 0, 0, 0, 0, 0, 0, 0, 0, 0, 0, 0, 0, 0, 0, 0, 0, 0, 0, 0, 0, 0, 0, 0, 0, 0, 0, 0, 0, 0, 0, 0, 0, 0, 0, 0, 0, 0, 0, 0, 0, 0, 0, 0, 0, 0, 0, 0, 0, 0, 0, 0, 0, 0, 0, 0, 0, 0, 0, 0, 0, 0, 0, 0, 0, 0, 0, 0, 0, 0, 0, 0, 0, 0, 0, 0, 0, 0, 0, 0, 0, 0, 0, 0, 0, 0, 0, 0, 0, 0, 0, 0, 0, 0, 0, 0, 0, 0, 0, 0, 0, 0, 0, 0, 0, 0, 0, 0, 0, 0, 0, 0, 0, 0, 0, 0, 0, 0, 0, 0, 0, 0, 0, 0, 0, 0, 0, 0, 0, 0, 0, 0, 0, 0, 0, 0, 0, 0, 0, 0, 0, 0, 0, 0, 0, 0, 0, 0, 0, 0, 0, 0, 0, 0, 0, 0, 0, 0, 0, 0, 0, 0, 0, 0, 0, 0, 0, 0, 0, 0, 0, 0, 0, 0, 0, 0, 0, 0, 0, 0, 0, 0, 0, 0, 0, 0, 0, 0, 0, 0, 0, 0, 0, 0, 0, 0, 0, 0, 0, 0, 0, 0, 0, 0, 0, 0, 0, 0, 0, 0, 0, 0, 0, 0, 0, 0, 0, 0, 0, 0, 0, 0, 0, 0, 0, 0, 0, 0, 0, 0, 0, 0, 0, 0, 0, 0, 0, 0, 0, 0, 0, 0, 0, 0, 0, 0, 0, 0, 0, 0, 0, 0, 0, 0, 0, 0, 0, 0, 0, 0, 0, 0, 0, 0, 0, 0, 0, 0, 0, 0, 0, 0, 0, 0, 0, 0, 0, 0, 0, 0, 0, 0, 0, 0, 0, 0, 0, 0, 0, 0, 0, 0, 0, 0, 0, 0, 0, 0, 0, 0, 0, 0, 0, 0, 0, 0, 0, 0, 0, 0, 0, 0, 0, 0, 0, 0, 0, 0, 0, 0, 0, 0, 0, 0, 0, 0, 0, 0, 0, 0, 0, 0, 0, 0, 0, 0, 0, 0, 0, 0, 0, 0, 0, 0, 0, 0, 0, 0, 0, 0, 0, 0, 0, 0, 0, 0, 0, 0, 0, 0, 0, 0, 0, 0, 0, 0, 0, 0, 0, 0, 0, 0, 0, 0, 0, 0, 0, 0, 0, 0, 0, 0, 0, 0, 0, 0, 0, 0, 0, 0, 0, 0, 0, 0, 0, 0, 0, 0, 0, 0, 0, 0, 0, 0, 1, 0, 0, 0, 0, 0, 0, 0, 0, 0, 0, 0, 0, 0, 0, 0, 0, 0, 0, 0, 0, 0, 0, 0, 0, 0, 0, 0, 0, 0, 0, 0, 0, 0, 0, 0, 0, 0, 0, 0, 0, 0, 0, 0, 0, 0, 0, 0, 0, 0, 0, 0, 0, 0, 0, 0, 0, 0, 0, 0, 0, 0, 0, 0, 0, 0, 0, 0, 0, 0, 0, 0, 0, 0, 0, 0, 0, 0, 0, 0, 0, 0, 0, 0, 0, 0, 0, 0, 0, 0, 0, 0, 0, 0, 0, 0, 0, 0, 0, 0, 0, 0, 0, 0, 0, 0, 0, 0, 0, 0, 0, 0, 0, 0, 0, 0, 0, 0, 0, 0, 0, 0, 0, 0, 0, 0, 0, 0, 0, 0, 0, 0, 0, 0, 0, 0, 0, 0, 0, 0, 0, 0, 0, 0, 0, 0, 0, 0, 0, 0, 0, 0, 0, 0, 0, 0, 0, 0, 0, 0, 0, 0, 0, 0, 0, 0, 0, 0, 0, 0, 0, 0, 0, 0, 0, 0, 0, 0, 0, 0, 0, 0, 0, 0, 0, 0, 0, 0, 0, 0, 0, 0, 0, 0, 0, 0, 0, 0, 0, 0, 0, 0, 0, 0, 0, 0, 0, 0, 0, 0, 0, 0, 0, 0, 0, 0, 0, 0, 0, 0, 0, 0, 0, 0, 0, 0, 0, 0, 0, 0, 0, 0, 0, 0, 0, 0, 0, 0, 0, 0, 0, 0, 0, 0, 0, 0, 0, 0, 0, 0, 0, 0, 0, 0, 0, 0, 0, 0, 0, 0, 0, 0, 0, 0, 0, 0, 0, 0, 0, 0, 0, 0, 0, 0, 0, 0, 0, 0, 0, 0, 0, 0, 0, 0, 0, 0, 0, 0, 0, 0, 0, 0, 0, 0, 0, 0, 0, 0, 0, 0, 0, 0, 0, 0, 0, 0, 0, 0, 0, 0, 0, 0, 0, 0, 0, 0, 0, 0, 0, 0, 0, 0, 0, 0, 0, 0, 0, 0, 0, 0, 0, 0, 0, 0, 0, 0, 0, 0, 0, 0, 0, 0, 0, 0, 0, 0, 0, 0, 0, 0, 0, 0, 0, 0, 0, 0, 0, 0, 0, 0, 0, 0, 0, 0, 0, 0, 0, 0, 0, 0, 0, 0, 0, 0, 0, 0, 0, 0, 0, 0, 0, 0, 0, 0, 0, 0, 0, 0, 0, 0, 0, 0, 0, 0, 0, 0, 0, 0, 0, 0, 0, 0, 0, 0, 0, 0, 0, 0, 0, 0, 0, 0, 0, 0, 0, 0, 0, 0, 0, 0, 0, 0, 0, 0, 0, 0, 0, 0, 0, 0, 0, 0, 0, 0, 0, 0, 0, 0, 0, 0, 0, 0, 0, 0, 0, 0, 0, 0, 0, 0, 0, 0, 0, 0, 0, 0, 0, 0, 0, 0, 0, 0, 0, 0, 0, 0, 0, 0, 0, 0, 0, 0, 0, 0, 0, 0, 0, 0, 0, 0, 0, 0, 0, 0, 0, 0, 0, 0, 0, 0, 0, 0, 0, 0, 0, 0, 0, 0, 0, 0, 0, 0, 0, 0, 0, 0, 0, 0, 0, 0, 0, 0, 0, 1, 0, 0, 0, 0, 0, 0, 0, 0, 0, 0, 0, 0, 0, 0, 0, 0, 0, 0, 0, 0, 0, 0, 0, 0, 0, 0, 0, 0, 0, 0, 0, 0, 0, 0, 0, 2, 0, 0, 0, 0, 0, 0, 0, 0, 0, 0, 0, 0, 0, 0, 0, 0, 0, 0, 0, 0, 0, 0, 0, 0, 0, 0, 0, 0, 0, 0, 0, 0, 0, 0, 0, 0, 0, 0, 0, 0, 1, 0, 0, 0, 0, 0, 0, 0, 0, 0, 0, 0, 0, 0, 0, 0, 0, 0, 0, 0, 0, 0, 0, 0, 0, 0, 0, 0, 0, 0, 0, 0, 0, 0, 0, 0, 0, 0, 0, 0, 0, 0, 0, 0, 0, 0, 0, 0, 0, 0, 0, 0, 0, 0, 0, 0, 0, 0, 0, 0, 0, 0, 0, 0, 0, 0, 0, 0, 0, 0, 0, 0, 0, 0, 0, 0, 0, 0, 0, 0, 0, 0, 0, 0, 0, 0, 0, 0, 0, 0, 0, 0, 0, 0, 0, 0, 0, 0, 0, 0, 0, 0, 0, 0, 0, 0, 0, 0, 0, 0, 0, 0, 0, 0, 0, 0, 0, 0, 0, 0, 0, 0, 0, 0, 0, 0, 0, 0, 0, 0, 0, 0, 0, 0, 0, 0, 0, 0, 0, 0, 0, 0, 0, 0, 0, 0, 0, 0, 0, 0, 0, 0, 0, 0, 0, 0, 0, 0, 0, 0, 0, 0, 0, 0, 0, 0, 0, 0, 0, 0, 0, 0, 0, 0, 0, 0, 0, 0, 0, 0, 0, 0, 0, 0, 0, 0, 0, 0, 0, 0, 0, 0, 0, 0, 0, 0, 0, 0, 0, 0, 0, 0, 0, 0, 0, 0, 0, 0, 0, 0, 0, 0, 0, 0, 0, 0, 0, 0, 0, 0, 0, 0, 0, 0, 0, 0, 0, 0, 0, 0, 0, 0, 0, 0, 0, 0, 0, 0, 0, 0, 0, 0, 0, 0, 0, 0, 0, 0, 0, 0, 0, 0, 0, 0, 0, 0, 0, 0, 0, 0, 0, 0, 0, 0, 0, 0, 0, 0, 0, 0, 0, 0, 0, 0, 0, 0, 0, 0, 0, 0, 0, 0, 0, 0, 0, 0, 0, 0, 0, 0, 0, 0, 0, 0, 0, 0, 0, 0, 0, 0, 0, 0, 0, 0, 0, 0, 0, 0, 0, 0, 0, 0, 0, 0, 0, 0, 0, 0, 0, 0, 0, 0, 0, 0, 0, 0, 0, 0, 0, 0, 0, 0, 0, 0, 0, 0, 0, 0, 0, 0, 0, 0, 0, 0, 0, 0, 0, 0, 0, 0, 0, 0, 0, 0, 0, 0, 0, 0, 0, 0, 0, 0, 0, 0, 0, 0, 0, 0, 0, 0, 0, 0, 0, 0, 0, 0, 0, 0, 0, 0, 0, 0, 0, 0, 0, 0, 0, 0, 0, 0, 0, 0, 0, 0, 0, 0, 0, 0, 0, 0, 0, 0, 0, 0, 0, 0, 0, 0, 0, 0, 0, 0, 0, 0, 0, 0, 0, 0, 0, 0, 0, 0, 0, 0, 0, 0, 0, 0, 0, 0, 0, 0, 0, 0, 0, 0, 0, 0, 0, 0, 0, 0, 0, 0, 0, 0, 0, 0, 0, 0, 0, 0, 0, 0, 0, 0, 0, 0, 0, 0, 0, 0, 0, 0, 0, 0, 0, 0, 0, 0, 0, 0, 0, 0, 0, 0, 0, 0, 0, 0, 0, 0, 0, 0, 0, 0, 0, 0, 0, 0, 0, 0, 0, 0, 0, 0, 0, 0, 1, 0, 0, 0, 0, 0, 0, 0, 0, 0, 0, 0, 0, 0, 0, 0, 0, 0, 0, 0, 0, 0, 0, 0, 0, 0, 0, 0, 0, 0, 0, 0, 0, 0, 0, 0, 0, 0, 0, 0, 0, 0, 0, 0, 0, 0, 0, 0, 0, 0, 0, 0, 0, 0, 0, 0, 0, 0, 0, 0, 0, 0, 0, 0, 0, 0, 0, 0, 0, 0, 0, 0, 0, 0, 0, 0, 0, 0, 0, 0, 0, 0, 0, 0, 0, 0, 0, 0, 0, 0, 0, 0, 0, 0, 0, 0, 0, 0, 0, 0, 0, 0, 0, 0, 0, 0, 0, 0, 0, 0, 0, 2, 0, 0, 0, 0, 0, 0, 0, 0, 0, 0, 0, 0, 0, 0, 0, 0, 0, 0, 0, 0, 0, 0, 0, 0, 0, 0, 0, 0, 0, 0, 0, 0, 0, 0, 0, 0, 0, 0, 0, 0, 0, 0, 0, 0, 0, 0, 0, 0, 0, 0, 0, 0, 0, 0, 0, 0, 0, 0, 0, 0, 0, 0, 0, 0, 0, 0, 0, 0, 0, 0, 0, 0, 0, 0, 0, 0, 0, 0, 0, 0, 0, 0, 0, 0, 0, 0, 0, 0, 0, 0, 0, 0, 0, 0, 0, 0, 0, 0, 0, 0, 0, 0, 0, 0, 0, 0, 0, 0, 0, 0, 0, 0, 0, 0, 0, 0, 0, 0, 0, 0, 0, 0, 0, 0, 0, 0, 0, 0, 0, 0, 0, 0, 0, 0, 0, 0, 0, 0, 0, 0, 0, 0, 0, 0, 0, 0, 0, 0, 0, 0, 0, 0, 0, 0, 0, 0, 0, 0, 0, 0, 0, 0, 0, 0, 0, 0, 0, 0, 0, 0, 0, 0, 0, 0, 0, 0, 0, 0, 0, 0, 0, 0, 0, 0, 0, 0, 0, 0, 0, 0, 0, 0, 0, 0, 0, 0, 0, 0, 0, 0, 0, 0, 0, 0, 0, 0, 0, 0, 0, 0, 0, 0, 0, 0, 0, 0, 0, 0, 0, 0, 0, 0, 0, 0, 0, 0, 0, 0, 0, 0, 0, 0, 0, 0, 0, 0, 0, 0, 0, 0, 0, 0, 0, 0, 0, 0, 0, 0, 0, 0, 0, 0, 0, 0, 0, 0, 0, 0, 0, 0, 0, 0, 0, 0, 0, 0, 0, 0, 0, 0, 0, 0, 0, 0, 0, 0, 0, 0, 0, 0, 0, 0, 0, 0, 0, 0, 0, 0, 0, 0, 0, 0, 0, 0, 0, 0, 0, 0, 0, 0, 0, 0, 0, 0, 0, 0, 0, 0, 0, 0, 0, 0, 0, 0, 0, 0, 0, 0, 0, 0, 0, 0, 0, 0, 0, 0, 0, 0, 0, 0, 0, 0, 0, 0, 0, 0, 0, 0, 0, 0, 0, 0, 0, 0, 0, 0, 0, 0, 0, 0, 0, 0, 0, 0, 0, 0, 0, 0, 0, 0, 0, 0, 0, 0, 0, 0, 0, 0, 0, 0, 0, 0, 0, 0, 0, 0, 0, 0, 0, 0, 0, 0, 0, 0, 0, 0, 0, 0, 0, 0, 0, 0, 0, 0, 0, 0, 0, 0, 0, 0, 0, 0, 0, 0, 0, 0, 0, 0, 0, 0, 0, 0, 0, 0, 0, 0, 0, 0, 0, 0, 0, 0, 0, 0, 0, 0, 0, 0, 0, 0, 0, 0, 0, 0, 0, 0, 0, 0, 0, 0, 0, 0, 0, 0, 0, 0, 0, 0, 0, 0, 0, 0, 0, 0, 0, 0, 0, 0, 0, 0, 0, 0, 0, 0, 0, 0, 0, 0, 0, 0, 0, 0, 0, 0, 0, 0, 0, 0, 0, 0, 0, 0, 0, 0, 0, 0, 0, 0, 0, 0, 0, 0, 0, 0, 0, 0, 0, 0, 0, 0, 0, 0, 0, 0, 0, 0, 0, 0, 0, 0, 0, 0, 0, 0, 0, 0, 0, 0, 0, 0, 0, 0, 0, 0, 0, 0, 0, 0, 0, 0, 0, 0, 0, 0, 0, 0, 0, 0, 0, 0, 0, 0, 0, 0, 0, 0, 0, 0, 0, 0, 0, 0, 0, 0, 0, 0, 0, 0, 0, 0, 0, 0, 0, 0, 0, 0, 0, 0, 0, 0, 0, 0, 0, 0, 0, 0, 0, 0, 0, 0, 0, 0, 0, 0, 0, 0, 0, 0, 0, 0, 0, 0, 0, 0, 0, 0, 0, 0, 0, 0, 0, 0, 0, 0, 0, 0, 0, 0, 0, 0, 0, 0, 0, 0, 0, 0, 0, 0, 0, 0, 0, 0, 0, 0, 0, 0, 0, 0, 0, 0, 0, 0, 0, 0, 0, 0, 0, 0, 0, 0, 0, 0, 0, 0, 0, 0, 0, 0, 0, 0, 0, 0, 0, 0, 0, 0, 0, 0, 0, 0, 0, 0, 0, 0, 0, 0, 0, 0, 0, 0, 0, 0, 0, 0, 0, 0, 0, 0, 0, 0, 0, 0, 0, 0, 0, 0, 0, 0, 0, 0, 1, 0, 0, 0, 0, 0, 0, 0, 0, 0, 0, 0, 0, 0, 0, 0, 0, 0, 0, 0, 0, 0, 0, 0, 0, 0, 0, 0, 0, 0, 0, 0, 0, 0, 0, 0, 0, 0, 0, 0, 0, 0, 0, 0, 0, 0, 0, 0, 0, 0, 0, 0, 0, 0, 0, 0, 0, 0, 0, 0, 0, 0, 0, 0, 0, 0, 0, 0, 0, 0, 0, 0, 0, 0, 0, 0, 0, 0, 0, 0, 0, 0, 0, 0, 0, 0, 0, 0, 0, 0, 0, 0, 0, 0, 0, 0, 0, 0, 0, 0, 0, 0, 0, 0, 0, 0, 0, 0, 1, 0, 0, 0, 0, 0, 0, 0, 0, 0, 0, 0, 0, 0, 0, 0, 0, 0, 0, 0, 0, 0, 0, 0, 0, 0, 0, 0, 0, 0, 0, 0, 0, 0, 0, 0, 0, 0, 0, 0, 0, 0, 0, 0, 0, 0, 0, 0, 0, 0, 0, 0, 0, 0, 0, 0, 0, 0, 0, 0, 0, 0, 0, 0, 0, 0, 0, 0, 0, 0, 0, 0, 0, 0, 0, 0, 0, 0, 0, 0, 0, 0, 0, 0, 0, 0, 0, 0, 0, 0, 0, 0, 0, 0, 0, 0, 0, 0, 0, 0, 0, 0, 0, 0, 0, 0, 0, 0, 0, 0, 0, 0, 0, 0, 0, 0, 0, 0, 0, 0, 0, 0, 0, 0, 0, 0, 0, 0, 0, 0, 0, 0, 0, 0, 0, 0, 0, 0, 0, 0, 0, 0, 0, 0, 0, 0, 0, 0, 0, 0, 0, 0, 0, 0, 0, 0, 0, 0, 0, 0, 0, 0, 0, 0, 0, 0, 0, 0, 0, 0, 0, 0, 0, 0, 0, 0, 0, 0, 0, 0, 0, 0, 0, 0, 0, 0, 0, 0, 0, 0, 0, 0, 0, 0, 0, 0, 0, 0, 0, 0, 0, 0, 0, 0, 0, 0, 0, 0, 0, 0, 0, 0, 0, 0, 0, 0, 0, 0, 0, 0, 0, 0, 0, 0, 0, 0, 0, 0, 0, 0, 0, 0, 0, 0, 0, 0, 0, 0, 0, 0, 0, 0, 0, 0, 0, 0, 0, 0, 0, 0, 0, 0, 0, 0, 0, 0, 0, 0, 0, 0, 0, 0, 0, 0, 0, 0, 0, 0, 0, 0, 0, 0, 0, 0, 0, 0, 0, 0, 0, 0, 0, 0, 0, 0, 0, 0, 0, 0, 0, 0, 0, 0, 0, 0, 0, 0, 0, 0, 0, 0, 0, 0, 0, 0, 0, 0, 0, 0, 0, 0, 0, 0, 0, 0, 0, 0, 0, 0, 0, 0, 0, 0, 0, 0, 0, 0, 0, 0, 0, 0, 0, 0, 0, 0, 0, 0, 0, 0, 0, 0, 0, 0, 0, 0, 0, 0, 0, 0, 0, 0, 0, 0, 0, 0, 0, 0, 0, 0, 0, 0, 0, 0, 0, 0, 0, 0, 0, 0, 0, 0, 0, 0, 0, 0, 0, 0, 0, 0, 0, 0, 0, 0, 0, 0, 0, 0, 0, 0, 0, 0, 0, 0, 0, 0, 0, 0, 0, 0, 0, 0, 0, 0, 0, 0, 0, 0, 0, 0, 0, 0, 0, 0, 0, 0, 0, 0, 0, 0, 0, 0, 0, 0, 0, 0, 0, 0, 0, 0, 0, 0, 0, 0, 0, 0, 0, 0, 0, 0, 0, 0, 0, 0, 0, 0, 0, 0, 0, 0, 0, 0, 0, 0, 0, 0, 0, 0, 0, 0, 0, 0, 0, 0, 0, 0, 2, 0, 1, 0]\n"
     ]
    }
   ],
   "source": [
    "test_bow = bow_encoding(test_words, vocabulary)\n",
    "print(test_bow)"
   ]
  },
  {
   "cell_type": "code",
   "execution_count": 47,
   "metadata": {},
   "outputs": [
    {
     "data": {
      "text/plain": [
       "5000"
      ]
     },
     "execution_count": 47,
     "metadata": {},
     "output_type": "execute_result"
    }
   ],
   "source": [
    "len(test_bow)"
   ]
  },
  {
   "cell_type": "markdown",
   "metadata": {},
   "source": [
    "So now we know how to construct a bag of words encoding of a user provided review, how to we send it to our endpoint? First, we need to start the endpoint back up."
   ]
  },
  {
   "cell_type": "code",
   "execution_count": 49,
   "metadata": {},
   "outputs": [
    {
     "data": {
      "text/plain": [
       "<sagemaker.estimator.Estimator at 0x7f4132076278>"
      ]
     },
     "execution_count": 49,
     "metadata": {},
     "output_type": "execute_result"
    }
   ],
   "source": [
    "xgb"
   ]
  },
  {
   "cell_type": "code",
   "execution_count": 48,
   "metadata": {},
   "outputs": [
    {
     "name": "stderr",
     "output_type": "stream",
     "text": [
      "WARNING:sagemaker:Parameter image will be renamed to image_uri in SageMaker Python SDK v2.\n",
      "WARNING:sagemaker:Using already existing model: xgboost-2020-06-20-21-09-56-057\n"
     ]
    },
    {
     "name": "stdout",
     "output_type": "stream",
     "text": [
      "-------------!"
     ]
    }
   ],
   "source": [
    "xgb_predictor = xgb.deploy(initial_instance_count = 1, instance_type = 'ml.m4.xlarge')"
   ]
  },
  {
   "cell_type": "markdown",
   "metadata": {},
   "source": [
    "At this point we could just do the same thing that we did earlier when we tested our deployed model and send `test_bow` to our endpoint using the `xgb_predictor` object. However, when we eventually construct our Lambda function we won't have access to this object, so how do we call a SageMaker endpoint?\n",
    "\n",
    "It turns out that Python functions that are used in Lambda have access to another Amazon library called `boto3`. This library provides an API for working with Amazon services, including SageMaker. To start with, we need to get a handle to the SageMaker runtime."
   ]
  },
  {
   "cell_type": "code",
   "execution_count": 50,
   "metadata": {},
   "outputs": [],
   "source": [
    "import boto3\n",
    "\n",
    "runtime = boto3.Session().client('sagemaker-runtime')"
   ]
  },
  {
   "cell_type": "markdown",
   "metadata": {},
   "source": [
    "And now that we have access to the SageMaker runtime, we can ask it to make use of (invoke) an endpoint that has already been created. However, we need to provide SageMaker with the name of the deployed endpoint. To find this out we can print it out using the `xgb_predictor` object."
   ]
  },
  {
   "cell_type": "code",
   "execution_count": 51,
   "metadata": {},
   "outputs": [
    {
     "data": {
      "text/plain": [
       "'xgboost-2020-06-20-21-09-56-057'"
      ]
     },
     "execution_count": 51,
     "metadata": {},
     "output_type": "execute_result"
    }
   ],
   "source": [
    "xgb_predictor.endpoint"
   ]
  },
  {
   "cell_type": "markdown",
   "metadata": {},
   "source": [
    "Using the SageMaker runtime and the name of our endpoint, we can invoke the endpoint and send it the `test_bow` data."
   ]
  },
  {
   "cell_type": "code",
   "execution_count": 52,
   "metadata": {},
   "outputs": [
    {
     "ename": "ParamValidationError",
     "evalue": "Parameter validation failed:\nInvalid type for parameter Body, value: [0, 0, 0, 0, 0, 0, 0, 0, 0, 0, 0, 0, 0, 0, 0, 0, 0, 0, 0, 0, 0, 0, 0, 0, 0, 0, 0, 0, 0, 0, 0, 0, 0, 0, 0, 0, 0, 0, 0, 0, 0, 0, 0, 0, 0, 0, 0, 0, 0, 0, 0, 0, 0, 0, 0, 0, 0, 0, 0, 0, 0, 0, 0, 0, 0, 0, 0, 0, 0, 0, 0, 0, 0, 0, 0, 0, 0, 0, 0, 0, 0, 0, 0, 0, 0, 0, 0, 0, 0, 0, 0, 0, 0, 0, 0, 0, 0, 0, 0, 0, 0, 0, 0, 0, 0, 0, 0, 0, 0, 0, 0, 0, 0, 0, 0, 0, 0, 0, 0, 0, 0, 0, 0, 0, 0, 0, 0, 0, 0, 0, 0, 0, 0, 0, 0, 0, 0, 0, 0, 0, 0, 0, 0, 0, 0, 0, 0, 0, 0, 0, 0, 0, 0, 0, 0, 0, 0, 0, 0, 0, 0, 0, 0, 0, 0, 0, 0, 0, 0, 0, 0, 0, 0, 0, 0, 0, 0, 0, 0, 0, 0, 0, 0, 0, 0, 0, 0, 0, 0, 0, 0, 0, 0, 0, 0, 0, 0, 0, 0, 0, 0, 0, 0, 0, 0, 0, 0, 0, 0, 0, 0, 0, 0, 0, 0, 0, 0, 0, 0, 0, 0, 0, 0, 0, 0, 0, 1, 0, 0, 0, 0, 0, 0, 0, 0, 0, 0, 0, 0, 0, 0, 0, 0, 0, 0, 0, 0, 0, 0, 0, 0, 0, 0, 0, 0, 0, 1, 0, 0, 0, 0, 0, 0, 0, 0, 0, 0, 0, 0, 0, 0, 0, 0, 0, 0, 0, 0, 0, 0, 0, 0, 0, 0, 0, 0, 0, 0, 0, 0, 0, 0, 0, 0, 0, 0, 0, 0, 0, 0, 0, 0, 0, 0, 0, 0, 0, 0, 0, 0, 0, 0, 0, 0, 0, 0, 0, 0, 0, 0, 0, 0, 0, 0, 0, 0, 0, 0, 0, 0, 0, 0, 0, 0, 0, 0, 0, 0, 0, 0, 0, 0, 0, 0, 0, 0, 0, 0, 0, 0, 0, 0, 0, 0, 0, 0, 0, 0, 0, 0, 0, 0, 0, 0, 0, 0, 0, 0, 0, 0, 0, 0, 0, 0, 0, 0, 0, 0, 0, 0, 0, 0, 0, 0, 0, 0, 0, 0, 0, 0, 0, 0, 0, 0, 0, 0, 0, 0, 0, 0, 0, 0, 0, 0, 0, 0, 0, 0, 0, 0, 0, 0, 0, 0, 0, 0, 0, 0, 0, 0, 0, 0, 0, 0, 0, 0, 0, 0, 0, 0, 0, 0, 0, 0, 0, 0, 0, 0, 0, 0, 0, 0, 0, 0, 0, 0, 0, 0, 0, 0, 0, 0, 0, 0, 0, 0, 0, 0, 0, 0, 0, 0, 0, 0, 0, 0, 0, 0, 0, 0, 0, 0, 0, 0, 0, 0, 0, 0, 0, 0, 0, 0, 0, 0, 0, 0, 0, 0, 0, 0, 0, 0, 0, 0, 0, 0, 0, 0, 0, 0, 0, 0, 0, 0, 0, 0, 0, 0, 0, 0, 0, 0, 0, 0, 0, 0, 0, 0, 0, 0, 0, 0, 0, 0, 0, 0, 0, 0, 0, 0, 0, 0, 0, 0, 0, 0, 0, 0, 0, 0, 0, 0, 0, 0, 0, 0, 0, 0, 0, 0, 0, 0, 0, 0, 0, 0, 0, 0, 0, 0, 0, 0, 0, 0, 0, 0, 0, 0, 0, 0, 0, 0, 0, 0, 0, 0, 0, 0, 0, 0, 0, 0, 0, 0, 0, 0, 0, 0, 0, 0, 0, 0, 0, 0, 0, 0, 0, 0, 0, 0, 0, 0, 0, 0, 0, 0, 0, 0, 0, 0, 0, 0, 0, 0, 0, 0, 0, 0, 0, 0, 0, 0, 0, 0, 0, 0, 0, 0, 0, 0, 0, 0, 0, 0, 0, 0, 0, 1, 0, 0, 0, 0, 0, 0, 0, 0, 0, 0, 0, 0, 0, 0, 0, 0, 0, 0, 0, 0, 0, 0, 0, 0, 0, 0, 0, 0, 0, 0, 0, 0, 0, 0, 0, 0, 0, 0, 0, 0, 0, 0, 0, 0, 0, 0, 0, 0, 0, 0, 0, 0, 0, 0, 0, 0, 0, 0, 0, 0, 0, 0, 0, 0, 0, 0, 0, 0, 0, 0, 0, 0, 0, 0, 0, 0, 0, 0, 0, 0, 0, 0, 0, 0, 0, 0, 0, 0, 0, 0, 0, 0, 0, 0, 0, 0, 0, 0, 0, 0, 0, 0, 0, 0, 0, 0, 0, 0, 0, 0, 0, 0, 0, 0, 0, 0, 0, 0, 0, 0, 0, 0, 0, 0, 0, 0, 0, 0, 0, 0, 0, 0, 0, 0, 0, 0, 0, 0, 0, 0, 0, 0, 0, 0, 0, 0, 0, 0, 0, 0, 0, 0, 0, 0, 0, 0, 0, 0, 0, 0, 0, 0, 0, 0, 0, 0, 0, 0, 0, 0, 0, 0, 0, 0, 0, 0, 0, 0, 0, 0, 0, 0, 0, 0, 0, 0, 0, 0, 0, 0, 0, 0, 0, 0, 0, 0, 0, 0, 0, 0, 0, 0, 0, 0, 0, 0, 0, 0, 0, 0, 0, 0, 0, 0, 0, 0, 0, 0, 0, 0, 0, 0, 0, 0, 0, 0, 0, 0, 0, 0, 0, 0, 0, 0, 0, 0, 0, 0, 0, 0, 0, 0, 0, 0, 0, 0, 0, 0, 0, 0, 0, 0, 0, 1, 0, 0, 0, 0, 0, 0, 0, 0, 0, 0, 0, 0, 0, 0, 0, 0, 0, 0, 0, 0, 0, 0, 0, 0, 0, 0, 0, 0, 0, 0, 0, 0, 0, 0, 0, 0, 0, 0, 0, 0, 0, 0, 0, 0, 0, 0, 0, 0, 0, 0, 0, 0, 0, 0, 0, 0, 0, 0, 0, 0, 0, 0, 0, 0, 0, 0, 0, 0, 0, 0, 0, 0, 0, 0, 0, 0, 0, 0, 0, 0, 0, 0, 0, 0, 0, 0, 1, 0, 0, 0, 0, 0, 0, 0, 0, 0, 0, 0, 0, 0, 0, 0, 0, 0, 0, 0, 0, 0, 0, 0, 0, 0, 0, 0, 0, 0, 0, 0, 0, 0, 0, 0, 0, 0, 0, 0, 0, 0, 0, 0, 0, 0, 0, 0, 0, 0, 0, 0, 0, 0, 0, 0, 0, 0, 0, 0, 0, 0, 0, 0, 0, 0, 0, 0, 0, 0, 0, 0, 0, 0, 0, 0, 0, 0, 0, 0, 0, 0, 0, 0, 0, 0, 0, 0, 0, 0, 0, 0, 0, 0, 0, 0, 0, 0, 0, 0, 0, 0, 0, 0, 0, 0, 0, 0, 0, 0, 0, 0, 0, 0, 0, 0, 0, 0, 0, 0, 0, 0, 0, 0, 0, 0, 0, 0, 0, 0, 0, 0, 0, 0, 0, 0, 0, 0, 0, 0, 0, 0, 0, 0, 0, 0, 0, 0, 0, 0, 0, 0, 0, 0, 0, 0, 0, 0, 0, 0, 0, 0, 0, 0, 0, 0, 0, 0, 0, 0, 0, 0, 0, 0, 0, 0, 0, 0, 0, 0, 0, 0, 0, 0, 0, 0, 0, 0, 0, 0, 0, 0, 0, 0, 0, 0, 0, 0, 0, 0, 0, 0, 0, 0, 0, 0, 0, 0, 0, 0, 0, 0, 0, 0, 0, 0, 0, 0, 0, 0, 0, 0, 0, 0, 0, 0, 0, 0, 0, 0, 0, 0, 0, 0, 0, 0, 0, 0, 0, 0, 0, 0, 0, 0, 0, 0, 0, 0, 0, 0, 0, 0, 0, 1, 0, 0, 0, 0, 0, 0, 0, 0, 0, 0, 0, 0, 0, 0, 0, 0, 0, 0, 0, 0, 0, 0, 0, 0, 0, 0, 0, 0, 0, 0, 0, 0, 0, 0, 0, 0, 0, 0, 0, 0, 0, 0, 0, 0, 0, 0, 0, 0, 0, 0, 0, 0, 0, 0, 0, 1, 0, 0, 0, 0, 0, 0, 0, 0, 0, 0, 0, 0, 0, 0, 0, 0, 0, 0, 0, 0, 0, 0, 0, 0, 0, 0, 0, 0, 0, 0, 0, 0, 0, 0, 0, 0, 0, 0, 0, 0, 0, 0, 0, 0, 0, 0, 0, 0, 0, 0, 0, 0, 0, 0, 0, 0, 0, 0, 0, 0, 0, 0, 0, 0, 0, 0, 0, 0, 0, 0, 0, 0, 0, 0, 0, 0, 0, 0, 0, 0, 0, 0, 0, 0, 0, 0, 0, 0, 0, 0, 0, 0, 0, 0, 0, 0, 0, 0, 0, 0, 0, 0, 0, 0, 0, 0, 0, 0, 0, 0, 0, 0, 0, 0, 0, 0, 0, 0, 0, 0, 0, 0, 0, 0, 0, 0, 0, 0, 0, 0, 0, 0, 0, 0, 0, 0, 0, 0, 0, 0, 0, 0, 0, 0, 0, 0, 0, 0, 0, 0, 0, 0, 0, 0, 0, 0, 0, 0, 0, 0, 0, 0, 0, 0, 0, 0, 0, 0, 0, 0, 0, 0, 0, 0, 0, 0, 0, 0, 0, 0, 0, 0, 0, 0, 0, 0, 0, 0, 0, 0, 0, 0, 0, 0, 0, 0, 0, 0, 0, 0, 0, 0, 0, 0, 0, 0, 0, 0, 0, 0, 0, 0, 0, 0, 0, 0, 0, 0, 0, 0, 0, 0, 0, 0, 0, 0, 0, 0, 0, 0, 0, 0, 0, 0, 0, 0, 0, 0, 0, 0, 0, 0, 0, 0, 0, 0, 0, 0, 0, 0, 0, 0, 0, 0, 0, 0, 0, 0, 0, 0, 0, 0, 0, 0, 0, 0, 0, 0, 0, 0, 0, 0, 0, 0, 0, 0, 0, 0, 0, 0, 0, 0, 0, 0, 0, 0, 0, 0, 0, 0, 0, 0, 0, 0, 0, 0, 0, 0, 0, 0, 0, 0, 0, 0, 0, 0, 0, 0, 0, 0, 0, 0, 0, 0, 0, 0, 0, 0, 0, 0, 0, 0, 0, 0, 0, 0, 0, 0, 0, 0, 0, 0, 0, 0, 0, 0, 0, 0, 0, 0, 0, 0, 0, 0, 0, 0, 0, 0, 0, 0, 0, 0, 0, 0, 0, 0, 0, 0, 0, 0, 0, 0, 0, 0, 0, 0, 0, 0, 0, 0, 0, 0, 0, 0, 0, 0, 0, 0, 0, 0, 0, 0, 0, 0, 0, 0, 0, 0, 0, 0, 0, 0, 0, 0, 0, 0, 0, 0, 0, 0, 0, 0, 0, 0, 0, 0, 0, 0, 0, 0, 0, 0, 0, 0, 0, 0, 0, 0, 0, 0, 0, 0, 0, 0, 0, 0, 0, 0, 0, 0, 0, 0, 0, 0, 0, 0, 0, 0, 0, 0, 0, 0, 0, 0, 0, 0, 0, 0, 0, 0, 0, 0, 0, 0, 0, 0, 0, 0, 0, 0, 0, 0, 0, 0, 0, 0, 0, 0, 0, 0, 0, 0, 0, 0, 0, 0, 0, 0, 0, 0, 0, 0, 0, 0, 0, 0, 0, 0, 0, 0, 0, 0, 0, 0, 0, 0, 0, 0, 0, 0, 0, 0, 0, 0, 0, 0, 0, 0, 0, 0, 0, 0, 0, 0, 0, 0, 0, 0, 0, 0, 0, 0, 0, 0, 0, 0, 0, 0, 0, 0, 0, 0, 0, 0, 0, 0, 0, 0, 0, 0, 0, 0, 0, 0, 0, 0, 0, 0, 0, 0, 0, 0, 0, 0, 0, 0, 0, 0, 0, 0, 0, 0, 0, 0, 0, 0, 0, 0, 0, 0, 0, 0, 0, 0, 0, 0, 0, 0, 0, 0, 0, 0, 0, 0, 0, 0, 0, 0, 0, 0, 0, 0, 0, 0, 0, 0, 0, 0, 0, 0, 0, 0, 0, 0, 0, 0, 0, 0, 0, 0, 0, 0, 0, 0, 0, 0, 0, 0, 0, 0, 0, 0, 0, 0, 0, 0, 0, 0, 0, 0, 0, 0, 0, 0, 0, 0, 0, 0, 0, 0, 0, 0, 0, 0, 0, 0, 0, 0, 0, 0, 0, 0, 0, 0, 0, 0, 0, 0, 0, 0, 0, 0, 0, 0, 0, 0, 0, 0, 0, 0, 0, 0, 0, 0, 0, 0, 0, 0, 0, 0, 0, 1, 0, 0, 0, 0, 0, 0, 0, 0, 0, 0, 0, 0, 0, 0, 0, 0, 0, 0, 0, 0, 0, 0, 0, 0, 0, 0, 0, 0, 0, 0, 0, 0, 0, 0, 0, 0, 0, 0, 0, 0, 0, 0, 0, 0, 0, 0, 0, 0, 0, 0, 0, 0, 0, 0, 0, 0, 0, 0, 0, 0, 0, 0, 0, 0, 0, 0, 0, 0, 0, 0, 0, 0, 0, 0, 1, 0, 0, 0, 0, 0, 0, 0, 0, 0, 0, 0, 0, 0, 0, 0, 0, 0, 0, 0, 0, 1, 0, 0, 1, 0, 0, 0, 0, 0, 0, 0, 0, 0, 0, 0, 0, 0, 0, 0, 0, 0, 0, 0, 0, 0, 0, 0, 0, 0, 0, 0, 0, 0, 0, 0, 0, 0, 0, 0, 0, 0, 0, 0, 0, 0, 0, 0, 0, 0, 0, 0, 0, 0, 0, 0, 0, 0, 0, 0, 0, 0, 0, 0, 0, 0, 0, 0, 0, 0, 0, 0, 0, 0, 0, 0, 0, 0, 0, 0, 0, 0, 0, 0, 0, 0, 0, 0, 0, 0, 0, 0, 0, 0, 0, 0, 0, 0, 0, 0, 0, 0, 0, 0, 0, 0, 0, 0, 0, 0, 0, 0, 0, 0, 0, 0, 0, 0, 0, 0, 0, 0, 0, 0, 0, 0, 0, 0, 0, 0, 0, 0, 0, 0, 0, 0, 0, 0, 0, 0, 0, 0, 0, 0, 0, 0, 0, 0, 0, 0, 0, 0, 0, 0, 0, 0, 0, 0, 0, 0, 0, 0, 0, 0, 0, 0, 0, 0, 0, 0, 0, 0, 0, 0, 0, 0, 0, 0, 0, 0, 0, 0, 0, 0, 0, 0, 0, 0, 0, 0, 0, 0, 0, 0, 0, 0, 0, 0, 0, 0, 0, 0, 0, 0, 0, 0, 0, 0, 0, 0, 0, 0, 0, 0, 0, 0, 0, 0, 0, 0, 0, 0, 0, 0, 0, 0, 0, 0, 0, 0, 0, 0, 0, 0, 0, 0, 0, 0, 0, 0, 0, 0, 0, 0, 0, 0, 0, 0, 0, 0, 0, 0, 0, 0, 0, 0, 0, 0, 0, 0, 0, 0, 0, 0, 0, 0, 0, 0, 0, 0, 0, 0, 0, 0, 0, 0, 0, 0, 0, 0, 0, 0, 0, 0, 0, 0, 0, 0, 0, 0, 0, 0, 0, 0, 0, 0, 0, 0, 0, 0, 0, 0, 0, 0, 0, 0, 0, 0, 0, 0, 0, 0, 0, 0, 0, 0, 0, 0, 0, 0, 0, 0, 0, 0, 0, 0, 0, 0, 0, 0, 0, 0, 0, 0, 0, 0, 0, 0, 0, 0, 0, 0, 0, 0, 0, 0, 0, 0, 0, 0, 0, 0, 0, 0, 0, 0, 0, 0, 0, 0, 0, 0, 0, 0, 0, 0, 0, 0, 0, 0, 0, 0, 0, 0, 0, 0, 0, 0, 0, 0, 0, 0, 0, 0, 0, 0, 0, 0, 0, 0, 0, 0, 0, 0, 0, 0, 0, 0, 0, 0, 0, 0, 0, 0, 0, 0, 0, 0, 0, 0, 0, 0, 0, 0, 0, 0, 0, 0, 0, 0, 0, 0, 0, 0, 0, 0, 0, 0, 0, 0, 0, 0, 0, 0, 0, 0, 0, 0, 0, 0, 0, 0, 0, 0, 0, 0, 0, 0, 0, 0, 0, 0, 0, 0, 0, 0, 0, 0, 0, 0, 0, 0, 0, 0, 0, 0, 0, 0, 0, 0, 0, 1, 0, 0, 0, 0, 0, 0, 0, 0, 0, 0, 0, 0, 0, 0, 0, 0, 0, 0, 0, 0, 0, 0, 0, 0, 0, 0, 0, 0, 0, 0, 0, 0, 0, 0, 0, 0, 0, 0, 0, 0, 0, 0, 0, 0, 0, 0, 0, 0, 0, 0, 0, 0, 0, 0, 0, 0, 0, 0, 0, 0, 0, 0, 0, 0, 0, 0, 0, 0, 0, 0, 0, 0, 0, 0, 0, 0, 0, 0, 0, 0, 0, 0, 0, 0, 0, 0, 0, 0, 0, 0, 0, 0, 0, 0, 0, 0, 0, 0, 0, 0, 0, 0, 0, 0, 0, 0, 0, 0, 0, 0, 0, 0, 0, 0, 0, 0, 0, 0, 0, 0, 0, 0, 0, 0, 0, 0, 0, 0, 0, 0, 0, 0, 0, 0, 0, 0, 0, 0, 0, 0, 0, 0, 0, 0, 0, 0, 0, 0, 0, 0, 0, 0, 0, 0, 0, 0, 0, 0, 0, 0, 0, 0, 0, 0, 0, 0, 0, 0, 0, 0, 0, 0, 0, 0, 0, 0, 0, 0, 0, 0, 0, 0, 0, 0, 0, 0, 0, 0, 0, 0, 0, 0, 0, 0, 0, 0, 0, 0, 0, 0, 0, 0, 0, 0, 0, 0, 0, 0, 0, 0, 0, 0, 0, 0, 0, 0, 0, 0, 0, 0, 0, 0, 0, 0, 0, 0, 0, 0, 0, 0, 0, 0, 0, 0, 0, 0, 0, 0, 0, 0, 0, 0, 0, 0, 0, 0, 0, 0, 0, 0, 0, 0, 0, 0, 0, 0, 0, 0, 0, 0, 0, 0, 0, 0, 0, 0, 0, 0, 0, 0, 0, 0, 0, 0, 0, 0, 0, 0, 0, 0, 0, 0, 0, 0, 0, 0, 0, 0, 0, 0, 0, 0, 0, 0, 0, 0, 0, 0, 0, 0, 0, 0, 0, 0, 0, 0, 0, 0, 0, 0, 0, 0, 0, 0, 0, 0, 0, 0, 0, 0, 0, 0, 0, 0, 0, 0, 0, 0, 0, 0, 0, 0, 0, 0, 0, 0, 0, 0, 0, 0, 0, 0, 0, 0, 0, 0, 0, 0, 0, 0, 0, 0, 0, 0, 0, 0, 0, 0, 0, 0, 0, 0, 0, 0, 0, 0, 0, 0, 0, 0, 0, 0, 0, 0, 0, 0, 0, 0, 0, 0, 0, 0, 0, 0, 0, 0, 0, 0, 0, 0, 0, 0, 0, 0, 0, 0, 0, 0, 0, 0, 0, 0, 0, 0, 0, 0, 0, 0, 0, 0, 0, 0, 0, 0, 0, 0, 0, 0, 0, 0, 0, 0, 0, 0, 0, 0, 0, 0, 0, 0, 0, 0, 0, 0, 0, 0, 0, 0, 0, 0, 0, 0, 0, 0, 0, 0, 0, 0, 0, 0, 0, 0, 0, 0, 0, 0, 0, 0, 0, 0, 0, 0, 0, 0, 0, 0, 0, 0, 0, 0, 0, 0, 0, 0, 0, 0, 0, 0, 0, 0, 0, 0, 0, 0, 0, 0, 0, 0, 0, 0, 0, 0, 0, 0, 0, 0, 0, 0, 0, 0, 0, 0, 0, 0, 0, 0, 0, 0, 0, 0, 0, 0, 1, 0, 0, 0, 0, 0, 0, 0, 0, 0, 0, 0, 0, 0, 0, 0, 0, 0, 0, 0, 0, 0, 0, 0, 0, 0, 0, 0, 0, 0, 0, 0, 0, 0, 0, 0, 2, 0, 0, 0, 0, 0, 0, 0, 0, 0, 0, 0, 0, 0, 0, 0, 0, 0, 0, 0, 0, 0, 0, 0, 0, 0, 0, 0, 0, 0, 0, 0, 0, 0, 0, 0, 0, 0, 0, 0, 0, 1, 0, 0, 0, 0, 0, 0, 0, 0, 0, 0, 0, 0, 0, 0, 0, 0, 0, 0, 0, 0, 0, 0, 0, 0, 0, 0, 0, 0, 0, 0, 0, 0, 0, 0, 0, 0, 0, 0, 0, 0, 0, 0, 0, 0, 0, 0, 0, 0, 0, 0, 0, 0, 0, 0, 0, 0, 0, 0, 0, 0, 0, 0, 0, 0, 0, 0, 0, 0, 0, 0, 0, 0, 0, 0, 0, 0, 0, 0, 0, 0, 0, 0, 0, 0, 0, 0, 0, 0, 0, 0, 0, 0, 0, 0, 0, 0, 0, 0, 0, 0, 0, 0, 0, 0, 0, 0, 0, 0, 0, 0, 0, 0, 0, 0, 0, 0, 0, 0, 0, 0, 0, 0, 0, 0, 0, 0, 0, 0, 0, 0, 0, 0, 0, 0, 0, 0, 0, 0, 0, 0, 0, 0, 0, 0, 0, 0, 0, 0, 0, 0, 0, 0, 0, 0, 0, 0, 0, 0, 0, 0, 0, 0, 0, 0, 0, 0, 0, 0, 0, 0, 0, 0, 0, 0, 0, 0, 0, 0, 0, 0, 0, 0, 0, 0, 0, 0, 0, 0, 0, 0, 0, 0, 0, 0, 0, 0, 0, 0, 0, 0, 0, 0, 0, 0, 0, 0, 0, 0, 0, 0, 0, 0, 0, 0, 0, 0, 0, 0, 0, 0, 0, 0, 0, 0, 0, 0, 0, 0, 0, 0, 0, 0, 0, 0, 0, 0, 0, 0, 0, 0, 0, 0, 0, 0, 0, 0, 0, 0, 0, 0, 0, 0, 0, 0, 0, 0, 0, 0, 0, 0, 0, 0, 0, 0, 0, 0, 0, 0, 0, 0, 0, 0, 0, 0, 0, 0, 0, 0, 0, 0, 0, 0, 0, 0, 0, 0, 0, 0, 0, 0, 0, 0, 0, 0, 0, 0, 0, 0, 0, 0, 0, 0, 0, 0, 0, 0, 0, 0, 0, 0, 0, 0, 0, 0, 0, 0, 0, 0, 0, 0, 0, 0, 0, 0, 0, 0, 0, 0, 0, 0, 0, 0, 0, 0, 0, 0, 0, 0, 0, 0, 0, 0, 0, 0, 0, 0, 0, 0, 0, 0, 0, 0, 0, 0, 0, 0, 0, 0, 0, 0, 0, 0, 0, 0, 0, 0, 0, 0, 0, 0, 0, 0, 0, 0, 0, 0, 0, 0, 0, 0, 0, 0, 0, 0, 0, 0, 0, 0, 0, 0, 0, 0, 0, 0, 0, 0, 0, 0, 0, 0, 0, 0, 0, 0, 0, 0, 0, 0, 0, 0, 0, 0, 0, 0, 0, 0, 0, 0, 0, 0, 0, 0, 0, 0, 0, 0, 0, 0, 0, 0, 0, 0, 0, 0, 0, 0, 0, 0, 0, 0, 0, 0, 0, 0, 0, 0, 0, 0, 0, 0, 0, 0, 0, 0, 0, 0, 0, 0, 0, 0, 0, 0, 0, 0, 0, 0, 0, 0, 0, 0, 0, 0, 0, 0, 0, 0, 0, 0, 0, 0, 0, 0, 0, 0, 0, 0, 0, 0, 0, 0, 0, 0, 0, 0, 0, 0, 0, 1, 0, 0, 0, 0, 0, 0, 0, 0, 0, 0, 0, 0, 0, 0, 0, 0, 0, 0, 0, 0, 0, 0, 0, 0, 0, 0, 0, 0, 0, 0, 0, 0, 0, 0, 0, 0, 0, 0, 0, 0, 0, 0, 0, 0, 0, 0, 0, 0, 0, 0, 0, 0, 0, 0, 0, 0, 0, 0, 0, 0, 0, 0, 0, 0, 0, 0, 0, 0, 0, 0, 0, 0, 0, 0, 0, 0, 0, 0, 0, 0, 0, 0, 0, 0, 0, 0, 0, 0, 0, 0, 0, 0, 0, 0, 0, 0, 0, 0, 0, 0, 0, 0, 0, 0, 0, 0, 0, 0, 0, 0, 2, 0, 0, 0, 0, 0, 0, 0, 0, 0, 0, 0, 0, 0, 0, 0, 0, 0, 0, 0, 0, 0, 0, 0, 0, 0, 0, 0, 0, 0, 0, 0, 0, 0, 0, 0, 0, 0, 0, 0, 0, 0, 0, 0, 0, 0, 0, 0, 0, 0, 0, 0, 0, 0, 0, 0, 0, 0, 0, 0, 0, 0, 0, 0, 0, 0, 0, 0, 0, 0, 0, 0, 0, 0, 0, 0, 0, 0, 0, 0, 0, 0, 0, 0, 0, 0, 0, 0, 0, 0, 0, 0, 0, 0, 0, 0, 0, 0, 0, 0, 0, 0, 0, 0, 0, 0, 0, 0, 0, 0, 0, 0, 0, 0, 0, 0, 0, 0, 0, 0, 0, 0, 0, 0, 0, 0, 0, 0, 0, 0, 0, 0, 0, 0, 0, 0, 0, 0, 0, 0, 0, 0, 0, 0, 0, 0, 0, 0, 0, 0, 0, 0, 0, 0, 0, 0, 0, 0, 0, 0, 0, 0, 0, 0, 0, 0, 0, 0, 0, 0, 0, 0, 0, 0, 0, 0, 0, 0, 0, 0, 0, 0, 0, 0, 0, 0, 0, 0, 0, 0, 0, 0, 0, 0, 0, 0, 0, 0, 0, 0, 0, 0, 0, 0, 0, 0, 0, 0, 0, 0, 0, 0, 0, 0, 0, 0, 0, 0, 0, 0, 0, 0, 0, 0, 0, 0, 0, 0, 0, 0, 0, 0, 0, 0, 0, 0, 0, 0, 0, 0, 0, 0, 0, 0, 0, 0, 0, 0, 0, 0, 0, 0, 0, 0, 0, 0, 0, 0, 0, 0, 0, 0, 0, 0, 0, 0, 0, 0, 0, 0, 0, 0, 0, 0, 0, 0, 0, 0, 0, 0, 0, 0, 0, 0, 0, 0, 0, 0, 0, 0, 0, 0, 0, 0, 0, 0, 0, 0, 0, 0, 0, 0, 0, 0, 0, 0, 0, 0, 0, 0, 0, 0, 0, 0, 0, 0, 0, 0, 0, 0, 0, 0, 0, 0, 0, 0, 0, 0, 0, 0, 0, 0, 0, 0, 0, 0, 0, 0, 0, 0, 0, 0, 0, 0, 0, 0, 0, 0, 0, 0, 0, 0, 0, 0, 0, 0, 0, 0, 0, 0, 0, 0, 0, 0, 0, 0, 0, 0, 0, 0, 0, 0, 0, 0, 0, 0, 0, 0, 0, 0, 0, 0, 0, 0, 0, 0, 0, 0, 0, 0, 0, 0, 0, 0, 0, 0, 0, 0, 0, 0, 0, 0, 0, 0, 0, 0, 0, 0, 0, 0, 0, 0, 0, 0, 0, 0, 0, 0, 0, 0, 0, 0, 0, 0, 0, 0, 0, 0, 0, 0, 0, 0, 0, 0, 0, 0, 0, 0, 0, 0, 0, 0, 0, 0, 0, 0, 0, 0, 0, 0, 0, 0, 0, 0, 0, 0, 0, 0, 0, 0, 0, 0, 0, 0, 0, 0, 0, 0, 0, 0, 0, 0, 0, 0, 0, 0, 0, 0, 0, 0, 0, 0, 0, 0, 0, 0, 0, 0, 0, 0, 0, 0, 0, 0, 0, 0, 0, 0, 0, 0, 0, 0, 0, 0, 0, 0, 0, 0, 0, 0, 0, 0, 0, 0, 0, 0, 0, 0, 0, 0, 0, 0, 0, 0, 0, 0, 0, 0, 0, 0, 0, 0, 0, 0, 0, 0, 0, 0, 0, 0, 0, 0, 0, 0, 0, 0, 0, 0, 0, 0, 0, 0, 0, 0, 0, 0, 0, 0, 0, 0, 0, 0, 0, 0, 0, 0, 0, 0, 0, 0, 0, 0, 0, 0, 0, 0, 0, 0, 0, 0, 0, 0, 0, 0, 0, 0, 0, 0, 0, 0, 0, 0, 0, 0, 0, 0, 0, 0, 0, 0, 0, 0, 0, 0, 0, 0, 0, 0, 0, 0, 0, 0, 0, 0, 0, 0, 0, 0, 0, 0, 0, 0, 0, 0, 0, 0, 0, 0, 0, 0, 0, 0, 0, 0, 0, 0, 0, 0, 0, 0, 0, 0, 0, 0, 0, 0, 0, 0, 0, 0, 0, 0, 0, 0, 0, 0, 0, 0, 0, 0, 0, 0, 0, 0, 0, 0, 0, 0, 0, 0, 0, 0, 0, 0, 0, 0, 0, 0, 0, 0, 0, 0, 0, 0, 0, 0, 0, 0, 0, 0, 0, 1, 0, 0, 0, 0, 0, 0, 0, 0, 0, 0, 0, 0, 0, 0, 0, 0, 0, 0, 0, 0, 0, 0, 0, 0, 0, 0, 0, 0, 0, 0, 0, 0, 0, 0, 0, 0, 0, 0, 0, 0, 0, 0, 0, 0, 0, 0, 0, 0, 0, 0, 0, 0, 0, 0, 0, 0, 0, 0, 0, 0, 0, 0, 0, 0, 0, 0, 0, 0, 0, 0, 0, 0, 0, 0, 0, 0, 0, 0, 0, 0, 0, 0, 0, 0, 0, 0, 0, 0, 0, 0, 0, 0, 0, 0, 0, 0, 0, 0, 0, 0, 0, 0, 0, 0, 0, 0, 0, 1, 0, 0, 0, 0, 0, 0, 0, 0, 0, 0, 0, 0, 0, 0, 0, 0, 0, 0, 0, 0, 0, 0, 0, 0, 0, 0, 0, 0, 0, 0, 0, 0, 0, 0, 0, 0, 0, 0, 0, 0, 0, 0, 0, 0, 0, 0, 0, 0, 0, 0, 0, 0, 0, 0, 0, 0, 0, 0, 0, 0, 0, 0, 0, 0, 0, 0, 0, 0, 0, 0, 0, 0, 0, 0, 0, 0, 0, 0, 0, 0, 0, 0, 0, 0, 0, 0, 0, 0, 0, 0, 0, 0, 0, 0, 0, 0, 0, 0, 0, 0, 0, 0, 0, 0, 0, 0, 0, 0, 0, 0, 0, 0, 0, 0, 0, 0, 0, 0, 0, 0, 0, 0, 0, 0, 0, 0, 0, 0, 0, 0, 0, 0, 0, 0, 0, 0, 0, 0, 0, 0, 0, 0, 0, 0, 0, 0, 0, 0, 0, 0, 0, 0, 0, 0, 0, 0, 0, 0, 0, 0, 0, 0, 0, 0, 0, 0, 0, 0, 0, 0, 0, 0, 0, 0, 0, 0, 0, 0, 0, 0, 0, 0, 0, 0, 0, 0, 0, 0, 0, 0, 0, 0, 0, 0, 0, 0, 0, 0, 0, 0, 0, 0, 0, 0, 0, 0, 0, 0, 0, 0, 0, 0, 0, 0, 0, 0, 0, 0, 0, 0, 0, 0, 0, 0, 0, 0, 0, 0, 0, 0, 0, 0, 0, 0, 0, 0, 0, 0, 0, 0, 0, 0, 0, 0, 0, 0, 0, 0, 0, 0, 0, 0, 0, 0, 0, 0, 0, 0, 0, 0, 0, 0, 0, 0, 0, 0, 0, 0, 0, 0, 0, 0, 0, 0, 0, 0, 0, 0, 0, 0, 0, 0, 0, 0, 0, 0, 0, 0, 0, 0, 0, 0, 0, 0, 0, 0, 0, 0, 0, 0, 0, 0, 0, 0, 0, 0, 0, 0, 0, 0, 0, 0, 0, 0, 0, 0, 0, 0, 0, 0, 0, 0, 0, 0, 0, 0, 0, 0, 0, 0, 0, 0, 0, 0, 0, 0, 0, 0, 0, 0, 0, 0, 0, 0, 0, 0, 0, 0, 0, 0, 0, 0, 0, 0, 0, 0, 0, 0, 0, 0, 0, 0, 0, 0, 0, 0, 0, 0, 0, 0, 0, 0, 0, 0, 0, 0, 0, 0, 0, 0, 0, 0, 0, 0, 0, 0, 0, 0, 0, 0, 0, 0, 0, 0, 0, 0, 0, 0, 0, 0, 0, 0, 0, 0, 0, 0, 0, 0, 0, 0, 0, 0, 0, 0, 0, 0, 0, 0, 0, 0, 0, 0, 0, 0, 0, 0, 0, 0, 0, 0, 0, 0, 0, 0, 0, 0, 0, 0, 0, 0, 0, 0, 0, 0, 0, 0, 0, 0, 0, 0, 0, 0, 0, 0, 0, 0, 0, 0, 0, 0, 0, 0, 0, 2, 0, 1, 0], type: <class 'list'>, valid types: <class 'bytes'>, <class 'bytearray'>, file-like object",
     "output_type": "error",
     "traceback": [
      "\u001b[0;31m---------------------------------------------------------------------------\u001b[0m",
      "\u001b[0;31mParamValidationError\u001b[0m                      Traceback (most recent call last)",
      "\u001b[0;32m<ipython-input-52-c9ab54ae3a48>\u001b[0m in \u001b[0;36m<module>\u001b[0;34m\u001b[0m\n\u001b[1;32m      1\u001b[0m response = runtime.invoke_endpoint(EndpointName = xgb_predictor.endpoint, # The name of the endpoint we created\n\u001b[1;32m      2\u001b[0m                                        \u001b[0mContentType\u001b[0m \u001b[0;34m=\u001b[0m \u001b[0;34m'text/csv'\u001b[0m\u001b[0;34m,\u001b[0m                     \u001b[0;31m# The data format that is expected\u001b[0m\u001b[0;34m\u001b[0m\u001b[0;34m\u001b[0m\u001b[0m\n\u001b[0;32m----> 3\u001b[0;31m                                        Body = test_bow)\n\u001b[0m",
      "\u001b[0;32m~/anaconda3/envs/python3/lib/python3.6/site-packages/botocore/client.py\u001b[0m in \u001b[0;36m_api_call\u001b[0;34m(self, *args, **kwargs)\u001b[0m\n\u001b[1;32m    314\u001b[0m                     \"%s() only accepts keyword arguments.\" % py_operation_name)\n\u001b[1;32m    315\u001b[0m             \u001b[0;31m# The \"self\" in this scope is referring to the BaseClient.\u001b[0m\u001b[0;34m\u001b[0m\u001b[0;34m\u001b[0m\u001b[0;34m\u001b[0m\u001b[0m\n\u001b[0;32m--> 316\u001b[0;31m             \u001b[0;32mreturn\u001b[0m \u001b[0mself\u001b[0m\u001b[0;34m.\u001b[0m\u001b[0m_make_api_call\u001b[0m\u001b[0;34m(\u001b[0m\u001b[0moperation_name\u001b[0m\u001b[0;34m,\u001b[0m \u001b[0mkwargs\u001b[0m\u001b[0;34m)\u001b[0m\u001b[0;34m\u001b[0m\u001b[0;34m\u001b[0m\u001b[0m\n\u001b[0m\u001b[1;32m    317\u001b[0m \u001b[0;34m\u001b[0m\u001b[0m\n\u001b[1;32m    318\u001b[0m         \u001b[0m_api_call\u001b[0m\u001b[0;34m.\u001b[0m\u001b[0m__name__\u001b[0m \u001b[0;34m=\u001b[0m \u001b[0mstr\u001b[0m\u001b[0;34m(\u001b[0m\u001b[0mpy_operation_name\u001b[0m\u001b[0;34m)\u001b[0m\u001b[0;34m\u001b[0m\u001b[0;34m\u001b[0m\u001b[0m\n",
      "\u001b[0;32m~/anaconda3/envs/python3/lib/python3.6/site-packages/botocore/client.py\u001b[0m in \u001b[0;36m_make_api_call\u001b[0;34m(self, operation_name, api_params)\u001b[0m\n\u001b[1;32m    606\u001b[0m         }\n\u001b[1;32m    607\u001b[0m         request_dict = self._convert_to_request_dict(\n\u001b[0;32m--> 608\u001b[0;31m             api_params, operation_model, context=request_context)\n\u001b[0m\u001b[1;32m    609\u001b[0m \u001b[0;34m\u001b[0m\u001b[0m\n\u001b[1;32m    610\u001b[0m         \u001b[0mservice_id\u001b[0m \u001b[0;34m=\u001b[0m \u001b[0mself\u001b[0m\u001b[0;34m.\u001b[0m\u001b[0m_service_model\u001b[0m\u001b[0;34m.\u001b[0m\u001b[0mservice_id\u001b[0m\u001b[0;34m.\u001b[0m\u001b[0mhyphenize\u001b[0m\u001b[0;34m(\u001b[0m\u001b[0;34m)\u001b[0m\u001b[0;34m\u001b[0m\u001b[0;34m\u001b[0m\u001b[0m\n",
      "\u001b[0;32m~/anaconda3/envs/python3/lib/python3.6/site-packages/botocore/client.py\u001b[0m in \u001b[0;36m_convert_to_request_dict\u001b[0;34m(self, api_params, operation_model, context)\u001b[0m\n\u001b[1;32m    654\u001b[0m             api_params, operation_model, context)\n\u001b[1;32m    655\u001b[0m         request_dict = self._serializer.serialize_to_request(\n\u001b[0;32m--> 656\u001b[0;31m             api_params, operation_model)\n\u001b[0m\u001b[1;32m    657\u001b[0m         \u001b[0;32mif\u001b[0m \u001b[0;32mnot\u001b[0m \u001b[0mself\u001b[0m\u001b[0;34m.\u001b[0m\u001b[0m_client_config\u001b[0m\u001b[0;34m.\u001b[0m\u001b[0minject_host_prefix\u001b[0m\u001b[0;34m:\u001b[0m\u001b[0;34m\u001b[0m\u001b[0;34m\u001b[0m\u001b[0m\n\u001b[1;32m    658\u001b[0m             \u001b[0mrequest_dict\u001b[0m\u001b[0;34m.\u001b[0m\u001b[0mpop\u001b[0m\u001b[0;34m(\u001b[0m\u001b[0;34m'host_prefix'\u001b[0m\u001b[0;34m,\u001b[0m \u001b[0;32mNone\u001b[0m\u001b[0;34m)\u001b[0m\u001b[0;34m\u001b[0m\u001b[0;34m\u001b[0m\u001b[0m\n",
      "\u001b[0;32m~/anaconda3/envs/python3/lib/python3.6/site-packages/botocore/validate.py\u001b[0m in \u001b[0;36mserialize_to_request\u001b[0;34m(self, parameters, operation_model)\u001b[0m\n\u001b[1;32m    295\u001b[0m                                                     operation_model.input_shape)\n\u001b[1;32m    296\u001b[0m             \u001b[0;32mif\u001b[0m \u001b[0mreport\u001b[0m\u001b[0;34m.\u001b[0m\u001b[0mhas_errors\u001b[0m\u001b[0;34m(\u001b[0m\u001b[0;34m)\u001b[0m\u001b[0;34m:\u001b[0m\u001b[0;34m\u001b[0m\u001b[0;34m\u001b[0m\u001b[0m\n\u001b[0;32m--> 297\u001b[0;31m                 \u001b[0;32mraise\u001b[0m \u001b[0mParamValidationError\u001b[0m\u001b[0;34m(\u001b[0m\u001b[0mreport\u001b[0m\u001b[0;34m=\u001b[0m\u001b[0mreport\u001b[0m\u001b[0;34m.\u001b[0m\u001b[0mgenerate_report\u001b[0m\u001b[0;34m(\u001b[0m\u001b[0;34m)\u001b[0m\u001b[0;34m)\u001b[0m\u001b[0;34m\u001b[0m\u001b[0;34m\u001b[0m\u001b[0m\n\u001b[0m\u001b[1;32m    298\u001b[0m         return self._serializer.serialize_to_request(parameters,\n\u001b[1;32m    299\u001b[0m                                                      operation_model)\n",
      "\u001b[0;31mParamValidationError\u001b[0m: Parameter validation failed:\nInvalid type for parameter Body, value: [0, 0, 0, 0, 0, 0, 0, 0, 0, 0, 0, 0, 0, 0, 0, 0, 0, 0, 0, 0, 0, 0, 0, 0, 0, 0, 0, 0, 0, 0, 0, 0, 0, 0, 0, 0, 0, 0, 0, 0, 0, 0, 0, 0, 0, 0, 0, 0, 0, 0, 0, 0, 0, 0, 0, 0, 0, 0, 0, 0, 0, 0, 0, 0, 0, 0, 0, 0, 0, 0, 0, 0, 0, 0, 0, 0, 0, 0, 0, 0, 0, 0, 0, 0, 0, 0, 0, 0, 0, 0, 0, 0, 0, 0, 0, 0, 0, 0, 0, 0, 0, 0, 0, 0, 0, 0, 0, 0, 0, 0, 0, 0, 0, 0, 0, 0, 0, 0, 0, 0, 0, 0, 0, 0, 0, 0, 0, 0, 0, 0, 0, 0, 0, 0, 0, 0, 0, 0, 0, 0, 0, 0, 0, 0, 0, 0, 0, 0, 0, 0, 0, 0, 0, 0, 0, 0, 0, 0, 0, 0, 0, 0, 0, 0, 0, 0, 0, 0, 0, 0, 0, 0, 0, 0, 0, 0, 0, 0, 0, 0, 0, 0, 0, 0, 0, 0, 0, 0, 0, 0, 0, 0, 0, 0, 0, 0, 0, 0, 0, 0, 0, 0, 0, 0, 0, 0, 0, 0, 0, 0, 0, 0, 0, 0, 0, 0, 0, 0, 0, 0, 0, 0, 0, 0, 0, 0, 1, 0, 0, 0, 0, 0, 0, 0, 0, 0, 0, 0, 0, 0, 0, 0, 0, 0, 0, 0, 0, 0, 0, 0, 0, 0, 0, 0, 0, 0, 1, 0, 0, 0, 0, 0, 0, 0, 0, 0, 0, 0, 0, 0, 0, 0, 0, 0, 0, 0, 0, 0, 0, 0, 0, 0, 0, 0, 0, 0, 0, 0, 0, 0, 0, 0, 0, 0, 0, 0, 0, 0, 0, 0, 0, 0, 0, 0, 0, 0, 0, 0, 0, 0, 0, 0, 0, 0, 0, 0, 0, 0, 0, 0, 0, 0, 0, 0, 0, 0, 0, 0, 0, 0, 0, 0, 0, 0, 0, 0, 0, 0, 0, 0, 0, 0, 0, 0, 0, 0, 0, 0, 0, 0, 0, 0, 0, 0, 0, 0, 0, 0, 0, 0, 0, 0, 0, 0, 0, 0, 0, 0, 0, 0, 0, 0, 0, 0, 0, 0, 0, 0, 0, 0, 0, 0, 0, 0, 0, 0, 0, 0, 0, 0, 0, 0, 0, 0, 0, 0, 0, 0, 0, 0, 0, 0, 0, 0, 0, 0, 0, 0, 0, 0, 0, 0, 0, 0, 0, 0, 0, 0, 0, 0, 0, 0, 0, 0, 0, 0, 0, 0, 0, 0, 0, 0, 0, 0, 0, 0, 0, 0, 0, 0, 0, 0, 0, 0, 0, 0, 0, 0, 0, 0, 0, 0, 0, 0, 0, 0, 0, 0, 0, 0, 0, 0, 0, 0, 0, 0, 0, 0, 0, 0, 0, 0, 0, 0, 0, 0, 0, 0, 0, 0, 0, 0, 0, 0, 0, 0, 0, 0, 0, 0, 0, 0, 0, 0, 0, 0, 0, 0, 0, 0, 0, 0, 0, 0, 0, 0, 0, 0, 0, 0, 0, 0, 0, 0, 0, 0, 0, 0, 0, 0, 0, 0, 0, 0, 0, 0, 0, 0, 0, 0, 0, 0, 0, 0, 0, 0, 0, 0, 0, 0, 0, 0, 0, 0, 0, 0, 0, 0, 0, 0, 0, 0, 0, 0, 0, 0, 0, 0, 0, 0, 0, 0, 0, 0, 0, 0, 0, 0, 0, 0, 0, 0, 0, 0, 0, 0, 0, 0, 0, 0, 0, 0, 0, 0, 0, 0, 0, 0, 0, 0, 0, 0, 0, 0, 0, 0, 0, 0, 0, 0, 0, 0, 0, 0, 0, 0, 0, 0, 0, 0, 0, 0, 0, 0, 0, 0, 0, 0, 0, 0, 0, 0, 0, 0, 0, 0, 0, 0, 0, 0, 0, 0, 0, 0, 0, 0, 1, 0, 0, 0, 0, 0, 0, 0, 0, 0, 0, 0, 0, 0, 0, 0, 0, 0, 0, 0, 0, 0, 0, 0, 0, 0, 0, 0, 0, 0, 0, 0, 0, 0, 0, 0, 0, 0, 0, 0, 0, 0, 0, 0, 0, 0, 0, 0, 0, 0, 0, 0, 0, 0, 0, 0, 0, 0, 0, 0, 0, 0, 0, 0, 0, 0, 0, 0, 0, 0, 0, 0, 0, 0, 0, 0, 0, 0, 0, 0, 0, 0, 0, 0, 0, 0, 0, 0, 0, 0, 0, 0, 0, 0, 0, 0, 0, 0, 0, 0, 0, 0, 0, 0, 0, 0, 0, 0, 0, 0, 0, 0, 0, 0, 0, 0, 0, 0, 0, 0, 0, 0, 0, 0, 0, 0, 0, 0, 0, 0, 0, 0, 0, 0, 0, 0, 0, 0, 0, 0, 0, 0, 0, 0, 0, 0, 0, 0, 0, 0, 0, 0, 0, 0, 0, 0, 0, 0, 0, 0, 0, 0, 0, 0, 0, 0, 0, 0, 0, 0, 0, 0, 0, 0, 0, 0, 0, 0, 0, 0, 0, 0, 0, 0, 0, 0, 0, 0, 0, 0, 0, 0, 0, 0, 0, 0, 0, 0, 0, 0, 0, 0, 0, 0, 0, 0, 0, 0, 0, 0, 0, 0, 0, 0, 0, 0, 0, 0, 0, 0, 0, 0, 0, 0, 0, 0, 0, 0, 0, 0, 0, 0, 0, 0, 0, 0, 0, 0, 0, 0, 0, 0, 0, 0, 0, 0, 0, 0, 0, 0, 0, 0, 0, 0, 1, 0, 0, 0, 0, 0, 0, 0, 0, 0, 0, 0, 0, 0, 0, 0, 0, 0, 0, 0, 0, 0, 0, 0, 0, 0, 0, 0, 0, 0, 0, 0, 0, 0, 0, 0, 0, 0, 0, 0, 0, 0, 0, 0, 0, 0, 0, 0, 0, 0, 0, 0, 0, 0, 0, 0, 0, 0, 0, 0, 0, 0, 0, 0, 0, 0, 0, 0, 0, 0, 0, 0, 0, 0, 0, 0, 0, 0, 0, 0, 0, 0, 0, 0, 0, 0, 0, 1, 0, 0, 0, 0, 0, 0, 0, 0, 0, 0, 0, 0, 0, 0, 0, 0, 0, 0, 0, 0, 0, 0, 0, 0, 0, 0, 0, 0, 0, 0, 0, 0, 0, 0, 0, 0, 0, 0, 0, 0, 0, 0, 0, 0, 0, 0, 0, 0, 0, 0, 0, 0, 0, 0, 0, 0, 0, 0, 0, 0, 0, 0, 0, 0, 0, 0, 0, 0, 0, 0, 0, 0, 0, 0, 0, 0, 0, 0, 0, 0, 0, 0, 0, 0, 0, 0, 0, 0, 0, 0, 0, 0, 0, 0, 0, 0, 0, 0, 0, 0, 0, 0, 0, 0, 0, 0, 0, 0, 0, 0, 0, 0, 0, 0, 0, 0, 0, 0, 0, 0, 0, 0, 0, 0, 0, 0, 0, 0, 0, 0, 0, 0, 0, 0, 0, 0, 0, 0, 0, 0, 0, 0, 0, 0, 0, 0, 0, 0, 0, 0, 0, 0, 0, 0, 0, 0, 0, 0, 0, 0, 0, 0, 0, 0, 0, 0, 0, 0, 0, 0, 0, 0, 0, 0, 0, 0, 0, 0, 0, 0, 0, 0, 0, 0, 0, 0, 0, 0, 0, 0, 0, 0, 0, 0, 0, 0, 0, 0, 0, 0, 0, 0, 0, 0, 0, 0, 0, 0, 0, 0, 0, 0, 0, 0, 0, 0, 0, 0, 0, 0, 0, 0, 0, 0, 0, 0, 0, 0, 0, 0, 0, 0, 0, 0, 0, 0, 0, 0, 0, 0, 0, 0, 0, 0, 0, 0, 0, 0, 0, 0, 0, 0, 1, 0, 0, 0, 0, 0, 0, 0, 0, 0, 0, 0, 0, 0, 0, 0, 0, 0, 0, 0, 0, 0, 0, 0, 0, 0, 0, 0, 0, 0, 0, 0, 0, 0, 0, 0, 0, 0, 0, 0, 0, 0, 0, 0, 0, 0, 0, 0, 0, 0, 0, 0, 0, 0, 0, 0, 1, 0, 0, 0, 0, 0, 0, 0, 0, 0, 0, 0, 0, 0, 0, 0, 0, 0, 0, 0, 0, 0, 0, 0, 0, 0, 0, 0, 0, 0, 0, 0, 0, 0, 0, 0, 0, 0, 0, 0, 0, 0, 0, 0, 0, 0, 0, 0, 0, 0, 0, 0, 0, 0, 0, 0, 0, 0, 0, 0, 0, 0, 0, 0, 0, 0, 0, 0, 0, 0, 0, 0, 0, 0, 0, 0, 0, 0, 0, 0, 0, 0, 0, 0, 0, 0, 0, 0, 0, 0, 0, 0, 0, 0, 0, 0, 0, 0, 0, 0, 0, 0, 0, 0, 0, 0, 0, 0, 0, 0, 0, 0, 0, 0, 0, 0, 0, 0, 0, 0, 0, 0, 0, 0, 0, 0, 0, 0, 0, 0, 0, 0, 0, 0, 0, 0, 0, 0, 0, 0, 0, 0, 0, 0, 0, 0, 0, 0, 0, 0, 0, 0, 0, 0, 0, 0, 0, 0, 0, 0, 0, 0, 0, 0, 0, 0, 0, 0, 0, 0, 0, 0, 0, 0, 0, 0, 0, 0, 0, 0, 0, 0, 0, 0, 0, 0, 0, 0, 0, 0, 0, 0, 0, 0, 0, 0, 0, 0, 0, 0, 0, 0, 0, 0, 0, 0, 0, 0, 0, 0, 0, 0, 0, 0, 0, 0, 0, 0, 0, 0, 0, 0, 0, 0, 0, 0, 0, 0, 0, 0, 0, 0, 0, 0, 0, 0, 0, 0, 0, 0, 0, 0, 0, 0, 0, 0, 0, 0, 0, 0, 0, 0, 0, 0, 0, 0, 0, 0, 0, 0, 0, 0, 0, 0, 0, 0, 0, 0, 0, 0, 0, 0, 0, 0, 0, 0, 0, 0, 0, 0, 0, 0, 0, 0, 0, 0, 0, 0, 0, 0, 0, 0, 0, 0, 0, 0, 0, 0, 0, 0, 0, 0, 0, 0, 0, 0, 0, 0, 0, 0, 0, 0, 0, 0, 0, 0, 0, 0, 0, 0, 0, 0, 0, 0, 0, 0, 0, 0, 0, 0, 0, 0, 0, 0, 0, 0, 0, 0, 0, 0, 0, 0, 0, 0, 0, 0, 0, 0, 0, 0, 0, 0, 0, 0, 0, 0, 0, 0, 0, 0, 0, 0, 0, 0, 0, 0, 0, 0, 0, 0, 0, 0, 0, 0, 0, 0, 0, 0, 0, 0, 0, 0, 0, 0, 0, 0, 0, 0, 0, 0, 0, 0, 0, 0, 0, 0, 0, 0, 0, 0, 0, 0, 0, 0, 0, 0, 0, 0, 0, 0, 0, 0, 0, 0, 0, 0, 0, 0, 0, 0, 0, 0, 0, 0, 0, 0, 0, 0, 0, 0, 0, 0, 0, 0, 0, 0, 0, 0, 0, 0, 0, 0, 0, 0, 0, 0, 0, 0, 0, 0, 0, 0, 0, 0, 0, 0, 0, 0, 0, 0, 0, 0, 0, 0, 0, 0, 0, 0, 0, 0, 0, 0, 0, 0, 0, 0, 0, 0, 0, 0, 0, 0, 0, 0, 0, 0, 0, 0, 0, 0, 0, 0, 0, 0, 0, 0, 0, 0, 0, 0, 0, 0, 0, 0, 0, 0, 0, 0, 0, 0, 0, 0, 0, 0, 0, 0, 0, 0, 0, 0, 0, 0, 0, 0, 0, 0, 0, 0, 0, 0, 0, 0, 0, 0, 0, 0, 0, 0, 0, 0, 0, 0, 0, 0, 0, 0, 0, 0, 0, 0, 0, 0, 0, 0, 0, 0, 0, 0, 0, 0, 0, 0, 0, 0, 0, 0, 0, 0, 0, 0, 0, 0, 0, 0, 0, 0, 0, 0, 0, 0, 0, 0, 0, 0, 0, 0, 0, 0, 0, 0, 0, 0, 0, 0, 0, 0, 0, 0, 0, 0, 0, 0, 0, 0, 0, 0, 0, 0, 0, 0, 0, 0, 0, 0, 0, 0, 0, 0, 0, 0, 0, 0, 0, 0, 0, 0, 0, 0, 0, 0, 0, 0, 0, 0, 0, 0, 0, 0, 0, 0, 0, 0, 0, 0, 0, 0, 0, 0, 0, 0, 0, 0, 0, 0, 0, 0, 0, 0, 0, 0, 0, 0, 0, 0, 0, 0, 0, 0, 0, 0, 0, 0, 0, 0, 0, 0, 0, 0, 0, 0, 0, 0, 1, 0, 0, 0, 0, 0, 0, 0, 0, 0, 0, 0, 0, 0, 0, 0, 0, 0, 0, 0, 0, 0, 0, 0, 0, 0, 0, 0, 0, 0, 0, 0, 0, 0, 0, 0, 0, 0, 0, 0, 0, 0, 0, 0, 0, 0, 0, 0, 0, 0, 0, 0, 0, 0, 0, 0, 0, 0, 0, 0, 0, 0, 0, 0, 0, 0, 0, 0, 0, 0, 0, 0, 0, 0, 0, 1, 0, 0, 0, 0, 0, 0, 0, 0, 0, 0, 0, 0, 0, 0, 0, 0, 0, 0, 0, 0, 1, 0, 0, 1, 0, 0, 0, 0, 0, 0, 0, 0, 0, 0, 0, 0, 0, 0, 0, 0, 0, 0, 0, 0, 0, 0, 0, 0, 0, 0, 0, 0, 0, 0, 0, 0, 0, 0, 0, 0, 0, 0, 0, 0, 0, 0, 0, 0, 0, 0, 0, 0, 0, 0, 0, 0, 0, 0, 0, 0, 0, 0, 0, 0, 0, 0, 0, 0, 0, 0, 0, 0, 0, 0, 0, 0, 0, 0, 0, 0, 0, 0, 0, 0, 0, 0, 0, 0, 0, 0, 0, 0, 0, 0, 0, 0, 0, 0, 0, 0, 0, 0, 0, 0, 0, 0, 0, 0, 0, 0, 0, 0, 0, 0, 0, 0, 0, 0, 0, 0, 0, 0, 0, 0, 0, 0, 0, 0, 0, 0, 0, 0, 0, 0, 0, 0, 0, 0, 0, 0, 0, 0, 0, 0, 0, 0, 0, 0, 0, 0, 0, 0, 0, 0, 0, 0, 0, 0, 0, 0, 0, 0, 0, 0, 0, 0, 0, 0, 0, 0, 0, 0, 0, 0, 0, 0, 0, 0, 0, 0, 0, 0, 0, 0, 0, 0, 0, 0, 0, 0, 0, 0, 0, 0, 0, 0, 0, 0, 0, 0, 0, 0, 0, 0, 0, 0, 0, 0, 0, 0, 0, 0, 0, 0, 0, 0, 0, 0, 0, 0, 0, 0, 0, 0, 0, 0, 0, 0, 0, 0, 0, 0, 0, 0, 0, 0, 0, 0, 0, 0, 0, 0, 0, 0, 0, 0, 0, 0, 0, 0, 0, 0, 0, 0, 0, 0, 0, 0, 0, 0, 0, 0, 0, 0, 0, 0, 0, 0, 0, 0, 0, 0, 0, 0, 0, 0, 0, 0, 0, 0, 0, 0, 0, 0, 0, 0, 0, 0, 0, 0, 0, 0, 0, 0, 0, 0, 0, 0, 0, 0, 0, 0, 0, 0, 0, 0, 0, 0, 0, 0, 0, 0, 0, 0, 0, 0, 0, 0, 0, 0, 0, 0, 0, 0, 0, 0, 0, 0, 0, 0, 0, 0, 0, 0, 0, 0, 0, 0, 0, 0, 0, 0, 0, 0, 0, 0, 0, 0, 0, 0, 0, 0, 0, 0, 0, 0, 0, 0, 0, 0, 0, 0, 0, 0, 0, 0, 0, 0, 0, 0, 0, 0, 0, 0, 0, 0, 0, 0, 0, 0, 0, 0, 0, 0, 0, 0, 0, 0, 0, 0, 0, 0, 0, 0, 0, 0, 0, 0, 0, 0, 0, 0, 0, 0, 0, 0, 0, 0, 0, 0, 0, 0, 0, 0, 0, 0, 0, 0, 0, 0, 0, 0, 0, 0, 0, 0, 0, 0, 0, 0, 0, 0, 0, 0, 0, 0, 0, 0, 0, 0, 0, 0, 0, 0, 0, 0, 0, 0, 0, 0, 0, 0, 0, 0, 0, 0, 0, 0, 0, 0, 0, 0, 0, 0, 0, 0, 0, 0, 0, 0, 1, 0, 0, 0, 0, 0, 0, 0, 0, 0, 0, 0, 0, 0, 0, 0, 0, 0, 0, 0, 0, 0, 0, 0, 0, 0, 0, 0, 0, 0, 0, 0, 0, 0, 0, 0, 0, 0, 0, 0, 0, 0, 0, 0, 0, 0, 0, 0, 0, 0, 0, 0, 0, 0, 0, 0, 0, 0, 0, 0, 0, 0, 0, 0, 0, 0, 0, 0, 0, 0, 0, 0, 0, 0, 0, 0, 0, 0, 0, 0, 0, 0, 0, 0, 0, 0, 0, 0, 0, 0, 0, 0, 0, 0, 0, 0, 0, 0, 0, 0, 0, 0, 0, 0, 0, 0, 0, 0, 0, 0, 0, 0, 0, 0, 0, 0, 0, 0, 0, 0, 0, 0, 0, 0, 0, 0, 0, 0, 0, 0, 0, 0, 0, 0, 0, 0, 0, 0, 0, 0, 0, 0, 0, 0, 0, 0, 0, 0, 0, 0, 0, 0, 0, 0, 0, 0, 0, 0, 0, 0, 0, 0, 0, 0, 0, 0, 0, 0, 0, 0, 0, 0, 0, 0, 0, 0, 0, 0, 0, 0, 0, 0, 0, 0, 0, 0, 0, 0, 0, 0, 0, 0, 0, 0, 0, 0, 0, 0, 0, 0, 0, 0, 0, 0, 0, 0, 0, 0, 0, 0, 0, 0, 0, 0, 0, 0, 0, 0, 0, 0, 0, 0, 0, 0, 0, 0, 0, 0, 0, 0, 0, 0, 0, 0, 0, 0, 0, 0, 0, 0, 0, 0, 0, 0, 0, 0, 0, 0, 0, 0, 0, 0, 0, 0, 0, 0, 0, 0, 0, 0, 0, 0, 0, 0, 0, 0, 0, 0, 0, 0, 0, 0, 0, 0, 0, 0, 0, 0, 0, 0, 0, 0, 0, 0, 0, 0, 0, 0, 0, 0, 0, 0, 0, 0, 0, 0, 0, 0, 0, 0, 0, 0, 0, 0, 0, 0, 0, 0, 0, 0, 0, 0, 0, 0, 0, 0, 0, 0, 0, 0, 0, 0, 0, 0, 0, 0, 0, 0, 0, 0, 0, 0, 0, 0, 0, 0, 0, 0, 0, 0, 0, 0, 0, 0, 0, 0, 0, 0, 0, 0, 0, 0, 0, 0, 0, 0, 0, 0, 0, 0, 0, 0, 0, 0, 0, 0, 0, 0, 0, 0, 0, 0, 0, 0, 0, 0, 0, 0, 0, 0, 0, 0, 0, 0, 0, 0, 0, 0, 0, 0, 0, 0, 0, 0, 0, 0, 0, 0, 0, 0, 0, 0, 0, 0, 0, 0, 0, 0, 0, 0, 0, 0, 0, 0, 0, 0, 0, 0, 0, 0, 0, 0, 0, 0, 0, 0, 0, 0, 0, 0, 0, 0, 0, 0, 0, 0, 0, 0, 0, 0, 0, 0, 0, 0, 0, 0, 0, 0, 0, 0, 0, 0, 0, 0, 0, 0, 0, 0, 0, 0, 0, 0, 0, 0, 0, 0, 0, 0, 0, 0, 0, 0, 0, 0, 0, 0, 0, 0, 0, 0, 0, 0, 0, 0, 0, 0, 0, 0, 0, 0, 0, 0, 0, 0, 0, 0, 0, 0, 0, 0, 0, 0, 0, 0, 0, 0, 0, 0, 0, 0, 0, 0, 0, 1, 0, 0, 0, 0, 0, 0, 0, 0, 0, 0, 0, 0, 0, 0, 0, 0, 0, 0, 0, 0, 0, 0, 0, 0, 0, 0, 0, 0, 0, 0, 0, 0, 0, 0, 0, 2, 0, 0, 0, 0, 0, 0, 0, 0, 0, 0, 0, 0, 0, 0, 0, 0, 0, 0, 0, 0, 0, 0, 0, 0, 0, 0, 0, 0, 0, 0, 0, 0, 0, 0, 0, 0, 0, 0, 0, 0, 1, 0, 0, 0, 0, 0, 0, 0, 0, 0, 0, 0, 0, 0, 0, 0, 0, 0, 0, 0, 0, 0, 0, 0, 0, 0, 0, 0, 0, 0, 0, 0, 0, 0, 0, 0, 0, 0, 0, 0, 0, 0, 0, 0, 0, 0, 0, 0, 0, 0, 0, 0, 0, 0, 0, 0, 0, 0, 0, 0, 0, 0, 0, 0, 0, 0, 0, 0, 0, 0, 0, 0, 0, 0, 0, 0, 0, 0, 0, 0, 0, 0, 0, 0, 0, 0, 0, 0, 0, 0, 0, 0, 0, 0, 0, 0, 0, 0, 0, 0, 0, 0, 0, 0, 0, 0, 0, 0, 0, 0, 0, 0, 0, 0, 0, 0, 0, 0, 0, 0, 0, 0, 0, 0, 0, 0, 0, 0, 0, 0, 0, 0, 0, 0, 0, 0, 0, 0, 0, 0, 0, 0, 0, 0, 0, 0, 0, 0, 0, 0, 0, 0, 0, 0, 0, 0, 0, 0, 0, 0, 0, 0, 0, 0, 0, 0, 0, 0, 0, 0, 0, 0, 0, 0, 0, 0, 0, 0, 0, 0, 0, 0, 0, 0, 0, 0, 0, 0, 0, 0, 0, 0, 0, 0, 0, 0, 0, 0, 0, 0, 0, 0, 0, 0, 0, 0, 0, 0, 0, 0, 0, 0, 0, 0, 0, 0, 0, 0, 0, 0, 0, 0, 0, 0, 0, 0, 0, 0, 0, 0, 0, 0, 0, 0, 0, 0, 0, 0, 0, 0, 0, 0, 0, 0, 0, 0, 0, 0, 0, 0, 0, 0, 0, 0, 0, 0, 0, 0, 0, 0, 0, 0, 0, 0, 0, 0, 0, 0, 0, 0, 0, 0, 0, 0, 0, 0, 0, 0, 0, 0, 0, 0, 0, 0, 0, 0, 0, 0, 0, 0, 0, 0, 0, 0, 0, 0, 0, 0, 0, 0, 0, 0, 0, 0, 0, 0, 0, 0, 0, 0, 0, 0, 0, 0, 0, 0, 0, 0, 0, 0, 0, 0, 0, 0, 0, 0, 0, 0, 0, 0, 0, 0, 0, 0, 0, 0, 0, 0, 0, 0, 0, 0, 0, 0, 0, 0, 0, 0, 0, 0, 0, 0, 0, 0, 0, 0, 0, 0, 0, 0, 0, 0, 0, 0, 0, 0, 0, 0, 0, 0, 0, 0, 0, 0, 0, 0, 0, 0, 0, 0, 0, 0, 0, 0, 0, 0, 0, 0, 0, 0, 0, 0, 0, 0, 0, 0, 0, 0, 0, 0, 0, 0, 0, 0, 0, 0, 0, 0, 0, 0, 0, 0, 0, 0, 0, 0, 0, 0, 0, 0, 0, 0, 0, 0, 0, 0, 0, 0, 0, 0, 0, 0, 0, 0, 0, 0, 0, 0, 0, 0, 0, 0, 0, 0, 0, 0, 0, 0, 0, 0, 0, 0, 0, 0, 0, 0, 0, 0, 0, 0, 0, 0, 0, 0, 0, 0, 0, 0, 0, 0, 0, 0, 0, 0, 0, 0, 0, 0, 0, 0, 0, 0, 0, 0, 0, 0, 0, 0, 0, 0, 0, 0, 0, 0, 0, 0, 0, 0, 1, 0, 0, 0, 0, 0, 0, 0, 0, 0, 0, 0, 0, 0, 0, 0, 0, 0, 0, 0, 0, 0, 0, 0, 0, 0, 0, 0, 0, 0, 0, 0, 0, 0, 0, 0, 0, 0, 0, 0, 0, 0, 0, 0, 0, 0, 0, 0, 0, 0, 0, 0, 0, 0, 0, 0, 0, 0, 0, 0, 0, 0, 0, 0, 0, 0, 0, 0, 0, 0, 0, 0, 0, 0, 0, 0, 0, 0, 0, 0, 0, 0, 0, 0, 0, 0, 0, 0, 0, 0, 0, 0, 0, 0, 0, 0, 0, 0, 0, 0, 0, 0, 0, 0, 0, 0, 0, 0, 0, 0, 0, 2, 0, 0, 0, 0, 0, 0, 0, 0, 0, 0, 0, 0, 0, 0, 0, 0, 0, 0, 0, 0, 0, 0, 0, 0, 0, 0, 0, 0, 0, 0, 0, 0, 0, 0, 0, 0, 0, 0, 0, 0, 0, 0, 0, 0, 0, 0, 0, 0, 0, 0, 0, 0, 0, 0, 0, 0, 0, 0, 0, 0, 0, 0, 0, 0, 0, 0, 0, 0, 0, 0, 0, 0, 0, 0, 0, 0, 0, 0, 0, 0, 0, 0, 0, 0, 0, 0, 0, 0, 0, 0, 0, 0, 0, 0, 0, 0, 0, 0, 0, 0, 0, 0, 0, 0, 0, 0, 0, 0, 0, 0, 0, 0, 0, 0, 0, 0, 0, 0, 0, 0, 0, 0, 0, 0, 0, 0, 0, 0, 0, 0, 0, 0, 0, 0, 0, 0, 0, 0, 0, 0, 0, 0, 0, 0, 0, 0, 0, 0, 0, 0, 0, 0, 0, 0, 0, 0, 0, 0, 0, 0, 0, 0, 0, 0, 0, 0, 0, 0, 0, 0, 0, 0, 0, 0, 0, 0, 0, 0, 0, 0, 0, 0, 0, 0, 0, 0, 0, 0, 0, 0, 0, 0, 0, 0, 0, 0, 0, 0, 0, 0, 0, 0, 0, 0, 0, 0, 0, 0, 0, 0, 0, 0, 0, 0, 0, 0, 0, 0, 0, 0, 0, 0, 0, 0, 0, 0, 0, 0, 0, 0, 0, 0, 0, 0, 0, 0, 0, 0, 0, 0, 0, 0, 0, 0, 0, 0, 0, 0, 0, 0, 0, 0, 0, 0, 0, 0, 0, 0, 0, 0, 0, 0, 0, 0, 0, 0, 0, 0, 0, 0, 0, 0, 0, 0, 0, 0, 0, 0, 0, 0, 0, 0, 0, 0, 0, 0, 0, 0, 0, 0, 0, 0, 0, 0, 0, 0, 0, 0, 0, 0, 0, 0, 0, 0, 0, 0, 0, 0, 0, 0, 0, 0, 0, 0, 0, 0, 0, 0, 0, 0, 0, 0, 0, 0, 0, 0, 0, 0, 0, 0, 0, 0, 0, 0, 0, 0, 0, 0, 0, 0, 0, 0, 0, 0, 0, 0, 0, 0, 0, 0, 0, 0, 0, 0, 0, 0, 0, 0, 0, 0, 0, 0, 0, 0, 0, 0, 0, 0, 0, 0, 0, 0, 0, 0, 0, 0, 0, 0, 0, 0, 0, 0, 0, 0, 0, 0, 0, 0, 0, 0, 0, 0, 0, 0, 0, 0, 0, 0, 0, 0, 0, 0, 0, 0, 0, 0, 0, 0, 0, 0, 0, 0, 0, 0, 0, 0, 0, 0, 0, 0, 0, 0, 0, 0, 0, 0, 0, 0, 0, 0, 0, 0, 0, 0, 0, 0, 0, 0, 0, 0, 0, 0, 0, 0, 0, 0, 0, 0, 0, 0, 0, 0, 0, 0, 0, 0, 0, 0, 0, 0, 0, 0, 0, 0, 0, 0, 0, 0, 0, 0, 0, 0, 0, 0, 0, 0, 0, 0, 0, 0, 0, 0, 0, 0, 0, 0, 0, 0, 0, 0, 0, 0, 0, 0, 0, 0, 0, 0, 0, 0, 0, 0, 0, 0, 0, 0, 0, 0, 0, 0, 0, 0, 0, 0, 0, 0, 0, 0, 0, 0, 0, 0, 0, 0, 0, 0, 0, 0, 0, 0, 0, 0, 0, 0, 0, 0, 0, 0, 0, 0, 0, 0, 0, 0, 0, 0, 0, 0, 0, 0, 0, 0, 0, 0, 0, 0, 0, 0, 0, 0, 0, 0, 0, 0, 0, 0, 0, 0, 0, 0, 0, 0, 0, 0, 0, 0, 0, 0, 0, 0, 0, 0, 0, 0, 0, 0, 0, 0, 0, 0, 0, 0, 0, 0, 0, 0, 0, 0, 0, 0, 0, 0, 0, 0, 0, 0, 0, 0, 0, 0, 0, 0, 0, 0, 0, 0, 0, 0, 0, 0, 0, 0, 0, 0, 0, 0, 0, 0, 0, 0, 0, 0, 0, 0, 0, 0, 0, 0, 0, 0, 0, 0, 0, 0, 0, 0, 0, 0, 0, 0, 0, 0, 0, 0, 0, 0, 0, 0, 0, 0, 0, 0, 0, 0, 0, 0, 0, 0, 0, 0, 0, 0, 0, 0, 0, 0, 0, 0, 0, 0, 0, 0, 0, 0, 0, 0, 0, 0, 0, 0, 1, 0, 0, 0, 0, 0, 0, 0, 0, 0, 0, 0, 0, 0, 0, 0, 0, 0, 0, 0, 0, 0, 0, 0, 0, 0, 0, 0, 0, 0, 0, 0, 0, 0, 0, 0, 0, 0, 0, 0, 0, 0, 0, 0, 0, 0, 0, 0, 0, 0, 0, 0, 0, 0, 0, 0, 0, 0, 0, 0, 0, 0, 0, 0, 0, 0, 0, 0, 0, 0, 0, 0, 0, 0, 0, 0, 0, 0, 0, 0, 0, 0, 0, 0, 0, 0, 0, 0, 0, 0, 0, 0, 0, 0, 0, 0, 0, 0, 0, 0, 0, 0, 0, 0, 0, 0, 0, 0, 1, 0, 0, 0, 0, 0, 0, 0, 0, 0, 0, 0, 0, 0, 0, 0, 0, 0, 0, 0, 0, 0, 0, 0, 0, 0, 0, 0, 0, 0, 0, 0, 0, 0, 0, 0, 0, 0, 0, 0, 0, 0, 0, 0, 0, 0, 0, 0, 0, 0, 0, 0, 0, 0, 0, 0, 0, 0, 0, 0, 0, 0, 0, 0, 0, 0, 0, 0, 0, 0, 0, 0, 0, 0, 0, 0, 0, 0, 0, 0, 0, 0, 0, 0, 0, 0, 0, 0, 0, 0, 0, 0, 0, 0, 0, 0, 0, 0, 0, 0, 0, 0, 0, 0, 0, 0, 0, 0, 0, 0, 0, 0, 0, 0, 0, 0, 0, 0, 0, 0, 0, 0, 0, 0, 0, 0, 0, 0, 0, 0, 0, 0, 0, 0, 0, 0, 0, 0, 0, 0, 0, 0, 0, 0, 0, 0, 0, 0, 0, 0, 0, 0, 0, 0, 0, 0, 0, 0, 0, 0, 0, 0, 0, 0, 0, 0, 0, 0, 0, 0, 0, 0, 0, 0, 0, 0, 0, 0, 0, 0, 0, 0, 0, 0, 0, 0, 0, 0, 0, 0, 0, 0, 0, 0, 0, 0, 0, 0, 0, 0, 0, 0, 0, 0, 0, 0, 0, 0, 0, 0, 0, 0, 0, 0, 0, 0, 0, 0, 0, 0, 0, 0, 0, 0, 0, 0, 0, 0, 0, 0, 0, 0, 0, 0, 0, 0, 0, 0, 0, 0, 0, 0, 0, 0, 0, 0, 0, 0, 0, 0, 0, 0, 0, 0, 0, 0, 0, 0, 0, 0, 0, 0, 0, 0, 0, 0, 0, 0, 0, 0, 0, 0, 0, 0, 0, 0, 0, 0, 0, 0, 0, 0, 0, 0, 0, 0, 0, 0, 0, 0, 0, 0, 0, 0, 0, 0, 0, 0, 0, 0, 0, 0, 0, 0, 0, 0, 0, 0, 0, 0, 0, 0, 0, 0, 0, 0, 0, 0, 0, 0, 0, 0, 0, 0, 0, 0, 0, 0, 0, 0, 0, 0, 0, 0, 0, 0, 0, 0, 0, 0, 0, 0, 0, 0, 0, 0, 0, 0, 0, 0, 0, 0, 0, 0, 0, 0, 0, 0, 0, 0, 0, 0, 0, 0, 0, 0, 0, 0, 0, 0, 0, 0, 0, 0, 0, 0, 0, 0, 0, 0, 0, 0, 0, 0, 0, 0, 0, 0, 0, 0, 0, 0, 0, 0, 0, 0, 0, 0, 0, 0, 0, 0, 0, 0, 0, 0, 0, 0, 0, 0, 0, 0, 0, 0, 0, 0, 0, 0, 0, 0, 0, 0, 0, 0, 0, 0, 0, 0, 0, 0, 0, 0, 0, 0, 0, 0, 0, 0, 0, 0, 0, 0, 0, 0, 0, 0, 0, 0, 0, 0, 0, 0, 0, 0, 0, 0, 0, 0, 0, 0, 0, 0, 0, 0, 2, 0, 1, 0], type: <class 'list'>, valid types: <class 'bytes'>, <class 'bytearray'>, file-like object"
     ]
    }
   ],
   "source": [
    "response = runtime.invoke_endpoint(EndpointName = xgb_predictor.endpoint, # The name of the endpoint we created\n",
    "                                       ContentType = 'text/csv',                     # The data format that is expected\n",
    "                                       Body = test_bow)"
   ]
  },
  {
   "cell_type": "markdown",
   "metadata": {},
   "source": [
    "So why did we get an error?\n",
    "\n",
    "Because we tried to send the endpoint a list of integers but it expected us to send data of type `text/csv`. So, we need to convert it."
   ]
  },
  {
   "cell_type": "code",
   "execution_count": 53,
   "metadata": {},
   "outputs": [],
   "source": [
    "response = runtime.invoke_endpoint(EndpointName = xgb_predictor.endpoint, # The name of the endpoint we created\n",
    "                                       ContentType = 'text/csv',                     # The data format that is expected\n",
    "                                       Body = ','.join([str(val) for val in test_bow]).encode('utf-8'))"
   ]
  },
  {
   "cell_type": "code",
   "execution_count": 54,
   "metadata": {},
   "outputs": [
    {
     "name": "stdout",
     "output_type": "stream",
     "text": [
      "{'ResponseMetadata': {'RequestId': '3a8703e6-3a6a-4b70-8ca9-fe7665539215', 'HTTPStatusCode': 200, 'HTTPHeaders': {'x-amzn-requestid': '3a8703e6-3a6a-4b70-8ca9-fe7665539215', 'x-amzn-invoked-production-variant': 'AllTraffic', 'date': 'Sat, 20 Jun 2020 21:47:47 GMT', 'content-type': 'text/csv; charset=utf-8', 'content-length': '14'}, 'RetryAttempts': 0}, 'ContentType': 'text/csv; charset=utf-8', 'InvokedProductionVariant': 'AllTraffic', 'Body': <botocore.response.StreamingBody object at 0x7f413250f2b0>}\n"
     ]
    }
   ],
   "source": [
    "print(response)"
   ]
  },
  {
   "cell_type": "markdown",
   "metadata": {},
   "source": [
    "As we can see, the response from our model is a somewhat complicated looking dict that contains a bunch of information. The bit that we are most interested in is `'Body'` object which is a streaming object that we need to `read` in order to make use of."
   ]
  },
  {
   "cell_type": "code",
   "execution_count": 55,
   "metadata": {},
   "outputs": [
    {
     "name": "stdout",
     "output_type": "stream",
     "text": [
      "0.551549851894\n"
     ]
    }
   ],
   "source": [
    "response = response['Body'].read().decode('utf-8')\n",
    "print(response)"
   ]
  },
  {
   "cell_type": "markdown",
   "metadata": {},
   "source": [
    "Now that we know how to process the incoming user data we can start setting up the infrastructure to make our simple web app work. To do this we will make use of two different services. Amazon's Lambda and API Gateway services.\n",
    "\n",
    "Lambda is a service which allows someone to write some relatively simple code and have it executed whenever a chosen trigger occurs. For example, you may want to update a database whenever new data is uploaded to a folder stored on S3.\n",
    "\n",
    "API Gateway is a service that allows you to create HTTP endpoints (url addresses) which are connected to other AWS services. One of the benefits to this is that you get to decide what credentials, if any, are required to access these endpoints.\n",
    "\n",
    "In our case we are going to set up an HTTP endpoint through API Gateway which is open to the public. Then, whenever anyone sends data to our public endpoint we will trigger a Lambda function which will send the input (in our case a review) to our model's endpoint and then return the result."
   ]
  },
  {
   "cell_type": "markdown",
   "metadata": {},
   "source": [
    "### Setting up a Lambda function\n",
    "\n",
    "The first thing we are going to do is set up a Lambda function. This Lambda function will be executed whenever our public API has data sent to it. When it is executed it will receive the data, perform any sort of processing that is required, send the data (the review) to the SageMaker endpoint we've created and then return the result.\n",
    "\n",
    "#### Part A: Create an IAM Role for the Lambda function\n",
    "\n",
    "Since we want the Lambda function to call a SageMaker endpoint, we need to make sure that it has permission to do so. To do this, we will construct a role that we can later give the Lambda function.\n",
    "\n",
    "Using the AWS Console, navigate to the **IAM** page and click on **Roles**. Then, click on **Create role**. Make sure that the **AWS service** is the type of trusted entity selected and choose **Lambda** as the service that will use this role, then click **Next: Permissions**.\n",
    "\n",
    "In the search box type `sagemaker` and select the check box next to the **AmazonSageMakerFullAccess** policy. Then, click on **Next: Review**.\n",
    "\n",
    "Lastly, give this role a name. Make sure you use a name that you will remember later on, for example `LambdaSageMakerRole`. Then, click on **Create role**."
   ]
  },
  {
   "cell_type": "markdown",
   "metadata": {},
   "source": [
    "#### Part B: Create a Lambda function\n",
    "\n",
    "Now it is time to actually create the Lambda function. Remember from earlier that in order to process the user provided input and send it to our endpoint we need to gather two pieces of information:\n",
    "\n",
    " - The name of the endpoint, and\n",
    " - the vocabulary object.\n",
    "\n",
    "We will copy these pieces of information to our Lambda function after we create it.\n",
    "\n",
    "To start, using the AWS Console, navigate to the AWS Lambda page and click on **Create a function**. When you get to the next page, make sure that **Author from scratch** is selected. Now, name your Lambda function, using a name that you will remember later on, for example `sentiment_analysis_xgboost_func`. Make sure that the **Python 3.6** runtime is selected and then choose the role that you created in the previous part. Then, click on **Create Function**.\n",
    "\n",
    "On the next page you will see some information about the Lambda function you've just created. If you scroll down you should see an editor in which you can write the code that will be executed when your Lambda function is triggered. Collecting the code we wrote above to process a single review and adding it to the provided example `lambda_handler` we arrive at the following.\n",
    "\n",
    "```python\n",
    "# We need to use the low-level library to interact with SageMaker since the SageMaker API\n",
    "# is not available natively through Lambda.\n",
    "import boto3\n",
    "\n",
    "# And we need the regular expression library to do some of the data processing\n",
    "import re\n",
    "\n",
    "REPLACE_NO_SPACE = re.compile(\"(\\.)|(\\;)|(\\:)|(\\!)|(\\')|(\\?)|(\\,)|(\\\")|(\\()|(\\))|(\\[)|(\\])\")\n",
    "REPLACE_WITH_SPACE = re.compile(\"(<br\\s*/><br\\s*/>)|(\\-)|(\\/)\")\n",
    "\n",
    "def review_to_words(review):\n",
    "    words = REPLACE_NO_SPACE.sub(\"\", review.lower())\n",
    "    words = REPLACE_WITH_SPACE.sub(\" \", words)\n",
    "    return words\n",
    "    \n",
    "def bow_encoding(words, vocabulary):\n",
    "    bow = [0] * len(vocabulary) # Start by setting the count for each word in the vocabulary to zero.\n",
    "    for word in words.split():  # For each word in the string\n",
    "        if word in vocabulary:  # If the word is one that occurs in the vocabulary, increase its count.\n",
    "            bow[vocabulary[word]] += 1\n",
    "    return bow\n",
    "\n",
    "\n",
    "def lambda_handler(event, context):\n",
    "    \n",
    "    vocab = \"*** ACTUAL VOCABULARY GOES HERE ***\"\n",
    "    \n",
    "    words = review_to_words(event['body'])\n",
    "    bow = bow_encoding(words, vocab)\n",
    "\n",
    "    # The SageMaker runtime is what allows us to invoke the endpoint that we've created.\n",
    "    runtime = boto3.Session().client('sagemaker-runtime')\n",
    "\n",
    "    # Now we use the SageMaker runtime to invoke our endpoint, sending the review we were given\n",
    "    response = runtime.invoke_endpoint(EndpointName = '***ENDPOINT NAME HERE***',# The name of the endpoint we created\n",
    "                                       ContentType = 'text/csv',                 # The data format that is expected\n",
    "                                       Body = ','.join([str(val) for val in bow]).encode('utf-8')) # The actual review\n",
    "\n",
    "    # The response is an HTTP response whose body contains the result of our inference\n",
    "    result = response['Body'].read().decode('utf-8')\n",
    "    \n",
    "    # Round the result so that our web app only gets '1' or '0' as a response.\n",
    "    result = round(float(result))\n",
    "\n",
    "    return {\n",
    "        'statusCode' : 200,\n",
    "        'headers' : { 'Content-Type' : 'text/plain', 'Access-Control-Allow-Origin' : '*' },\n",
    "        'body' : str(result)\n",
    "    }\n",
    "```"
   ]
  },
  {
   "cell_type": "markdown",
   "metadata": {},
   "source": [
    "Once you have copy and pasted the code above into the Lambda code editor, replace the `**ENDPOINT NAME HERE**` portion with the name of the endpoint that we deployed earlier. You can determine the name of the endpoint using the code cell below."
   ]
  },
  {
   "cell_type": "code",
   "execution_count": 56,
   "metadata": {},
   "outputs": [
    {
     "data": {
      "text/plain": [
       "'xgboost-2020-06-20-21-09-56-057'"
      ]
     },
     "execution_count": 56,
     "metadata": {},
     "output_type": "execute_result"
    }
   ],
   "source": [
    "xgb_predictor.endpoint"
   ]
  },
  {
   "cell_type": "markdown",
   "metadata": {},
   "source": [
    "In addition, you will need to copy the vocabulary dict to the appropriate place in the code at the beginning of the `lambda_handler` method. The cell below prints out the vocabulary dict in a way that is easy to copy and paste."
   ]
  },
  {
   "cell_type": "code",
   "execution_count": 57,
   "metadata": {},
   "outputs": [
    {
     "name": "stdout",
     "output_type": "stream",
     "text": [
      "{'if': 2222, 'could': 1007, 'would': 4957, 'give': 1912, 'zero': 4996, 'stars': 4155, 'for': 1784, 'this': 4457, 'one': 3107, 'but': 636, 'unfortunately': 4654, 'have': 2052, 'to': 4507, 'there': 4438, 'is': 2360, 'no': 3020, 'single': 3996, 'scene': 3809, 'laugh': 2529, 'about': 67, 'the': 4426, 'game': 1864, 'didnt': 1242, 'make': 2713, 'me': 2778, 'either': 1438, 'so': 4046, 'youre': 4992, 'some': 4061, 'ill': 2228, 'retarded': 3663, 'folk': 1770, 'go': 1924, 'your': 4991, 'local': 2634, 'cinema': 816, 'watch': 4811, 'movie': 2926, 'and': 226, 'it': 2366, '10': 0, 'like': 2599, 'people': 3221, 'here': 2086, 'already': 197, 'did': 1241, 'in': 2257, 'where': 4864, 'children': 792, 'are': 285, 'shot': 3949, 'dead': 1132, 'achieve': 92, 'humor': 2192, 'good': 1937, 'taste': 4369, 'goes': 1930, 'over': 3148, 'edge': 1418, 'was': 4805, 'third': 4455, 'time': 4495, 'wasted': 4809, 'my': 2951, 'see': 3855, 'boll': 529, 'definitely': 1162, 'last': 2521, 'im': 2232, 'ashamed': 312, 'of': 3083, 'being': 448, 'from': 1840, 'same': 3778, 'country': 1014, 'as': 311, 'uwe': 4703, 'please': 3304, 'keep': 2449, 'him': 2110, 'making': 2718, 'more': 2904, 'movies': 2927, 'title': 4504, 'song': 4071, 'greatest': 1966, 'free': 1827, 'spirited': 4114, 'ever': 1538, 'written': 4972, 'first': 1736, 'saw': 3798, 'back': 378, 'when': 4862, 'cable': 644, 'just': 2437, 'starting': 4158, 'become': 433, 'common': 906, 'place': 3282, 'or': 3124, 'at': 331, 'least': 2554, 'that': 4424, 'becoming': 435, 'might': 2835, 'very': 4723, 'well': 4843, 'be': 418, 'watched': 4813, 'on': 3105, 'pay': 3216, 'channel': 753, 'called': 652, 'which': 4867, 'star': 4150, 'then': 4436, 'they': 4442, 'changed': 750, 'name': 2960, 'early': 1400, 'received': 3564, 'month': 2896, 'with': 4911, 'new': 3003, 'van': 4713, 'heavy': 2070, 'network': 3000, 'remember': 3616, 'watching': 4815, 'thinking': 4453, 'typical': 4623, 'teen': 4388, 'lines': 2612, 'other': 3135, 'medium': 2792, 'budget': 610, 'flicks': 1755, 'ones': 3108, 'plot': 3309, 'revolves': 3682, 'around': 297, 'nudity': 3059, 'parties': 3196, 'totally': 4532, 'forgot': 1796, 'even': 1533, 'existed': 1570, 'until': 4680, 'recently': 3567, 'seen': 3865, 'again': 146, 'after': 143, 'having': 2054, 'not': 3040, 'seeing': 3857, 'decades': 1145, 'found': 1811, 'copy': 994, 'dvd': 1391, 'cheap': 774, 'bin': 483, 'recognized': 3570, 'bought': 552, 'mere': 2814, 'seems': 3864, 'had': 2003, 'remembered': 3617, 'film': 1716, 'much': 2934, 'better': 472, 'however': 2183, 'different': 1248, 'experience': 1580, 'than': 4420, 'years': 4979, 'later': 2525, 'fun': 1848, 'kids': 2467, 'rock': 3720, 'roll': 3728, 'music': 2946, 'smoking': 4040, 'sex': 3907, 'fancy': 1649, 'all': 187, 'what': 4858, 'party': 3200, 'should': 3951, 'isnt': 2362, 'fact': 1621, 'main': 2707, 'character': 758, 'his': 2118, 'looking': 2648, 'girlfriend': 1910, 'he': 2056, 'blows': 517, 'college': 875, 'money': 2888, 'purchase': 3469, 'out': 3141, 'walls': 4783, 'water': 4816, 'bed': 436, 'get': 1899, 'her': 2085, 'attention': 345, 'eventually': 1537, 'gets': 1900, 'rival': 3706, 'finds': 1728, 'comes': 891, 'two': 4620, 'them': 4432, 'can': 665, 'settle': 3902, 'their': 4431, 'differences': 1247, 'by': 642, 'drag': 1342, 'end': 1468, 'up': 4683, 'both': 547, 'instead': 2307, 'stealing': 4171, 'away': 369, 'wins': 4899, 'heart': 2064, 'attractive': 351, 'girl': 1909, 'half': 2007, 'ass': 323, 'through': 4477, 'most': 2909, 'decides': 1150, 'off': 3084, 'ends': 1474, 'does': 1308, 'its': 2370, 'funny': 1852, 'moments': 2887, '30': 42, 'becomes': 434, 'trip': 4588, 'down': 1335, 'memory': 2804, 'lane': 2515, 'because': 432, 'still': 4188, 'also': 199, 'brought': 600, 'memories': 2803, 'small': 4033, 'town': 4541, 'while': 4868, 'we': 4823, 'pot': 3354, 'girls': 1911, 'hoping': 2160, 'laid': 2508, 'sometimes': 4067, 'id': 2212, 'lucky': 2683, 'decent': 1147, 'share': 3920, 'wed': 4835, 'many': 2732, 'songs': 4072, 'were': 4848, 'serves': 3895, 'perfect': 3224, 'era': 1513, 'those': 4460, 'lots': 2662, 'thing': 4450, 'depicted': 1183, 'honestly': 2147, 'never': 3001, 'full': 1846, 'popular': 3333, 'depicts': 1186, 'dont': 1324, 'young': 4989, 'men': 2805, 'going': 1931, 'wishing': 4907, '70s': 56, 'self': 3869, 'included': 2262, 'wanting': 4790, 'am': 204, 'hot': 2174, 'ford': 1789, 'makes': 2716, 'appear': 273, 'every': 1539, 'man': 2721, 'wanted': 4789, 'wasnt': 4807, 'true': 4596, 'understand': 4643, 'why': 4878, 'getting': 1901, 'beat': 423, 'mindless': 2851, 'polished': 3323, 'reading': 3544, 'cast': 710, 'plays': 3301, 'characters': 760, 'you': 4986, 'midnight': 2834, 'became': 431, 'ben': 463, 'stiller': 4189, 'fan': 1648, 'yes': 4982, 'will': 4886, 'disappointed': 1273, 'these': 4441, 'trying': 4601, 'save': 3794, 'city': 825, 'world': 4946, 'nothing': 3047, 'problem': 3408, 'realize': 3552, 'limits': 2607, 'big': 478, 'showdown': 3955, 'thats': 4425, 'point': 3316, 'times': 4497, 'spy': 4135, 'who': 4871, 'yet': 4984, 'group': 1980, 'likely': 2601, 'feel': 1684, 'comparison': 914, 'sequel': 3885, 'jokes': 2415, 'work': 4940, 'level': 2584, 'know': 2489, 'documentary': 1307, 'myself': 2953, 'television': 4394, 'able': 66, 'produce': 3413, 'sadly': 3769, 'lacking': 2504, 'science': 3816, 'behind': 447, 'claims': 830, 'relies': 3606, 'telling': 4396, 'story': 4207, 'old': 3100, 'favourite': 1673, 'government': 1948, 'always': 203, 'lies': 2591, 'us': 4690, 'believing': 457, 'told': 4513, 'checking': 778, 'details': 1219, 'whats': 4860, 'footage': 1782, 'available': 361, 'internet': 2327, 'various': 4715, 'further': 1853, 'circumstances': 822, 'regarding': 3589, 'filming': 1718, 'production': 3419, 'shows': 3960, 'used': 4693, 'false': 1641, 'gain': 1863, 'interviews': 2330, 'has': 2043, 'creative': 1041, 'editing': 1421, 'order': 3126, 'own': 3158, 'opinions': 3119, 'made': 2697, 'mr': 2929, 'mistakes': 2873, 'been': 438, 'thoroughly': 4459, 'how': 2181, 'do': 1302, '40': 48, 'odd': 3080, 'minutes': 2859, 'life': 2592, 'rare': 3523, 'sit': 4003, 'front': 1841, 'tv': 4610, 'specifically': 4100, 'particular': 3194, 'actually': 109, 'enjoy': 1484, 'blonde': 511, 'best': 469, 'think': 4452, 'ive': 2372, 'remarkable': 3613, 'led': 2558, 'ian': 2209, 'an': 223, 'excellent': 1555, 'witty': 4917, 'poignant': 3315, 'script': 3834, 'combined': 885, 'truly': 4597, 'cant': 671, 'really': 3556, 'express': 1600, 'thought': 4462, 'wont': 4932, 'try': 4600, 'say': 3799, 'opportunity': 3121, 'only': 3110, 'hope': 2155, 'video': 4733, '1933': 12, 'dick': 1239, 'powell': 3358, 'ruby': 3749, 'way': 4820, 'three': 4469, 'warner': 4799, 'brother': 598, 'musicals': 2948, 'offered': 3088, 'depression': 1189, 'audiences': 353, 'gold': 1932, 'street': 4216, 'set': 3898, 'broadway': 592, 'theatre': 4429, 'basically': 407, 'theme': 4433, 'show': 3953, 'must': 2950, 'addition': 118, 'films': 1721, 'featured': 1679, 'choreography': 802, 'tunes': 4603, 'supporting': 4304, 'players': 3299, 'arguably': 289, 'classics': 837, 'genre': 1888, 'admit': 122, 'clear': 839, 'due': 1382, 'pace': 3161, 'energy': 1478, 'lead': 2545, 'james': 2378, 'cagney': 646, 'warren': 4801, 'william': 4887, 'themselves': 4435, 'heads': 2059, 'particularly': 3195, 'burned': 626, 'search': 3841, 'box': 555, 'office': 3091, 'lack': 2502, 'perfectly': 3226, 'putting': 3482, 'musical': 2947, 'absolute': 71, 'deals': 1137, 'numbers': 3061, 'course': 1019, 'alone': 194, 'classic': 835, 'sharp': 3922, 'double': 1331, 'delivered': 1170, 'featuring': 1681, 'frank': 1821, 'hugh': 2186, 'guy': 2000, 'especially': 1520, 'joan': 2404, 'cuts': 1091, 'everyone': 1542, 'size': 4012, 'dance': 1103, 'surreal': 4317, 'done': 1322, 'nick': 3012, 'before': 440, 'arrival': 299, 'hollywood': 2137, 'code': 869, 'beyond': 476, 'such': 4268, 'morality': 2903, 'sure': 4308, 'gonna': 1936, 'short': 3946, 'sweet': 4336, 'tell': 4395, 'someone': 4064, 'hilariously': 2107, 'unique': 4662, 'possibly': 3351, 'funniest': 1851, 'humour': 2194, 'took': 4523, 'few': 1700, 'episodes': 1508, 'into': 2332, 'once': 3106, 'example': 1553, 'wants': 4791, 'friends': 1837, 'sort': 4077, 'trouble': 4592, 'happens': 2029, 'funnier': 1850, 'round': 3742, 'mean': 2779, 'writers': 4969, 'director': 1264, 'success': 4265, 'actor': 103, 'hard': 2033, 'hes': 2093, 'great': 1964, 'possible': 3350, 'played': 3297, 'anyone': 259, 'else': 1448, 'takes': 4351, 'smart': 4035, 'play': 3296, 'stupid': 4247, 'wouldnt': 4958, 'worth': 4953, 'review': 3676, 'mention': 2810, 'stone': 4197, 'cold': 872, 'fox': 1814, 'now': 3054, 'meet': 2793, 'ball': 388, 'ha': 2002, 'aside': 315, 'amazing': 209, 'adorable': 124, 'heroine': 2091, 'turns': 4609, 'surprised': 4313, 'runs': 3757, 'closed': 854, 'doors': 1329, 'naked': 2959, 'truth': 4599, 'loved': 2670, 'caught': 722, 'plots': 3310, 'provided': 3449, 'setting': 3900, 'diamond': 1236, 'tea': 4373, 'cute': 1090, 'wonderfully': 4929, 'accident': 84, 'refreshing': 3586, 'actress': 105, 'clown': 862, 'wonder': 4926, 'doesnt': 1309, 'seem': 3861, 'oh': 3096, 'amount': 219, 'release': 3602, 'incredible': 2269, 'little': 2624, 'gem': 1877, 'continues': 971, 'remain': 3609, 'buried': 624, 'correct': 1000, 'wrong': 4973, 'interesting': 2325, 'entertainment': 1500, 'charm': 767, 'tarzan': 4367, 'faces': 1618, 'without': 4913, 'moment': 2886, 'requires': 3642, 'special': 4097, 'powers': 3361, 'facing': 1620, 'problems': 3409, 'beating': 425, 'human': 2188, 'skills': 4014, '3d': 46, 'shoot': 3942, 'em': 1452, 'games': 1865, 'pretty': 3384, 'general': 1880, 'graphics': 1959, 'terribly': 4408, 'dated': 1119, 'today': 4508, 'role': 3726, 'attempt': 340, 'american': 213, 'underground': 4640, 'fight': 1707, 'six': 4010, 'lets': 2580, 'face': 1616, 'excuse': 1564, 'hand': 2015, 'weapon': 4828, 'nazis': 2978, 'send': 3875, 'waste': 4808, 'nazi': 2977, 'mentioned': 2811, 'quite': 3495, 'simple': 3983, 'detailed': 1218, 'any': 256, 'released': 3603, 'professional': 3421, 'team': 4378, 'creators': 1044, 'suggest': 4280, 'simplicity': 3984, 'adds': 119, 'effect': 1428, 'youve': 4995, 'got': 1944, 'heck': 2071, 'consists': 955, 'searching': 3842, 'health': 2060, 'boss': 546, 'enemy': 1477, 'per': 3223, 'chapter': 757, 'grows': 1985, 'move': 2921, 'secret': 3849, 'rooms': 3736, 'bonus': 534, 'count': 1010, 'each': 1395, 'beaten': 424, 'fast': 1661, 'par': 3184, 'difficult': 1249, 'levels': 2585, 'find': 1726, 'challenging': 744, 'bad': 382, 'guys': 2001, 'killed': 2469, '100': 1, 'aforementioned': 139, 'helping': 2081, 'reach': 3536, 'high': 2100, 'score': 3822, 'mostly': 2910, 'allows': 192, 'methods': 2825, 'playing': 3300, 'anything': 260, 'everything': 1544, 'run': 3755, 'walk': 4775, 'amongst': 218, 'weapons': 4829, 'knife': 2487, 'running': 3756, 'heard': 2062, 'instantly': 2306, 'enter': 1494, 'room': 3735, 'guard': 1988, 'standing': 4146, 'turned': 4606, 'meaning': 2780, 'nearly': 2981, 'less': 2575, 'four': 1812, 'certain': 737, 'arent': 288, 'locked': 2637, 'kinds': 2478, 'need': 2987, 'introduced': 2337, 'lives': 2628, 'spent': 4108, '80s': 59, '90s': 61, 'based': 404, 'extra': 1606, 'personally': 3243, 'completely': 922, 'utterly': 4702, 'dropped': 1370, 'next': 3007, 'since': 3990, 'want': 4788, 'using': 4698, 'real': 3547, 'pain': 3170, 'shall': 3916, 'bush': 632, 'longer': 2645, 'moving': 2928, 'guns': 1998, 'start': 4156, 'silent': 3975, 'effective': 1429, 'close': 853, 'unlike': 4670, 'boys': 559, 'german': 1896, 'sub': 4252, 'machine': 2693, 'gun': 1996, 'faster': 1662, 'enemies': 1476, 'use': 4692, 'yeah': 4977, 'massive': 2756, 'amounts': 220, 'bit': 488, 'entertaining': 1499, 'sounds': 4084, 'though': 4461, 'prepared': 3371, 'reveal': 3670, 'player': 3298, 'discover': 1279, 'herself': 2092, 'sound': 4081, 'realistic': 3550, 'hear': 2061, 'tear': 4379, 'door': 1328, 'shut': 3961, 'yelling': 4980, 'warning': 4800, 'trapped': 4564, 'dark': 1115, 'depressing': 1188, 'nicely': 3009, 'design': 1202, 'seemingly': 3863, 'countless': 1012, 'towards': 4540, 'leading': 2547, 'mood': 2898, 'almost': 193, 'motion': 2913, 'something': 4066, 'sleep': 4024, 'unusual': 4681, 'warmth': 4796, 'detail': 1217, 'remains': 3611, 'victims': 4730, 'list': 2617, 'features': 1680, 'gore': 1941, 'limited': 2606, 'john': 2409, 'crew': 1053, 'certainly': 738, 'put': 3480, 'blood': 512, 'guts': 1999, 'left': 2561, 'kind': 2476, 'others': 3136, 'come': 886, 'entry': 1504, 'doom': 1326, 'duke': 1383, 'feature': 1678, 'simply': 3986, 'right': 3696, 'adding': 117, 'jumping': 2431, 'fellow': 1691, 'help': 2079, 'rest': 3657, 'existence': 1571, 'load': 2631, 'open': 3112, 'step': 4175, 'shoes': 3941, 'deserves': 1201, 'recognition': 3568, 'maybe': 2776, 'fifteen': 1706, 'appeared': 276, 'recommended': 3572, 'fans': 1650, 'low': 2676, 'depressed': 1187, 'sitting': 4007, 'signs': 3973, 'attend': 344, 'reviews': 3679, 'reason': 3557, 'sat': 3786, 'catch': 714, 'explained': 1587, 'narration': 2965, 'idiotic': 2219, 'growing': 1983, 'despair': 1207, 'revealed': 3671, 'hadnt': 2004, 'joy': 2422, 'involved': 2346, 'positive': 3346, 'aspects': 322, 'mainly': 2708, 'unintentional': 4658, 'unknown': 4668, 'feels': 1687, 'himself': 2111, 'toilet': 4512, 'person': 3238, 'ears': 1402, 'words': 4938, 'cannot': 670, 'explain': 1586, 'anger': 235, 'thus': 4486, 'torture': 4529, 'mountains': 2918, 'large': 2517, 'discovers': 1281, 'puts': 3481, 'spends': 4107, 'killing': 2472, 'senseless': 3878, 'heres': 2087, 'things': 4451, 'sense': 3877, 'outside': 3146, 'investigate': 2342, 'another': 250, 'scream': 3826, 'head': 2057, 'morning': 2906, '50': 51, 'feet': 1688, 'theyre': 4445, 'afraid': 140, 'theyll': 4444, 'lost': 2660, 'walking': 4779, 'together': 4511, 'professor': 3422, 'secondly': 3847, 'nine': 3017, 'scenes': 3811, 'wounded': 4961, 'attacks': 339, 'stops': 4203, 'part': 3193, 'training': 4558, 'taught': 4370, 'wound': 4960, 'kinda': 2477, 'noticed': 3049, 'shes': 3930, 'thanks': 4423, 'information': 2288, 'tied': 4489, 'attempts': 343, 'she': 3923, 'look': 2646, 'idiot': 2218, 'take': 4349, 'seconds': 3848, 'whole': 4873, 'middle': 2833, 'idiots': 2220, 'woods': 4935, 'pitch': 3279, 'ignore': 2224, 'screams': 3828, 'boring': 543, 'pointless': 3318, 'halfway': 2008, 'none': 3028, 'sympathetic': 4342, 'majority': 2712, 'screen': 3829, 'loud': 2664, 'looks': 2649, 'kid': 2464, 'halloween': 2010, 'costume': 1005, 'evil': 1548, 'gay': 1876, 'effects': 1431, 'comedic': 888, 'acting': 99, 'awful': 372, 'overall': 3150, 'concept': 930, 'produced': 3414, 'campy': 664, 'effort': 1432, 'rid': 3690, 'ludicrous': 2685, 'dialogue': 1234, 'creating': 1039, 'actual': 108, 'likable': 2598, 'personalities': 3241, 'logical': 2639, 'flow': 1762, 'action': 100, 'female': 1693, 'sexy': 3911, 'outfit': 3144, 'pile': 3275, 'nonsense': 3030, 'bore': 540, 'death': 1141, 'hung': 2197, 'acted': 98, 'magic': 2703, 'mountain': 2917, '2001': 31, 'warriors': 4803, 'finally': 1724, 'often': 3095, 'eastern': 1408, 'crime': 1055, 'slapstick': 4019, 'fit': 1740, 'ancient': 225, 'chinese': 796, 'legend': 2564, 'represented': 3638, 'far': 1653, 'west': 4852, 'although': 201, 'contains': 964, 'vast': 4716, 'stories': 4205, 'possibilities': 3348, 'straight': 4210, 'said': 3774, 'havent': 2053, 'alike': 185, 'modern': 2882, 'wow': 4962, 'colors': 879, 'plus': 3311, 'deep': 1154, 'fall': 1637, 'instant': 2305, 'ok': 3098, 'pleasure': 3306, 'deeper': 1155, 'summary': 4290, 'love': 2669, 'cry': 1073, 'forget': 1793, 'note': 3044, 'expected': 1577, 'matter': 2769, '11': 2, 'actors': 104, 'act': 97, 'worst': 4952, 'psycho': 3457, 'dumb': 1385, 'woman': 4921, 'shower': 3957, 'marty': 2749, 'acid': 95, 'starts': 4159, 'screaming': 3827, 'probably': 3407, 'annoying': 249, 'accidentally': 85, 'falls': 1640, 'violence': 4747, 'along': 195, 'harry': 2039, 'couldve': 1009, 'lot': 2661, 'joe': 2407, 'bare': 398, 'strange': 4211, 'resemblance': 3645, 'dan': 1102, 'womans': 4922, 'corpse': 999, 'theyd': 4443, 'react': 3540, 'barely': 399, 'fear': 1676, 'saying': 3800, 'stuff': 4243, 'happened': 2027, 'our': 3139, 'fault': 1668, 'says': 3801, 'nervous': 2999, 'scared': 3805, 'facial': 1619, 'expressions': 1603, 'crying': 1074, 'guess': 1989, 'ending': 1471, 'confusing': 942, 'climax': 849, 'jaws': 2385, 'revenge': 3675, 'eight': 1436, 'kills': 2474, 'chased': 770, 'hospital': 2172, 'nurse': 3063, 'gotten': 1947, 'clothes': 860, 'doctor': 1304, 'skin': 4015, 'leads': 2548, 'question': 3487, 'writer': 4968, 'came': 656, 'expect': 1575, 'hell': 2077, 'confused': 941, 'alive': 186, 'holding': 2130, 'events': 1536, 'happen': 2026, 'sucked': 4270, 'okay': 3099, 'except': 1556, 'average': 362, 'slasher': 4020, 'ps': 3453, 'simon': 3982, 'committed': 905, 'suicide': 4283, 'shortly': 3947, 'drug': 1373, 'abuse': 74, 'knew': 2486, 'parents': 3188, 'forgotten': 1797, 'beautiful': 428, 'elizabeth': 1445, 'taylor': 4372, 'twenty': 4612, 'elephant': 1444, 'feelings': 1686, 'sexual': 3908, 'couldnt': 1008, 'age': 148, 'believe': 454, 'breathtaking': 574, 'women': 4923, 'lived': 2626, 'several': 3905, 'sappy': 3784, 'melodrama': 2797, 'saves': 3796, 'miss': 2866, 'beauty': 430, 'magnificent': 2705, 'scenery': 3810, 'impressive': 2253, 'nature': 2975, 'couple': 1016, 'hours': 2177, 'rented': 3628, 'shame': 3918, 'inappropriate': 2259, 'bored': 541, 'read': 3543, 'wonderful': 4928, 'book': 535, 'pure': 3471, 'trash': 4565, 'dr': 1340, 'wouldve': 4959, 'given': 1913, 'thumbs': 4485, 'pity': 3281, 'spend': 4105, 'buy': 640, 'toys': 4543, 'program': 3424, 'ticket': 4487, 'viewing': 4740, 'stick': 4185, 'cartoon': 704, 'version': 4720, 'works': 4945, 'visual': 4757, 'portrayal': 3341, 'day': 1129, 'usually': 4700, 'check': 777, 'mtv': 2933, 'awards': 367, 'delivers': 1172, 'award': 366, 'winning': 4898, 'achievement': 94, 'year': 4978, 'justin': 2440, 'scott': 3824, 'laughed': 2532, 'pie': 3271, 'enjoyed': 1486, 'dude': 1381, 'car': 680, 'horrible': 2163, 'humorous': 2193, 'singing': 3995, 'dancing': 1107, 'curious': 1083, 'performance': 3228, 'jack': 2373, 'black': 493, 'sarah': 3785, 'michelle': 2830, 'lord': 2652, 'rings': 3699, 'parody': 3192, 'entire': 1502, 'comments': 901, 'luke': 2687, 'wilson': 4891, 'kate': 2446, 'hudson': 2184, 'staring': 4152, 'met': 2822, 'joke': 2414, 'went': 4847, 'lame': 2510, 'reference': 3582, 'talent': 4354, 'causing': 726, 'smile': 4036, 'liners': 2611, 'perhaps': 3235, 'figured': 1712, 'viewers': 4739, 'aging': 153, 'solo': 4058, 'jones': 2418, 'president': 3378, 'air': 164, 'force': 1786, 'deal': 1135, 'class': 833, 'academy': 77, 'speech': 4102, 'extremely': 1610, 'caused': 724, 'genuine': 1891, 'evening': 1534, 'mind': 2849, 'among': 217, 'uninteresting': 4660, 'unwatchable': 4682, 'hate': 2046, 'mid': 2832, 'late': 2523, 'beginning': 443, 'successful': 4266, 'doing': 1312, 'add': 115, 'twelve': 4611, 'aimed': 162, 'hardcore': 2034, 'hip': 2114, 'crap': 1031, 'larry': 2520, 'hasnt': 2044, 'attached': 336, 'interest': 2323, 'contain': 962, 'second': 3846, 'originality': 3130, 'intelligence': 2313, 'nor': 3032, 'slightest': 4028, 'situation': 4008, 'added': 116, 'juvenile': 2441, 'recent': 3566, '14': 6, '15': 7, 'school': 3813, 'type': 4621, 'relationship': 3597, 'wrote': 4974, 'adult': 125, 'offensive': 3086, 'disgusting': 1286, 'twice': 4613, 'long': 2644, 'minute': 2858, 'channels': 754, 'guide': 1993, 'sounded': 4082, 'started': 4157, 'enough': 1491, 'interested': 2324, 'ability': 65, 'jamie': 2379, 'slow': 4031, 'movement': 2923, 'food': 1778, 'during': 1387, 'credit': 1049, 'david': 1124, 'tries': 4585, 'plan': 3287, 'picking': 3267, 'night': 3013, 'debut': 1143, 'ring': 3698, 'youll': 4988, 'familiar': 1643, 'style': 4249, 'idea': 2213, 'flick': 1754, 'subtle': 4260, 'constant': 957, 'predictable': 3367, 'mainstream': 2709, 'creepy': 1052, 'child': 789, 'knows': 2493, 'case': 707, 'too': 4522, 'hands': 2020, 'dimensional': 1253, 'terrific': 4409, 'beautifully': 429, 'cinematography': 820, 'entirely': 1503, 'images': 2235, 'wind': 4893, 'blowing': 515, 'leaves': 2556, 'technically': 4382, 'lacks': 2505, 'dirty': 1268, 'extreme': 1609, 'british': 589, 'hurt': 2202, 'stunts': 4246, 'planned': 3290, 'reaction': 3541, 'series': 3890, 'follows': 1775, 'eg': 1434, 'theres': 4440, 'episode': 1507, 'etc': 1527, 'sends': 3876, 'european': 1530, 'tour': 4538, 'daring': 1114, 'progresses': 3426, 'opinion': 3118, 'trust': 4598, 'week': 4837, 'stomach': 4196, 'fair': 1630, 'swedish': 4335, 'casting': 711, 'poorly': 3329, 'anyway': 261, 'stay': 4166, 'prime': 3395, 'scientist': 3818, 'under': 4639, 'investigation': 2343, 'financial': 1725, 'forces': 1788, 'melodramatic': 2798, 'fashion': 1659, 'conclusion': 936, 'eighties': 1437, 'realized': 3553, '1990': 24, 'decided': 1149, 'mediocre': 2791, 'desperately': 1209, 'stellar': 4174, 'competent': 917, 'occasional': 3074, 'quality': 3484, 'pacing': 3163, 'hour': 2176, 'mildly': 2840, 'charismatic': 763, 'male': 2719, 'attempting': 342, 'tom': 4514, 'cruise': 1071, 'christopher': 811, 'reminded': 3619, 'matt': 2768, 'wild': 4885, 'job': 2405, 'decide': 1148, 'weird': 4841, 'final': 1722, 'battle': 414, 'power': 3359, 'bizarre': 492, 'supposed': 4306, 'dramatic': 1348, 'hilarious': 2106, 'camera': 659, 'trick': 4582, 'overacting': 3149, 'thirty': 4456, 'mill': 2845, 'chilling': 794, 'pack': 3165, 'bring': 585, 'larger': 2519, 'figures': 1713, 'bat': 410, 'george': 1893, 'bull': 619, 'anthony': 253, 'western': 4853, 'stewart': 4184, 'quest': 3486, 'fathers': 1667, 'murder': 2939, 'primary': 3394, 'ensemble': 1492, 'piece': 3272, 'thousand': 4465, 'passing': 3204, 'colorful': 878, 'including': 2264, 'whos': 4876, 'usual': 4699, 'fiction': 1702, 'history': 2121, 'tone': 4517, 'brilliantly': 584, 'themes': 4434, 'psychological': 3458, 'past': 3207, 'present': 3374, 'tall': 4362, 'tale': 4353, 'chasing': 772, 'husbands': 2205, 'failed': 1626, 'defined': 1160, 'conversations': 981, 'sidekick': 3966, 'mitchell': 2875, 'environment': 1505, 'sets': 3899, 'apart': 264, 'filmmakers': 1720, 'westerns': 4854, 'drama': 1346, 'occurs': 3078, 'loose': 2650, 'rocks': 3722, 'physical': 3262, 'roles': 3727, 'victor': 4731, 'victim': 4729, 'between': 475, 'equally': 1510, 'cinematographer': 819, 'range': 3516, 'photography': 3260, 'merely': 2815, 'mann': 2728, 'presents': 3377, 'vivid': 4760, 'picture': 3269, 'primarily': 3393, 'multiple': 2936, 'plane': 3288, 'shooting': 3943, 'contest': 967, 'display': 1291, 'care': 684, 'spell': 4104, 'eyes': 1613, 'chosen': 805, 'image': 2233, 'convey': 982, 'attitude': 346, 'motivation': 2914, 'shelley': 3928, 'winters': 4901, 'climactic': 848, 'soon': 4074, 'reveals': 3673, 'light': 2595, 'feeling': 1685, 'intense': 2316, 'timeless': 4496, 'masterpiece': 2759, 'cowboy': 1025, 'showcase': 3954, 'view': 4736, 'directed': 1259, 'product': 3418, '1960s': 15, 'period': 3236, 'cinematic': 818, 'influence': 2286, 'felt': 1692, 'lees': 2560, 'buck': 605, 'naive': 2958, 'manhattan': 2726, 'hire': 2116, 'rich': 3685, 'fails': 1628, 'miserably': 2864, 'defeat': 1157, 'despite': 1211, 'meets': 2795, 'cynical': 1093, 'petty': 3249, 'thief': 4448, 'named': 2961, 'sees': 3866, 'easy': 1410, 'begins': 444, 'manage': 2722, 'paying': 3217, 'meanwhile': 2785, 'florida': 1761, 'seek': 3858, 'appeal': 271, 'may': 2775, 'authentic': 358, 'major': 2711, 'jon': 2416, 'voight': 4764, 'brings': 587, 'paper': 3183, 'thin': 4449, 'hoffman': 2128, 'successfully': 4267, 'clean': 838, 'post': 3352, 'personal': 3240, 'oddly': 3081, 'honesty': 2148, 'treatment': 4574, 'captures': 678, 'square': 4136, 'effectively': 1430, 'flashbacks': 1747, 'fantasy': 1652, 'sequences': 3888, 'fill': 1714, 'needs': 2990, 'letting': 2583, 'performances': 3229, 'brenda': 575, 'miles': 2843, 'religious': 3608, 'lonely': 2643, 'disc': 1278, '2006': 36, 'print': 3399, 'transfer': 4559, 'commentary': 899, 'producer': 3415, 'neither': 2996, 'living': 2629, '35': 45, 'clips': 852, 'related': 3594, 'test': 4416, 'initial': 2290, 'rating': 3529, 'public': 3460, 'response': 3654, 'tribute': 4581, 'father': 1666, 'pride': 3391, 'hit': 2122, 'family': 1645, 'talented': 4355, 'animation': 242, 'centers': 734, 'nuclear': 3057, 'white': 4870, 'memorable': 2802, 'roger': 3724, 'vincent': 4746, 'italian': 2367, 'eccentric': 1414, 'blake': 498, 'victoria': 4732, 'brothers': 599, 'roy': 3745, 'incredibly': 2270, 'manner': 2729, 'mundane': 2938, 'activities': 102, 'combination': 883, 'animal': 239, 'dialog': 1232, 'controversial': 978, 'issues': 2365, 'drugs': 1374, 'source': 4086, 'brilliance': 582, 'blame': 499, 'failure': 1629, 'broadcast': 591, 'influenced': 2287, 'guest': 1992, 'rather': 3528, 'biggest': 480, 'loser': 2655, '60': 53, 'indeed': 2271, 'omen': 3104, 'future': 1856, 'art': 304, 'original': 3129, 'factor': 1622, 'luckily': 2682, 'complete': 921, 'following': 1774, 'shocking': 3940, 'consider': 949, 'change': 749, 'rob': 3710, 'seriously': 3892, 'whom': 4875, 'directing': 1260, 'plain': 3286, 'taking': 4352, 'mickey': 2831, 'saturday': 3792, 'live': 2625, 'studios': 4241, 'comedian': 887, 'write': 4967, 'direct': 1258, 'hitchcock': 2123, 'rip': 3700, 'edgar': 1417, 'allen': 188, 'days': 1130, 'presented': 3376, 'tales': 4357, 'sad': 3767, 'nice': 3008, 'nasty': 2968, 'obviously': 3072, 'material': 2766, 'stage': 4139, 'screenplay': 3831, 'points': 3319, 'coming': 896, 'soundtrack': 4085, 'kept': 2456, 'band': 391, 'scare': 3803, 'audience': 352, 'tried': 4584, 'suppose': 4305, 'suspense': 4330, 'horror': 2168, 'charge': 761, 'faced': 1617, 'cat': 713, 'lady': 2507, 'spoil': 4121, 'delivery': 1173, 'stolen': 4195, 'cars': 702, 'total': 4531, 'gave': 1875, 'cage': 645, 'retired': 3664, 'routine': 3743, 'surprises': 4314, 'wondering': 4930, 'cool': 989, 'expensive': 1579, 'convincing': 985, 'damn': 1100, 'believable': 453, 'yourself': 4993, 'unrealistic': 4677, 'hey': 2095, 'cares': 690, 'chases': 771, 'wet': 4855, 'jobs': 2406, 'mrs': 2930, 'describe': 1194, 'nowadays': 3055, 'con': 928, 'snake': 4042, 'thrillers': 4473, 'jackie': 2374, 'chan': 746, 'worse': 4951, 'clearly': 840, 'mark': 2739, 'bringing': 586, 'seemed': 3862, 'latter': 2528, 'cause': 723, 'asked': 317, 'sean': 3840, 'ed': 1415, 'harris': 2038, 'starred': 4153, 'ride': 3692, 'kiss': 2483, 'wait': 4770, 'choice': 797, 'independent': 2272, 'absolutely': 72, 'scripted': 3835, 'waited': 4771, 'credits': 1050, 'imdb': 2240, 'fine': 1729, 'everyday': 1541, 'business': 633, 'projects': 3428, 'distribution': 1298, 'advertising': 132, 'deserve': 1199, 'urge': 4689, 'known': 2492, 'asleep': 320, 'tired': 4501, 'warm': 4794, 'comfortable': 892, 'eaten': 1412, 'occasion': 3073, 'fell': 1690, 'rubbish': 3748, 'development': 1225, 'constantly': 958, 'explanation': 1590, 'missed': 2867, 'concern': 931, 'recommend': 3571, 'catholic': 720, 'church': 813, 'sin': 3988, 'individual': 2277, 'dying': 1393, 'upon': 4684, 'similar': 3978, 'individuals': 2278, 'heaven': 2068, 'redemption': 3578, 'supernatural': 4302, 'let': 2579, 'anti': 254, 'birds': 485, 'alex': 179, 'priest': 3392, 'members': 2801, 'semi': 3874, 'knowledge': 2491, 'seeking': 3859, 'demon': 1177, 'fighting': 1709, 'peter': 3247, 'thomas': 4458, 'subject': 4253, 'prior': 3400, 'drawn': 1351, 'surviving': 4323, 'brian': 576, 'worked': 4941, 'hearted': 2065, 'thriller': 4472, 'intrigue': 2333, 'pilot': 3276, 'succeeds': 4264, 'helped': 2080, 'stunning': 4244, 'otherwise': 3137, 'displayed': 1292, 'notably': 3042, 'rules': 3754, 'attraction': 350, 'itself': 2371, 'forth': 1804, 'red': 3576, 'narrative': 2966, 'saving': 3797, 'structure': 4233, 'viewer': 4738, 'obvious': 3071, 'exception': 1557, 'historical': 2119, 'background': 380, 'practice': 3363, 'eating': 1413, 'dry': 1377, 'relationships': 3598, 'combine': 884, 'location': 2635, 'opening': 3114, 'reminiscent': 3621, 'brief': 579, 'torn': 4528, 'lisa': 2616, 'exotic': 1574, 'exists': 1573, 'purpose': 3474, 'watchable': 4812, 'angry': 238, 'forced': 1787, 'engage': 1479, 'higher': 2101, 'brain': 562, 'sheer': 3925, 'prevent': 3385, 'critical': 1062, 'commercial': 902, 'upper': 4685, 'teenagers': 4391, 'gabriel': 1859, 'joined': 2413, 'university': 4667, 'eve': 1532, 'classes': 834, 'date': 1118, 'previous': 3387, 'house': 2178, 'rape': 3521, 'dies': 1245, 'panic': 3181, 'body': 527, 'mother': 2911, 'arrives': 302, 'breaking': 570, 'neck': 2985, 'trio': 4587, 'burn': 625, 'garbage': 1870, 'de': 1131, 'overrated': 3156, 'pretentious': 3383, 'youth': 4994, 'shallow': 3917, 'tragic': 4552, 'comedy': 890, 'dialogs': 1233, 'manipulative': 2727, 'silly': 3976, 'terrible': 4407, 'apparently': 270, 'presence': 3373, 'promising': 3433, 'edition': 1422, 'amateurish': 207, 'parts': 3199, 'impossible': 2249, 'actresses': 106, 'speaking': 4095, 'sucks': 4271, 'gang': 1867, 'bang': 393, 'poor': 3328, 'marketing': 2741, 'exploitation': 1592, 'vote': 4766, 'brazil': 568, 'aint': 163, 'folks': 1771, 'drunken': 1376, 'deaths': 1142, 'rats': 3531, 'experiment': 1583, 'huge': 2185, 'drunk': 1375, 'rat': 3525, 'eat': 1411, 'premise': 3370, 'scientific': 3817, 'ruined': 3751, 'fake': 1635, 'cgi': 740, 'looked': 2647, 'dressed': 1358, 'suit': 4284, 'trailer': 4554, 'god': 1926, 'friend': 1835, 'brave': 567, 'scares': 3806, 'werent': 4849, 'perspective': 3245, 'shots': 3950, 'build': 614, 'prom': 3429, 'serial': 3889, 'killer': 2470, 'brilliant': 583, 'australian': 357, 'soap': 4047, 'opera': 3116, 'hopeless': 2158, 'annoyed': 248, 'line': 2610, 'sentence': 3881, 'pulling': 3463, 'expression': 1602, 'listen': 2619, 'wish': 4904, 'luck': 2681, 'magazine': 2701, 'ghost': 1902, 'vietnam': 4735, 'war': 4792, 'haunted': 2050, 'thousands': 4466, 'soldiers': 4054, 'returned': 3666, 'treated': 4573, 'america': 212, 'home': 2142, 'shadow': 3912, 'former': 1800, 'managed': 2723, 'provide': 3448, 'insight': 2298, 'attempted': 341, 'ii': 2226, 'mess': 2818, 'richard': 3686, 'hold': 2129, 'serious': 3891, 'missing': 2869, 'chuck': 812, 'logic': 2638, 'gone': 1935, 'paint': 3173, 'chest': 784, 'picks': 3268, 'novel': 3052, 'allow': 189, 'possibility': 3349, 'sequels': 3886, 'follow': 1772, 'rambo': 3511, 'appears': 278, 'mine': 2853, 'working': 4944, 'prison': 3401, 'pulls': 3464, 'colonel': 876, 'willing': 4889, 'offer': 3087, 'mission': 2870, 'violent': 4748, 'base': 402, 'camp': 662, 'supposedly': 4307, 'held': 2074, 'ideas': 2215, 'spite': 4117, 'political': 3324, 'somewhat': 4068, 'conspiracy': 956, 'theory': 4437, 'plight': 3308, 'son': 4070, 'ten': 4399, 'official': 3094, 'society': 4050, '1980s': 21, 'army': 295, 'bullets': 621, 'destruction': 1216, 'honest': 2146, 'photographed': 3258, 'choreographed': 801, 'combat': 882, 'russian': 3762, 'battles': 415, 'tension': 4404, 'whatsoever': 4861, 'building': 615, 'americans': 214, 'fortunately': 1805, 'died': 1244, 'intelligent': 2314, 'began': 441, 'shown': 3959, 'villain': 4744, 'spectacular': 4101, 'ridiculous': 3693, 'law': 2538, 'inside': 2297, 'helicopter': 2076, 'clichés': 846, 'served': 3894, 'military': 2844, 'risk': 3704, 'statement': 4162, 'directly': 1263, 'tongue': 4518, 'cheek': 779, 'teacher': 4375, 'lake': 2509, 'texas': 4418, 'reaching': 3539, 'jimmy': 2403, 'morris': 2908, 'dennis': 1179, 'baseball': 403, 'coach': 868, 'losing': 2658, 'minor': 2857, 'throw': 4479, 'throwing': 4480, 'jim': 2402, 'agrees': 157, 'tells': 4397, 'boy': 557, 'friendly': 1836, 'giving': 1915, 'emotional': 1459, 'includes': 2263, 'cox': 1026, 'rachel': 3500, 'develop': 1222, 'filmed': 1717, 'portrayed': 3342, 'mans': 2730, 'dream': 1354, 'inspiring': 2302, 'liked': 2600, 'starring': 4154, 'animated': 241, 'inspector': 2299, 'gadget': 1860, 'nowhere': 3056, 'near': 2979, 'bears': 421, 'repeat': 3630, 'disappointing': 1274, 'career': 686, 'against': 147, 'state': 4160, 'barbara': 397, 'stanwyck': 4149, 'vulnerable': 4768, 'caring': 691, 'daughters': 1122, 'whose': 4877, 'stood': 4199, 'therefore': 4439, 'donald': 1321, 'charles': 764, 'keeping': 2450, 'hates': 2048, 'sister': 4001, 'married': 2744, 'sisters': 4002, 'boyfriend': 558, 'fi': 1701, 'link': 2613, 'productions': 3420, 'adults': 126, 'wonders': 4931, 'fallen': 1638, 'visuals': 4759, 'shadows': 3913, 'contrast': 975, 'stylish': 4251, 'moral': 2902, 'albeit': 173, 'twisted': 4618, 'holds': 2131, 'ramones': 3512, 'bands': 392, 'aware': 368, 'older': 3101, 'cousin': 1021, 'afternoon': 144, 'blow': 514, 'recorded': 3574, 'subsequent': 4257, 'concert': 935, 'kick': 2460, 'favorite': 1671, 'joey': 2408, 'johnny': 2410, 'tons': 4520, 'window': 4894, 'houses': 2180, 'fever': 1699, 'exercise': 1568, '1930s': 11, 'sexuality': 3909, 'europe': 1529, 'heavily': 2069, 'cut': 1089, 'blue': 518, 'bible': 477, 'humans': 2190, 'concerns': 934, 'handsome': 2021, 'younger': 4990, 'affair': 135, 'resulting': 3661, 'divorce': 1301, 'husband': 2204, 'directors': 1266, 'format': 1799, 'ie': 2221, 'techniques': 4384, 'talking': 4360, 'infamous': 2284, 'nude': 3058, 'swimming': 4338, 'references': 3583, 'fare': 1655, 'pg': 3250, '13': 4, 'todays': 4509, 'standards': 4145, 'easily': 1406, 'freedom': 1828, 'integrity': 2311, 'delightful': 1168, 'adventure': 130, 'results': 3662, 'finding': 1727, 'knowing': 2490, 'guarantee': 1987, 'mystery': 2956, 'mary': 2751, 'california': 650, 'tortured': 4530, 'murderer': 2941, 'tony': 4521, 'kevin': 2457, 'police': 3322, 'bright': 581, 'suspects': 4328, 'disbelief': 1277, 'bill': 481, 'locations': 2636, 'pat': 3208, 'teenage': 4389, 'sequence': 3887, 'viewed': 4737, 'photos': 3261, 'passed': 3202, 'flaws': 1752, 'changing': 752, 'lips': 2615, 'hair': 2005, 'voiced': 4762, 'plant': 3293, 'costumes': 1006, 'batman': 413, 'scarecrow': 3804, 'robin': 3715, 'tim': 4494, 'rescue': 3643, 'yellow': 4981, 'wing': 4896, 'bigger': 479, 'kicking': 2462, 'exciting': 1563, 'masters': 2761, 'die': 1243, 'julia': 2427, 'anderson': 227, 'martin': 2748, 'driving': 1368, 'cliff': 847, 'tree': 4576, 'across': 96, 'road': 3709, 'walks': 4780, 'ended': 1470, 'thrown': 4481, 'burning': 627, 'saved': 3795, 'taken': 4350, 'support': 4303, 'horribly': 2164, 'burns': 628, 'selfish': 3870, 'lawyer': 2541, 'thinks': 4454, 'sue': 4274, 'linda': 2609, 'plans': 3292, 'canadian': 667, 'co': 867, 'previously': 3388, 'turn': 4605, '2003': 33, 'hardly': 2036, 'season': 3843, 'solution': 4059, 'neat': 2982, 'central': 735, 'uses': 4697, 'uneven': 4649, 'focuses': 1768, 'element': 1442, '20': 29, 'legal': 2563, 'center': 732, 'track': 4544, 'gory': 1943, 'clichéd': 845, 'weak': 4824, 'serve': 3893, 'moves': 2925, 'loses': 2657, 'focus': 1766, 'alternate': 200, 'key': 2458, 'spooky': 4128, 'atmosphere': 333, 'fantastic': 1651, 'teeth': 4393, 'showing': 3958, 'gross': 1978, 'literally': 2622, 'ups': 4686, 'ladies': 2506, 'names': 2963, 'enjoyable': 1485, 'paltrow': 3178, 'emma': 1457, 'ways': 4822, 'smith': 4038, 'sentimental': 3882, 'side': 3965, 'apparent': 269, 'honor': 2150, 'whether': 4866, 'ridden': 3691, 'porn': 3336, 'shelf': 3926, 'damage': 1099, 'summer': 4291, 'implausible': 2245, 'youd': 4987, 'storytelling': 4209, 'traditional': 4550, 'event': 1535, 'minds': 2852, 'eye': 1611, 'elderly': 1440, 'passion': 3205, 'witness': 4914, 'mile': 2842, 'born': 544, 'length': 2569, 'discussion': 1284, 'continued': 970, 'closing': 859, 'invisible': 2344, 'grow': 1982, 'inspiration': 2300, 'blend': 504, 'models': 2881, 'grandfather': 1954, 'protagonist': 3441, 'introduces': 2338, 'generations': 1884, 'within': 4912, 'reality': 3551, 'gives': 1914, 'rough': 3741, 'finest': 1730, 'visits': 4756, 'frustration': 1843, 'century': 736, 'hang': 2022, 'raised': 3508, 'community': 908, 'conflict': 939, 'pulled': 3462, 'journey': 2421, 'bloody': 513, 'lovers': 2673, 'accepted': 82, 'connect': 944, 'genuinely': 1892, 'slightly': 4029, 'hanging': 2023, 'famous': 1647, 'deeply': 1156, 're': 3535, 'experienced': 1581, 'rent': 3626, 'foreign': 1790, 'empty': 1465, 'everybody': 1540, 'learn': 2550, 'georges': 1894, 'mentally': 2809, 'suffer': 4275, 'exactly': 1551, 'introduce': 2336, 'babe': 375, 'mixed': 2877, 'rated': 3527, 'happy': 2032, 'bitter': 491, 'critic': 1061, 'touching': 4536, 'gotta': 1946, 'disagree': 1269, 'strongly': 4231, 'message': 2819, 'endure': 1475, 'paced': 3162, 'dreary': 1356, '30s': 44, 'wasting': 4810, 'frame': 1815, '80': 58, 'developed': 1223, 'rushed': 3760, 'twists': 4619, 'lone': 2642, 'bob': 524, 'strong': 4229, 'worthy': 4956, 'voice': 4761, 'reporter': 3636, 'clark': 832, 'gangster': 1868, 'jake': 2377, 'shines': 3932, 'lesser': 2576, 'proof': 3434, 'oscar': 3133, 'mildred': 2841, 'word': 4937, 'charisma': 762, 'carry': 700, 'disturbing': 1300, 'richards': 3687, 'buddy': 609, 'finished': 1733, 'stand': 4143, 'flies': 1756, 'types': 4622, 'begin': 442, 'passes': 3203, 'soldier': 4053, 'call': 651, 'south': 4087, 'talk': 4358, 'normally': 3034, 'fascinating': 1658, 'accent': 78, 'basic': 406, 'escape': 1517, 'hunt': 2198, 'dinosaurs': 1256, 'system': 4345, 'argument': 291, 'arm': 292, 'wrestling': 4966, 'split': 4120, 'groups': 1981, 'scooby': 3820, 'doo': 1325, 'unless': 4669, 'frankly': 1823, 'insult': 2309, 'slick': 4026, 'moore': 2901, 'surprise': 4312, 'don': 1320, 'simpson': 3987, 'imagine': 2238, 'turning': 4608, 'lights': 2597, 'remote': 3622, 'trees': 4577, 'scary': 3807, 'selling': 3873, 'lighting': 2596, '1940s': 13, 'noir': 3023, 'terrifying': 4410, 'largely': 2518, 'rain': 3506, 'nightmares': 3015, 'kill': 2468, 'cash': 709, 'exist': 1569, 'brooks': 596, 'occurred': 3077, 'haunting': 2051, 'closely': 855, 'killers': 2471, 'robert': 3713, 'perry': 3237, 'leg': 2562, 'dreams': 1355, 'treasure': 4571, 'smooth': 4041, 'artist': 307, 'duo': 1386, 'mexico': 2827, 'generally': 1881, 'miserable': 2863, 'regret': 3591, 'actions': 101, 'riveting': 3708, 'rural': 3758, 'leave': 2555, 'leslie': 2574, 'howard': 2182, 'childhood': 790, 'considering': 952, 'obsession': 3070, 'bette': 471, 'davis': 1126, 'advantage': 129, 'recording': 3575, 'studio': 4240, 'finish': 1732, 'project': 3427, 'adaptation': 113, 'proves': 3447, 'unnecessary': 4672, 'language': 2516, 'sent': 3880, 'vhs': 4725, 'pieces': 3273, 'english': 1483, 'translation': 4562, 'stuck': 4237, 'minimal': 2855, 'cases': 708, 'absurd': 73, 'thoughtful': 4463, 'paris': 3189, 'et': 1526, 'speak': 4094, 'whenever': 4863, 'chance': 747, 'whatever': 4859, 'lifetime': 2594, 'rarely': 3524, 'london': 2641, 'anybody': 257, 'builds': 617, 'teenager': 4390, 'vengeance': 4719, 'destroy': 1213, 'mix': 2876, 'mental': 2808, 'burton': 630, 'awfully': 373, 'wife': 4884, 'lover': 2672, 'deadly': 1133, 'helps': 2082, 'andrews': 229, 'assistant': 326, 'lee': 2559, 'derek': 1192, 'flashback': 1746, 'solve': 4060, 'till': 4493, 'detective': 1220, 'quickly': 3491, 'identity': 2217, 'clue': 864, 'hundred': 2195, 'stopped': 4202, 'needed': 2988, 'above': 68, 'bother': 548, '3000': 43, 'super': 4295, 'blockbuster': 509, 'section': 3853, 'maker': 2714, 'mexican': 2826, 'promised': 3431, 'hopes': 2159, 'field': 1704, 'asian': 314, 'importantly': 2248, 'frustrated': 1842, 'dramas': 1347, 'wars': 4804, 'visually': 4758, 'futuristic': 1857, 'conventional': 979, 'forbidden': 1785, 'planet': 3289, 'civilization': 827, 'created': 1037, 'machines': 2694, 'thoughts': 4464, 'intellectual': 2312, 'aspect': 321, 'allowed': 190, 'walter': 4784, 'built': 618, 'ahead': 159, 'horrors': 2169, 'defend': 1158, 'superior': 4300, 'species': 4098, 'stop': 4201, 'destroyed': 1214, 'landing': 2512, 'ann': 244, 'francis': 1818, 'innocence': 2293, 'construction': 960, 'workers': 4943, 'figure': 1711, 'cook': 988, 'robot': 3717, 'personality': 3242, 'artificial': 306, 'creature': 1045, 'satisfying': 3791, 'considered': 951, 'mysteries': 2954, 'increasingly': 2268, 'forward': 1808, 'lose': 2654, 'island': 2361, 'suffered': 4276, 'fourth': 1813, 'pass': 3201, 'tends': 4402, 'african': 142, 'savage': 3793, 'cube': 1076, 'toward': 4539, 'causes': 725, 'bond': 532, 'drop': 1369, 'commit': 904, 'threatening': 4468, 'offended': 3085, 'below': 462, 'stated': 4161, 'students': 4239, 'smoke': 4039, 'private': 3404, 'utter': 4701, 'proper': 3436, 'billy': 482, 'rubber': 3747, 'whilst': 4869, 'ready': 3546, 'ultra': 4629, 'sensitive': 3879, 'avoid': 363, 'cole': 873, 'reasons': 3560, 'advice': 133, 'wood': 4933, 'outer': 3143, 'space': 4090, 'alien': 183, 'calling': 653, 'race': 3499, 'trial': 4580, 'ridiculously': 3694, 'sci': 3815, 'falling': 1639, 'jean': 2389, 'returns': 3668, 'universal': 4665, 'breath': 573, 'kicks': 2463, 'explosions': 1597, 'plenty': 3307, 'advise': 134, 'computer': 927, 'hal': 2006, 'believes': 456, 'create': 1036, 'michael': 2829, 'creator': 1043, 'stereotype': 4178, 'faithful': 1634, 'separate': 3883, 'glass': 1917, 'daughter': 1121, 'goldberg': 1933, 'romance': 3732, 'finale': 1723, 'explosion': 1596, 'hero': 2088, 'prefer': 3368, 'happening': 2028, 'doubt': 1332, 'study': 4242, 'potential': 3355, 'mad': 2696, 'dog': 1310, 'crowd': 1067, 'symbolism': 4341, '16': 8, 'assume': 328, 'discovered': 1280, 'lower': 2677, 'makers': 2715, 'essentially': 1523, 'kubrick': 2496, 'author': 359, 'direction': 1261, 'five': 1743, 'approach': 282, 'woody': 4936, 'loss': 2659, 'homage': 2141, 'carl': 692, 'crude': 1069, 'handed': 2016, 'responsible': 3656, 'styles': 4250, 'accused': 91, 'sorry': 4076, 'rental': 3627, 'efforts': 1433, 'makeup': 2717, 'gratuitous': 1961, 'badly': 383, 'dubbed': 1379, 'highly': 2105, 'crack': 1027, 'zombies': 4998, 'zombie': 4997, 'cover': 1022, 'depicting': 1184, 'japan': 2381, 'everywhere': 1545, 'culture': 1079, 'break': 569, 'vehicle': 4718, 'hall': 2009, 'floor': 1759, 'ago': 154, 'wooden': 4934, 'outstanding': 3147, 'arrive': 300, '90': 60, 'cried': 1054, 'anymore': 258, 'holiday': 2134, 'mistake': 2871, 'agreed': 156, 'theyve': 4446, 'sick': 3963, 'bottom': 551, 'writing': 4971, 'humanity': 2189, 'awesome': 371, 'fitting': 1742, 'genius': 1887, 'complex': 923, 'conversation': 980, 'somehow': 4063, 'corny': 997, 'understandable': 4644, 'morgan': 2905, 'convincingly': 986, 'mike': 2838, 'sinatra': 3989, 'top': 4525, 'erotic': 1515, 'soft': 4051, 'core': 995, 'strip': 4228, 'club': 863, 'notice': 3048, 'holes': 2133, 'unbelievably': 4635, 'lit': 2621, 'ugly': 4625, 'situations': 4009, 'sleazy': 4023, 'porno': 3337, 'master': 2757, 'kim': 2475, 'dawson': 1128, 'chemistry': 782, 'masterpieces': 2760, 'pushing': 3479, 'hollywoods': 2138, 'relatively': 3600, 'national': 2970, 'appearance': 274, 'jazz': 2387, 'ballet': 389, 'focused': 1767, 'tricks': 4583, 'crazy': 1035, 'legs': 2566, 'hop': 2154, 'member': 2800, 'york': 4985, 'chase': 769, 'rap': 3520, 'negative': 2991, 'pit': 3278, 'dawn': 1127, 'cameo': 657, 'spoilers': 4124, 'mysterious': 2955, 'splatter': 4118, 'cheesy': 781, 'twist': 4617, 'unexpected': 4650, 'clever': 841, 'rolled': 3729, 'faith': 1633, 'goodness': 1938, 'alcoholic': 177, 'moon': 2900, 'arthur': 305, 'similarities': 3979, 'agree': 155, 'sir': 4000, 'stole': 4194, 'glimpse': 1919, 'satire': 3788, 'friendship': 1838, 'endearing': 1469, 'fire': 1734, 'incident': 2260, 'affected': 137, 'laughs': 2534, 'involving': 2349, 'chose': 804, 'toy': 4542, 'underlying': 4641, 'gene': 1879, 'bunch': 623, 'friday': 1834, 'laughing': 2533, 'terrorists': 4414, 'carrying': 701, 'grade': 1951, 'incompetent': 2266, 'giant': 1905, 'monsters': 2893, 'park': 3190, 'aliens': 184, 'stinks': 4192, 'pop': 3330, 'partner': 3198, 'seat': 3845, 'specific': 4099, 'grew': 1972, 'won': 4925, 'yesterday': 4983, 'grand': 1953, 'rex': 3683, 'bottle': 550, 'sam': 3777, 'scripts': 3836, 'holmes': 2139, 'albert': 174, 'england': 1482, 'earlier': 1399, 'revolution': 3680, '20th': 38, 'wondered': 4927, 'aired': 165, 'tape': 4365, 'treat': 4572, 'fresh': 1833, 'innovative': 2295, 'abc': 63, 'stayed': 4167, 'carefully': 689, 'purple': 3473, 'romantic': 3733, 'familys': 1646, 'generation': 1883, 'prince': 3396, 'relate': 3593, 'teens': 4392, 'disney': 1289, 'belongs': 460, 'rights': 3697, 'non': 3027, 'unpredictable': 4675, 'surprisingly': 4316, 'agents': 151, 'immediately': 2242, 'contract': 973, 'desired': 1206, 'harder': 2035, 'initially': 2291, 'important': 2247, 'overlooked': 3154, 'suspend': 4329, 'necessarily': 2983, 'struggle': 4234, 'creates': 1038, 'celebrity': 729, 'cameos': 658, 'testament': 4417, 'appealing': 272, 'flat': 1748, 'wedding': 4836, 'funeral': 1849, 'hearing': 2063, 'number': 3060, 'happily': 2030, 'misery': 2865, 'wished': 4905, 'millions': 2848, 'christ': 807, 'earth': 1403, 'jesus': 2399, 'books': 536, 'sellers': 3872, 'suck': 4269, 'chances': 748, 'kirk': 2482, 'cameron': 661, 'reflect': 3584, 'christian': 808, 'values': 4710, 'dogs': 1311, 'theatrical': 4430, 'strictly': 4223, 'briefly': 580, 'theaters': 4428, 'showed': 3956, 'nyc': 3065, 'pages': 3168, 'bet': 470, 'million': 2847, 'holy': 2140, 'hooked': 2153, 'gary': 1873, 'ground': 1979, '2005': 35, 'description': 1197, 'excited': 1561, 'engaging': 1481, 'impression': 2252, 'spot': 4131, 'disappointment': 1275, 'festival': 1697, 'waiting': 4772, 'result': 3660, 'inspired': 2301, 'comic': 893, 'miller': 2846, 'grey': 1973, 'color': 877, 'graphic': 1958, 'capture': 676, 'credibility': 1047, 'technical': 4381, 'elements': 1443, 'stays': 4169, 'maintain': 2710, 'pet': 3246, 'closer': 856, 'touch': 4533, 'nevertheless': 3002, 'montage': 2894, 'cliché': 844, 'altogether': 202, 'artistic': 308, 'challenge': 743, 'ask': 316, 'producers': 3416, 'sandra': 3782, 'ms': 2931, 'hart': 2041, 'reviewers': 3678, 'noted': 3045, 'formulaic': 1803, 'experiences': 1582, 'darker': 1116, 'fest': 1696, 'protect': 3443, 'evidence': 1546, 'trite': 4589, 'stereotypes': 4179, 'term': 4405, '1st': 28, 'accurate': 90, 'pops': 3332, 'religion': 3607, 'jewish': 2401, 'villains': 4745, 'naturally': 2974, 'versions': 4721, 'considerable': 950, 'imagination': 2236, 'choices': 798, 'notorious': 3051, 'gender': 1878, 'mask': 2752, 'dolls': 1316, 'traveling': 4568, 'changes': 751, 'advanced': 128, 'terms': 4406, 'politically': 3325, 'hitler': 2124, 'widely': 4881, 'audio': 354, 'cd': 728, 'lloyd': 2630, 'sing': 3992, 'described': 1195, 'aged': 149, 'acts': 107, 'cup': 1080, 'improved': 2255, 'extent': 1605, 'susan': 4326, 'dickens': 1240, 'curiosity': 1082, 'shop': 3945, 'distance': 1294, 'directorial': 1265, 'bergman': 466, 'poem': 3312, 'embarrassing': 1454, 'kenneth': 2455, 'branagh': 564, 'winter': 4900, 'beach': 419, '12': 3, 'nostalgic': 3039, 'blob': 507, '1950s': 14, 'steve': 4181, 'doctors': 1305, 'path': 3209, 'touches': 4535, 'cop': 991, 'chess': 783, 'radio': 3504, 'followed': 1773, 'ought': 3138, 'namely': 2962, 'noble': 3021, 'picked': 3266, 'apes': 267, 'raise': 3507, 'jungle': 2434, 'obscure': 3068, 'exposure': 1599, 'strength': 4219, 'jane': 2380, 'ron': 3734, 'speaks': 4096, 'category': 718, 'bo': 521, 'africa': 141, 'dad': 1095, 'minded': 2850, 'reminds': 3620, 'deliberately': 1166, 'explains': 1589, 'spirit': 4113, 'steal': 4170, 'king': 2479, 'kong': 2494, 'ape': 266, 'devoted': 1231, 'wearing': 4831, 'poetry': 3314, 'treats': 4575, 'bite': 489, 'aid': 160, 'tears': 4380, 'indian': 2274, 'form': 1798, 'model': 2880, 'buff': 611, 'renting': 3629, 'row': 3744, 'laughable': 2530, 'irritating': 2359, 'awe': 370, 'atrocious': 335, 'learning': 2552, 'likewise': 2603, 'entertained': 1498, 'horrendous': 2162, 'manages': 2725, 'timothy': 4499, 'fully': 1847, 'degree': 1164, 'leaving': 2557, 'theater': 4427, 'lucy': 2684, 'jealous': 2388, 'painted': 3174, 'wolf': 4920, 'horse': 2170, 'safe': 3771, 'jerry': 2396, 'trashy': 4566, 'guilty': 1995, 'weve': 4856, 'usa': 4691, 'meant': 2784, 'green': 1971, 'similarly': 3980, 'survive': 4321, 'criminals': 1058, 'fictional': 1703, 'loving': 2675, 'emotion': 1458, 'someones': 4065, 'cared': 685, 'worry': 4950, 'belief': 451, 'menacing': 2807, 'arnold': 296, '1996': 26, 'cartoons': 705, 'expecting': 1578, 'childrens': 793, 'stinker': 4191, 'train': 4556, 'research': 3644, 'creation': 1040, 'station': 4164, 'stock': 4193, 'edie': 1419, 'glorious': 1921, 'singer': 3993, 'aunt': 355, 'mansion': 2731, 'worn': 4948, 'newspaper': 3006, 'likes': 2602, 'sings': 3997, 'states': 4163, 'pig': 3274, 'include': 2261, 'exposed': 1598, 'placed': 3283, 'horrific': 2166, 'valuable': 4708, 'significant': 3972, 'flesh': 1753, 'devils': 1229, 'closest': 857, 'difference': 1246, 'hurts': 2203, 'shock': 3938, 'grave': 1962, '13th': 5, 'urban': 4688, 'metal': 2823, 'hated': 2047, 'somewhere': 4069, 'amazed': 208, 'pushed': 3478, 'ties': 4490, 'record': 3573, 'fields': 1705, 'simmons': 3981, 'breaks': 571, 'highlight': 2103, 'dances': 1106, 'hits': 2125, 'errors': 1516, 'imagery': 2234, 'wise': 4903, 'market': 2740, 'ultimate': 4627, 'complain': 919, 'suffers': 4278, 'phony': 3256, 'rose': 3739, 'julie': 2428, 'joseph': 2419, 'east': 1407, 'bound': 553, 'flawed': 1750, 'henry': 2084, 'remake': 3612, 'greatly': 1967, 'sink': 3999, 'glory': 1922, 'glad': 1916, 'trek': 4578, 'downright': 1337, 'captain': 674, 'match': 2762, 'sake': 3775, 'seasons': 3844, 'tradition': 4549, 'improve': 2254, 'cg': 739, '1970s': 17, 'ran': 3513, 'adventures': 131, 'superman': 4301, 'visible': 4753, 'fooled': 1780, 'painfully': 3172, 'contrived': 976, 'lynch': 2691, 'mob': 2879, 'creatures': 1046, 'hysterical': 2208, 'stands': 4147, 'explaining': 1588, 'shoots': 3944, 'reasonable': 3558, 'opportunities': 3120, 'bud': 607, 'baby': 376, 'mothers': 2912, 'fetched': 1698, 'marvelous': 2750, 'reputation': 3640, 'betty': 474, 'punch': 3466, 'drink': 1361, 'pregnant': 3369, 'outcome': 3142, 'buying': 641, 'disappoint': 1272, 'currently': 1085, 'iraq': 2351, 'bomb': 531, 'rolling': 3730, 'staff': 4138, 'dollar': 1314, 'continue': 969, 'critics': 1064, 'understanding': 4645, 'generous': 1886, 'wizard': 4919, 'oz': 3160, 'worthless': 4954, 'favor': 1670, 'ya': 4976, 'hanks': 2025, 'paul': 3214, 'performed': 3230, 'staged': 4140, 'twilight': 4614, 'zone': 4999, 'whereas': 4865, 'tedious': 4387, '2002': 32, 'technology': 4385, 'uninspired': 4657, 'means': 2783, 'prove': 3445, 'patrick': 3213, 'expert': 1585, 'fighter': 1708, 'estate': 1525, 'ireland': 2352, 'rocket': 3721, 'atmospheric': 334, 'progress': 3425, 'storyline': 4208, 'concerned': 932, 'cutting': 1092, 'brains': 563, 'jenny': 2393, 'moody': 2899, 'struggling': 4236, 'granted': 1957, 'carried': 698, 'catherine': 719, 'britain': 588, 'sandler': 3781, 'eddie': 1416, 'murphy': 2944, 'comment': 898, 'undoubtedly': 4648, 'lincoln': 2608, 'practically': 3362, 'washington': 4806, 'nominated': 3025, 'underrated': 4642, 'gradually': 1952, 'legendary': 2565, 'impressed': 2251, 'abraham': 69, 'mgm': 2828, 'iron': 2354, 'prisoner': 3402, 'shark': 3921, 'superb': 4296, 'facts': 1624, 'highest': 2102, 'court': 1020, 'attorney': 348, 'demands': 1175, 'sons': 4073, 'warming': 4795, 'fonda': 1777, 'characterization': 759, 'overwhelming': 3157, 'definite': 1161, 'context': 968, 'anyways': 262, 'expectations': 1576, 'jay': 2386, 'jason': 2383, 'ray': 3533, 'courage': 1018, 'touched': 4534, 'soul': 4079, 'answers': 252, 'contrary': 974, 'portray': 3340, 'thank': 4421, 'onto': 3111, 'painful': 3171, 'drivel': 1364, 'pool': 3327, 'alan': 171, 'curtis': 1087, 'sounding': 4083, 'apartment': 265, 'drinking': 1362, 'hat': 2045, 'bar': 396, 'andrew': 228, 'secretary': 3850, 'secretly': 3851, 'loves': 2674, 'ellen': 1446, 'doubts': 1333, 'phantom': 3251, 'irish': 2353, 'surface': 4310, 'anywhere': 263, 'messages': 2820, 'arrived': 301, 'tragedy': 4551, 'oil': 3097, 'wealthy': 4827, 'hiding': 2099, 'wreck': 4965, 'nobody': 3022, 'recall': 3562, 'innocent': 2294, 'executed': 1565, 'defense': 1159, 'cooper': 990, 'douglas': 1334, 'fears': 1677, 'responsibility': 3655, 'normal': 3033, 'witnesses': 4916, 'occasionally': 3075, 'sword': 4340, 'flynn': 1765, 'epic': 1506, 'jessica': 2398, 'tender': 4401, 'williams': 4888, 'meeting': 2794, 'owner': 3159, 'wayne': 4821, 'brown': 601, 'sum': 4289, 'mistaken': 2872, 'hired': 2117, 'warn': 4797, 'hopper': 2161, 'complicated': 925, 'quick': 3490, 'danger': 1109, 'craig': 1030, 'johnson': 2411, 'truck': 4595, 'driver': 1366, '75': 57, 'basis': 408, 'compared': 912, 'bollywood': 530, 'unbelievable': 4634, 'motives': 2916, 'subtlety': 4261, 'emotions': 1461, 'overdone': 3152, 'understood': 4647, 'parent': 3187, 'via': 4726, 'relief': 3605, 'necessary': 2984, 'shed': 3924, 'meaningful': 2781, 'spoiler': 4123, 'amusing': 221, 'skill': 4013, 'depth': 1190, 'stupidity': 4248, 'adam': 111, 'walked': 4776, 'deliver': 1169, 'sudden': 4272, 'emotionally': 1460, 'passionate': 3206, 'centered': 733, 'artists': 309, 'charlie': 765, 'smaller': 4034, 'overly': 3155, 'sutherland': 4333, 'surprising': 4315, 'judge': 2424, 'profound': 3423, 'ideal': 2214, 'opposed': 3122, 'struck': 4232, 'kitchen': 2485, 'powerful': 3360, 'sunshine': 4294, 'packed': 3166, 'capable': 672, 'disaster': 1276, 'pathetic': 3210, 'reactions': 3542, 'compelling': 916, 'blew': 505, 'weekend': 4838, 'somebody': 4062, 'todd': 4510, 'coffee': 870, 'wannabe': 4787, 'acceptable': 81, 'convoluted': 987, 'fx': 1858, 'mst3k': 2932, 'hills': 2109, 'gripping': 1976, 'rate': 3526, 'countries': 1013, 'merit': 2816, 'unpleasant': 4674, 'sides': 3967, 'carries': 699, 'faults': 1669, 'india': 2273, 'border': 539, 'resolution': 3649, 'uk': 4626, 'racism': 3502, 'crimes': 1056, 'berlin': 467, 'wall': 4781, 'cultural': 1078, 'communist': 907, 'propaganda': 3435, 'psychotic': 3459, 'needless': 2989, 'vision': 4754, 'object': 3066, 'offers': 3090, 'stanley': 4148, 'company': 910, 'quirky': 3493, 'backdrop': 379, 'italy': 2368, 'happiness': 2031, 'forgettable': 1794, 'downhill': 1336, 'christmas': 810, 'rise': 3702, 'hamilton': 2012, 'careful': 688, 'anna': 245, 'compare': 911, 'garbo': 1871, 'throughout': 4478, 'gorgeous': 1942, 'regular': 3592, 'french': 1830, 'tough': 4537, 'germany': 1898, 'travels': 4569, 'werewolf': 4850, 'cheating': 776, 'control': 977, 'experiments': 1584, 'subjects': 4254, 'collection': 874, 'suitable': 4285, 'copies': 992, 'fury': 1855, 'questionable': 3488, 'removed': 3624, 'suspect': 4327, 'confusion': 943, 'floating': 1758, '1973': 19, 'variety': 4714, 'boom': 537, 'modesty': 2883, 'sixties': 4011, 'status': 4165, 'remaining': 3610, 'substance': 4258, 'providing': 3451, 'unforgettable': 4652, 'suddenly': 4273, 'asks': 319, 'teach': 4374, 'shakespeare': 3915, 'cringe': 1059, 'inducing': 2279, 'besides': 468, 'string': 4227, 'fame': 1642, 'fortune': 1806, '1968': 16, 'drawing': 1350, 'comedies': 889, 'replaced': 3634, 'enjoying': 1487, 'claimed': 829, 'dignity': 1252, 'sidney': 3968, 'careers': 687, 'suggested': 4281, 'tiny': 4500, 'north': 3036, 'welcome': 4842, 'princess': 3397, 'equivalent': 1512, 'cheese': 780, 'industry': 2280, 'serving': 3897, '1999': 27, 'execution': 1566, 'blind': 506, 'belong': 459, 'cure': 1081, 'pre': 3365, 'praise': 3364, 'newly': 3004, 'ruins': 3752, 'castle': 712, 'cinemas': 817, 'greed': 1968, 'la': 2500, 'kingdom': 2480, 'factory': 1623, 'france': 1816, 'march': 2734, 'reel': 3581, 'clothing': 861, 'louis': 2665, 'le': 2544, 'silence': 3974, 'magical': 2704, 'reached': 3537, 'japanese': 2382, 'nonsensical': 3031, 'drags': 1345, 'endless': 1473, 'slap': 4018, 'site': 4005, '2004': 34, 'macy': 2695, 'jennifer': 2392, 'return': 3665, 'obnoxious': 3067, 'creep': 1051, 'farce': 1654, 'menace': 2806, 'titanic': 4503, 'knock': 2488, 'travesty': 4570, 'price': 3389, 'tag': 4348, 'elvis': 1451, 'hype': 2207, 'ultimately': 4628, 'fate': 1665, 'ship': 3934, 'robbery': 3711, 'trade': 4547, 'places': 3284, 'thankfully': 4422, 'oscars': 3134, 'blade': 495, 'alongside': 196, 'troops': 4591, 'peoples': 3222, 'leonard': 2572, 'territory': 4411, 'filmmaker': 1719, 'talks': 4361, 'un': 4630, 'korean': 2495, 'quiet': 3492, 'tend': 4400, 'charming': 768, 'captured': 677, 'regardless': 3590, 'portrays': 3344, 'curse': 1086, 'lust': 2689, 'christians': 809, 'brutal': 603, 'refuses': 3587, 'accept': 80, 'madness': 2698, 'questions': 3489, 'answer': 251, 'interpretation': 2328, 'circle': 821, 'bland': 500, 'diane': 1238, 'keaton': 2448, '25': 40, 'attracted': 349, 'cats': 721, 'reaches': 3538, 'store': 4204, 'kurt': 2499, 'imitation': 2241, 'mouth': 2920, 'bothered': 549, 'jesse': 2397, 'dragged': 1343, 'weakest': 4825, 'trilogy': 4586, 'winner': 4897, 'consistent': 953, 'empire': 1464, 'worlds': 4947, 'ice': 2210, 'desert': 1198, 'lucas': 2680, 'lazy': 2543, 'unfortunate': 4653, 'convinced': 984, '1990s': 25, 'fisher': 1739, 'elaborate': 1439, 'constructed': 959, 'deserved': 1200, 'ego': 1435, 'driven': 1365, 'chick': 786, 'global': 1920, 'native': 2972, 'wit': 4908, 'terry': 4415, 'nation': 2969, 'corrupt': 1001, 'revolutionary': 3681, 'leader': 2546, 'jail': 2376, 'convince': 983, 'marry': 2745, 'learns': 2553, 'win': 4892, 'peace': 3219, 'encounter': 1466, 'flight': 1757, 'spider': 4109, 'flying': 1764, 'birth': 486, 'horses': 2171, 'designs': 1204, 'dangerous': 1110, 'heroes': 2089, 'hill': 2108, 'beings': 449, '40s': 49, 'standard': 4144, 'performers': 3232, 'doomed': 1327, 'china': 795, 'unlikely': 4671, 'performer': 3231, 'stronger': 4230, 'triumph': 4590, 'discovery': 1282, 'satisfied': 3789, 'slowly': 4032, 'principal': 3398, 'excitement': 1562, 'canada': 666, 'roberts': 3714, 'nancy': 2964, 'drew': 1360, 'barry': 401, 'chris': 806, 'streisand': 4218, 'feminist': 1695, 'contemporary': 965, 'norman': 3035, 'descent': 1193, 'troubles': 4594, 'random': 3514, 'escapes': 1519, 'represents': 3639, 'benefit': 465, 'inevitably': 2283, 'handle': 2018, 'talents': 4356, 'draw': 1349, 'numerous': 3062, 'rising': 3703, 'persona': 3239, 'performing': 3233, 'established': 1524, 'forgive': 1795, 'dynamic': 1394, 'strikes': 4225, 'headed': 2058, 'manager': 2724, 'veteran': 4724, 'provides': 3450, 'moved': 2922, 'queen': 3485, 'digital': 1251, 'chief': 788, 'extras': 1608, 'troubled': 4593, 'peters': 3248, 'orange': 3125, 'shirt': 3937, 'extended': 1604, 'trailers': 4555, 'fairly': 1631, 'filled': 1715, 'thrills': 4475, 'damon': 1101, 'proved': 3446, 'solid': 4057, 'cia': 814, 'agent': 150, 'bourne': 554, 'news': 3005, 'aka': 168, 'nights': 3016, 'wave': 4818, 'amy': 222, 'shorts': 3948, 'sophisticated': 4075, 'marks': 2742, 'commented': 900, 'kudos': 2497, 'decisions': 1152, 'unfolds': 4651, 'brand': 565, 'ninja': 3018, 'threw': 4470, 'suits': 4287, 'rangers': 3517, 'issue': 2364, 'encounters': 1467, 'sticks': 4186, 'sight': 3969, 'dealing': 1136, 'respected': 3653, 'swim': 4337, 'value': 4709, 'pull': 3461, 'southern': 4088, 'notion': 3050, 'hideous': 2098, 'bone': 533, 'classical': 836, 'liking': 2604, 'pair': 3176, 'lovely': 2671, 'lesbian': 2573, 'vampires': 4712, 'eerie': 1427, 'hotel': 2175, 'countryside': 1015, 'ashley': 313, 'jerk': 2395, 'mom': 2885, 'lessons': 2578, 'weeks': 4839, 'learned': 2551, 'pleased': 3305, '17': 9, 'catches': 715, 'santa': 3783, 'gandhi': 1866, 'associated': 327, 'sacrifice': 3766, 'portraying': 3343, 'criticism': 1063, 'justice': 2438, 'essence': 1521, 'land': 2511, 'hearts': 2066, 'identify': 2216, 'gods': 1928, 'wishes': 4906, 'insulting': 2310, 'fairy': 1632, 'huh': 2187, 'godfather': 1927, 'gritty': 1977, 'resembles': 3646, 'tiresome': 4502, 'absence': 70, 'marie': 2737, 'doc': 1303, 'improvement': 2256, 'inferior': 2285, 'chicago': 785, 'drives': 1367, 'jr': 2423, 'resort': 3650, 'throws': 4482, 'operation': 3117, 'strike': 4224, 'cinderella': 815, 'ruth': 3763, 'gordon': 1940, 'waitress': 4773, 'scenario': 3808, 'politics': 3326, 'amazingly': 210, 'homeless': 2143, 'spiritual': 4116, 'respect': 3652, 'suffering': 4277, 'oliver': 3102, 'catchy': 717, 'lively': 2627, 'perfection': 3225, 'reed': 3580, 'thru': 4483, 'mail': 2706, 'department': 1182, 'shouldnt': 3952, 'tremendous': 4579, 'sinister': 3998, 'perform': 3227, 'continuity': 972, 'watches': 4814, 'hardy': 2037, 'thick': 4447, '50s': 52, 'appreciate': 279, 'river': 3707, 'heights': 2073, 'distant': 1295, 'opposite': 3123, 'murdered': 2940, 'suspicious': 4332, 'ned': 2986, 'max': 2774, 'bag': 384, 'alert': 178, 'virtually': 4751, 'grace': 1950, 'doll': 1313, 'hide': 2097, 'terror': 4412, 'desperate': 1208, 'attack': 337, 'tomatoes': 4515, 'spoof': 4127, 'angle': 236, 'pokemon': 3320, 'dare': 1113, 'ages': 152, 'ratings': 3530, 'props': 3439, 'angel': 231, 'lowest': 2678, 'judging': 2425, 'prostitute': 3440, 'cheated': 775, 'nose': 3037, 'jackson': 2375, 'purely': 3472, 'evident': 1547, 'football': 1783, 'danny': 1112, 'nicholas': 3010, 'embarrassment': 1455, 'mentioning': 2812, 'accents': 79, 'voices': 4763, 'forever': 1792, 'united': 4664, 'gangsters': 1869, 'thugs': 4484, 'mouse': 2919, 'cult': 1077, 'ham': 2011, 'championship': 745, 'intrigued': 2334, 'develops': 1226, 'turkey': 4604, 'unfunny': 4655, 'mel': 2796, 'keeps': 2451, 'claire': 831, 'chair': 742, 'rank': 3518, 'miscast': 2862, 'fired': 1735, 'flop': 1760, 'existent': 1572, 'lily': 2605, 'mars': 2746, 'judy': 2426, 'easier': 1405, 'determined': 1221, 'fay': 1674, 'spring': 4134, 'patient': 3211, 'eager': 1396, 'promise': 3430, 'dragon': 1344, 'disjointed': 1287, 'spoken': 4126, 'stunt': 4245, 'simplistic': 3985, 'grown': 1984, 'decade': 1144, 'jumped': 2430, 'devil': 1228, 'wears': 4832, 'target': 4366, 'repetitive': 3633, 'frightening': 1839, 'commercials': 903, 'sold': 4052, '2000': 30, '18': 10, 'devoid': 1230, 'drive': 1363, 'warned': 4798, 'witnessed': 4915, 'noise': 3024, 'foot': 1781, 'brutally': 604, 'abusive': 75, 'abilities': 64, 'soviet': 4089, 'international': 2326, 'topic': 4526, 'beatty': 427, 'useless': 4695, 'proud': 3444, 'ignorant': 2223, 'warrior': 4802, 'hundreds': 2196, 'lewis': 2586, 'hunter': 2199, 'nuts': 3064, 'burt': 629, 'reynolds': 3684, '1972': 18, 'taxi': 4371, 'storm': 4206, 'daddy': 1096, 'tad': 4347, 'merits': 2817, 'americas': 215, 'dear': 1140, 'notch': 3043, 'bettie': 473, 'page': 3167, 'notes': 3046, 'foster': 1809, 'illness': 2230, 'photo': 3257, 'appearing': 277, 'greater': 1965, 'icon': 2211, 'stephen': 4176, 'pleasant': 3302, 'area': 286, 'animals': 240, 'proceedings': 3410, 'caliber': 649, 'bullet': 620, 'loosely': 2651, 'guessing': 1991, 'wwii': 4975, 'teaching': 4377, 'covers': 1024, 'succeeded': 4263, 'crappy': 1032, 'enjoys': 1489, 'contained': 963, 'justify': 2439, 'killings': 2473, 'pick': 3265, 'current': 1084, 'matters': 2770, 'redeeming': 3577, 'abysmal': 76, 'dolph': 1317, 'san': 3780, 'pointed': 3317, 'edward': 1426, 'grant': 1956, 'screenwriter': 3833, 'hidden': 2096, 'properly': 3437, 'board': 522, 'listed': 2618, 'spanish': 4092, 'bodies': 526, 'arms': 294, 'monster': 2892, 'liberal': 2588, 'rule': 3753, 'crisis': 1060, 'cost': 1003, 'massacre': 2754, 'adequate': 120, 'sign': 3970, 'sell': 3871, 'jumps': 2432, 'officer': 3092, 'wives': 4918, 'suggests': 4282, 'hole': 2132, 'messed': 2821, 'dreadful': 1353, 'bbc': 417, 'blank': 501, 'bargain': 400, 'basement': 405, 'believed': 455, 'ah': 158, 'sunday': 4293, 'dutch': 1389, 'subtitles': 4259, 'von': 4765, 'disappeared': 1271, 'escaped': 1518, 'delight': 1167, 'hopefully': 2157, 'process': 3412, 'appreciated': 280, 'authority': 360, 'intentions': 2321, 'destroying': 1215, 'vacation': 4704, 'gift': 1906, 'lawrence': 2539, 'flawless': 1751, 'focusing': 1769, 'pays': 3218, 'provoking': 3452, 'claim': 828, 'according': 88, 'abandoned': 62, 'calls': 654, 'painting': 3175, 'ocean': 3079, 'scientists': 3819, 'fbi': 1675, 'argue': 290, 'mafia': 2700, 'scores': 3823, 'screens': 3832, 'repeated': 3631, 'table': 4346, 'arrested': 298, 'robinson': 3716, 'village': 4743, 'host': 2173, 'letter': 2581, 'sadness': 3770, 'decision': 1151, 'screening': 3830, 'expressed': 1601, 'forms': 1801, 'segments': 3868, 'resist': 3648, 'angles': 237, 'surely': 4309, 'generated': 1882, 'laughter': 2535, 'gothic': 1945, 'colour': 880, 'segment': 3867, 'phone': 3255, 'account': 89, 'directs': 1267, 'wrap': 4963, 'crafted': 1029, 'highlights': 2104, 'mistress': 2874, 'nightmare': 3014, 'garden': 1872, 'dealt': 1138, 'roman': 3731, 'antics': 255, 'admittedly': 123, 'dalton': 1098, 'spare': 4093, '1980': 20, 'involves': 2348, 'cross': 1066, 'dressing': 1359, 'remind': 3618, 'museum': 2945, 'edited': 1420, 'murders': 2943, 'distinct': 1296, 'breasts': 572, 'relative': 3599, 'pro': 3406, 'hitting': 2126, 'performs': 3234, 'lengthy': 2570, 'alexander': 180, 'dancers': 1105, 'movements': 2924, 'struggles': 4235, 'dancer': 1104, 'mirror': 2861, 'depiction': 1185, 'connected': 945, 'choose': 799, 'bobby': 525, 'females': 1694, 'credible': 1048, 'lol': 2640, 'rebel': 3561, 'threat': 4467, 'tie': 4488, 'fly': 1763, 'trap': 4563, 'birthday': 487, 'fond': 1776, 'superhero': 4299, 'frankenstein': 1822, 'device': 1227, 'resident': 3647, 'kidnapped': 2466, 'beats': 426, 'hank': 2024, 'wes': 4851, 'kidding': 2465, 'rush': 3759, 'lena': 2568, 'bride': 577, 'originally': 3131, 'comics': 895, 'jeffrey': 2391, 'generic': 1885, 'occur': 3076, 'tight': 4492, 'revealing': 3672, 'ex': 1549, '45': 50, 'reasonably': 3559, 'editor': 1423, 'orson': 3132, 'welles': 4844, 'invasion': 2340, 'moronic': 2907, 'quotes': 3497, 'boot': 538, 'represent': 3637, 'psychic': 3456, 'ho': 2127, 'blond': 510, 'criminal': 1057, 'web': 4833, 'bold': 528, 'technique': 4383, 'duty': 1390, 'narrator': 2967, 'glenn': 1918, 'alas': 172, 'hint': 2112, 'fred': 1825, 'wallace': 4782, 'adapted': 114, 'brando': 566, 'desire': 1205, 'method': 2824, 'impact': 2244, 'banned': 395, 'reviewer': 3677, 'lyrics': 2692, 'odds': 3082, 'sky': 4017, 'service': 3896, 'lie': 2590, 'silver': 3977, 'instinct': 2308, 'instance': 2304, 'ruin': 3750, 'chicks': 787, 'inane': 2258, 'snl': 4044, 'fail': 1625, 'seventies': 3904, 'spending': 4106, 'dislike': 1288, 'dedicated': 1153, 'ethan': 1528, 'returning': 3667, 'student': 4238, 'sincere': 3991, 'delivering': 1171, 'wandering': 4785, '60s': 54, 'sports': 4130, 'karen': 2444, 'blacks': 494, 'connection': 946, 'alright': 198, 'paid': 3169, 'novels': 3053, 'eyed': 1612, 'emily': 1456, 'crush': 1072, 'twin': 4615, 'martial': 2747, 'arts': 310, 'dull': 1384, 'angels': 234, 'balance': 387, 'frequent': 1831, 'glover': 1923, 'rogers': 3725, 'pal': 3177, 'matthew': 2772, '3rd': 47, 'sun': 4292, 'appropriate': 283, 'notable': 3041, 'mass': 2753, 'dozens': 1339, 'catching': 716, 'talked': 4359, 'suspenseful': 4331, 'al': 170, 'pacino': 3164, 'ryan': 3765, 'staying': 4168, 'awake': 365, 'button': 639, 'hunting': 2201, 'citizen': 824, 'kane': 2442, 'paranoia': 3186, 'incomprehensible': 2267, 'intensity': 2317, 'appearances': 275, 'september': 3884, 'gruesome': 1986, 'sole': 4055, 'buildings': 616, 'dentist': 1180, 'los': 2653, 'angeles': 233, 'laws': 2540, 'donna': 1323, 'physically': 3263, 'block': 508, 'contact': 961, 'slave': 4022, 'pearl': 3220, 'bear': 420, 'listening': 2620, 'racist': 3503, 'beliefs': 452, 'pretend': 3381, 'snow': 4045, 'sheriff': 3929, 'pan': 3180, 'exceptional': 1558, 'ralph': 3510, 'uncle': 4636, 'developing': 1224, 'sadistic': 3768, 'shining': 3933, 'behave': 445, 'goofy': 1939, 'bell': 458, 'emphasis': 1463, 'poverty': 3357, 'philosophy': 3254, 'darkness': 1117, 'stan': 4142, 'shell': 3927, 'diana': 1237, 'report': 3635, 'cake': 648, 'lifestyle': 2593, 'universe': 4666, 'polanski': 3321, 'hbo': 2055, '2007': 37, 'parallel': 3185, 'reflection': 3585, 'relatives': 3601, 'access': 83, 'ironically': 2356, 'capital': 673, 'wear': 4830, 'covered': 1023, 'mario': 2738, 'essential': 1522, 'creativity': 1042, 'handled': 2019, 'stress': 4220, 'nail': 2957, 'ghosts': 1903, 'nelson': 2997, 'forest': 1791, 'russell': 3761, 'titles': 4506, 'stilted': 4190, 'scottish': 3825, 'content': 966, 'topless': 4527, 'shine': 3931, 'cabin': 643, 'harvey': 2042, 'shocked': 3939, 'dire': 1257, 'minimum': 2856, 'inventive': 2341, 'parker': 3191, 'afford': 138, 'property': 3438, 'carradine': 695, 'jeff': 2390, 'walken': 4777, 'handful': 2017, 'earned': 1401, 'gag': 1861, 'impress': 2250, 'embarrassed': 1453, 'goal': 1925, 'fits': 1741, 'inner': 2292, 'opens': 3115, 'unsettling': 4679, 'condition': 937, 'patients': 3212, 'engaged': 1480, 'examples': 1554, 'enthusiasm': 1501, 'wanna': 4786, 'firstly': 1737, 'april': 284, 'relation': 3595, 'unconvincing': 4638, 'brad': 560, 'cruel': 1070, 'explore': 1594, 'motivations': 2915, 'superficial': 4298, 'earl': 1398, 'leo': 2571, 'visit': 4755, 'murderous': 2942, 'calm': 655, 'natural': 2973, 'surrounding': 4319, 'persons': 3244, 'danes': 1108, 'unhappy': 4656, 'overcome': 3151, 'forty': 1807, 'australia': 356, 'cities': 823, 'trademark': 4548, 'kings': 2481, 'neighbor': 2992, 'hong': 2149, 'restaurant': 3658, 'awkward': 374, 'ruthless': 3764, 'recognize': 3569, 'grab': 1949, 'afterwards': 145, 'indians': 2275, 'stereotypical': 4180, 'blair': 497, 'qualities': 3483, 'blues': 519, 'social': 4049, 'jump': 2429, 'rage': 3505, 'importance': 2246, 'domino': 1319, 'flash': 1745, 'describes': 1196, 'grandmother': 1955, 'vicious': 4728, 'businessman': 634, 'cops': 993, 'chorus': 803, 'dorothy': 1330, 'inevitable': 2282, 'press': 3379, 'pictures': 3270, '1984': 23, 'insane': 2296, 'corner': 996, 'borrowed': 545, 'ships': 3935, 'distracting': 1297, 'educational': 1425, 'mature': 2773, 'harsh': 2040, 'buddies': 608, 'involve': 2345, 'synopsis': 4344, 'behavior': 446, 'freak': 1824, 'bank': 394, 'relevant': 3604, 'assumed': 329, 'conservative': 948, 'installment': 2303, 'demons': 1178, 'daily': 1097, 'hatred': 2049, 'officers': 3093, 'tommy': 4516, 'assigned': 325, 'accompanied': 86, 'ken': 2453, 'stevens': 4183, 'nearby': 2980, 'attacked': 338, 'tense': 4403, 'eyre': 1614, 'rochester': 3719, 'restored': 3659, 'st': 4137, 'blah': 496, 'whoever': 4872, 'ginger': 1908, 'ripped': 3701, 'dinner': 1254, 'cell': 730, 'scheme': 3812, 'broad': 590, 'executive': 1567, 'position': 3345, 'dating': 1120, 'hence': 2083, 'vague': 4705, 'bits': 490, 'waters': 4817, 'witch': 4909, 'molly': 2884, 'godzilla': 1929, 'vs': 4767, 'franchise': 1817, 'illogical': 2231, 'lacked': 2503, 'jet': 2400, 'steven': 4182, 'seagal': 3839, 'ease': 1404, 'civil': 826, 'presumably': 3380, 'cannibal': 669, 'adams': 112, 'dave': 1123, 'columbo': 881, 'wide': 4880, 'nomination': 3026, 'mixture': 2878, 'stranger': 4213, 'precious': 3366, 'portrait': 3339, 'kay': 2447, 'ordinary': 3128, 'elvira': 1450, 'vegas': 4717, 'eva': 1531, 'population': 3335, 'marriage': 2743, 'bugs': 613, 'intriguing': 2335, 'fulci': 1845, 'quit': 3494, 'asking': 318, 'fascinated': 1657, 'carter': 703, 'pleasantly': 3303, 'remarkably': 3614, 'unseen': 4678, 'pants': 3182, 'unintentionally': 4659, 'dvds': 1392, 'hammer': 2014, 'nostalgia': 3038, 'entertain': 1497, 'latin': 2527, 'corruption': 1002, 'greedy': 1969, 'denzel': 1181, 'suffice': 4279, 'vice': 4727, 'security': 3854, 'closet': 858, 'switch': 4339, 'baker': 385, 'butt': 638, 'subplot': 4255, 'twins': 4616, 'useful': 4694, 'safety': 3772, 'task': 4368, 'homer': 2144, 'beloved': 461, 'promises': 3432, 'receives': 3565, 'loyal': 2679, 'poetic': 3313, 'saga': 3773, 'seven': 3903, 'obsessed': 3069, 'videos': 4734, 'carrey': 696, 'giallo': 1904, 'humble': 2191, 'matthau': 2771, 'robbins': 3712, 'grasp': 1960, 'stiff': 4187, 'cardboard': 682, 'gas': 1874, 'mummy': 2937, 'stargate': 4151, 'designed': 1203, 'affect': 136, 'unable': 4631, 'command': 897, 'sits': 4006, 'tracks': 4545, 'farm': 1656, 'uncomfortable': 4637, 'broken': 594, 'consistently': 954, 'planning': 3291, 'plastic': 3294, 'irony': 2357, 'titled': 4505, 'amateur': 206, 'intended': 2315, 'intimate': 2331, 'blunt': 520, 'survival': 4320, 'skip': 4016, 'imagined': 2239, 'latest': 2526, 'caine': 647, 'fool': 1779, 'kapoor': 2443, 'speed': 4103, 'riding': 3695, 'dollars': 1315, 'favorites': 1672, 'ambitious': 211, 'worker': 4942, 'opened': 3113, 'plague': 3285, 'root': 3737, 'smiling': 4037, 'miracle': 2860, 'elsewhere': 1449, 'craft': 1028, 'masses': 2755, 'worried': 4949, 'popcorn': 3331, 'remotely': 3623, 'sympathy': 4343, 'cave': 727, 'shape': 3919, 'capturing': 679, 'cards': 683, 'akshay': 169, 'khan': 2459, 'dress': 1357, 'cuba': 1075, 'losers': 2656, 'cliche': 843, 'spike': 4111, 'heroic': 2090, 'fights': 1710, 'amitabh': 216, 'months': 2897, 'chain': 741, 'conceived': 929, 'documentaries': 1306, 'exceptionally': 1559, 'involvement': 2347, 'blown': 516, 'reduced': 3579, 'lately': 2524, 'swear': 4334, 'worthwhile': 4955, 'junk': 2436, 'satisfy': 3790, 'appalling': 268, 'families': 1644, 'join': 2412, 'hippie': 2115, 'shake': 3914, 'fashioned': 1660, 'comical': 894, 'cleverly': 842, 'protagonists': 3442, 'arrogant': 303, 'dinosaur': 1255, 'foul': 1810, 'guilt': 1994, 'reunion': 3669, 'appreciation': 281, 'chaos': 755, 'bucks': 606, 'annie': 247, 'raped': 3522, 'masterful': 2758, 'souls': 4080, 'ward': 4793, 'empathy': 1462, 'candy': 668, 'purposes': 3475, 'prize': 3405, 'composed': 926, 'map': 2733, 'multi': 2935, 'disease': 1285, 'laurel': 2537, 'gentle': 1890, 'stooges': 4200, 'charlotte': 766, 'online': 3109, 'sorts': 4078, 'loads': 2633, 'relations': 3596, 'ignored': 2225, 'grinch': 1975, 'myers': 2952, 'gags': 1862, 'required': 3641, 'womens': 4924, 'offering': 3089, 'realizing': 3555, 'laura': 2536, 'trail': 4553, 'travel': 4567, 'companion': 909, 'push': 3477, 'popularity': 3334, 'viewings': 4741, 'bruce': 602, 'incoherent': 2265, 'tonight': 4519, 'fatal': 1664, 'pink': 3277, 'chaplin': 756, 'ad': 110, 'signed': 3971, 'couples': 1017, 'indie': 2276, 'superbly': 4297, 'enterprise': 1495, 'punishment': 3467, 'raw': 3532, 'meat': 2787, 'fabulous': 1615, 'directions': 1262, 'complaint': 920, 'punk': 3468, 'eric': 1514, 'kicked': 2461, 'letters': 2582, 'lying': 2690, 'realise': 3548, 'mini': 2854, 'widmark': 4882, 'ritter': 3705, 'extraordinary': 1607, 'winds': 4895, 'exact': 1550, 'crash': 1033, 'areas': 287, 'clint': 850, 'eastwood': 1409, 'margaret': 2735, 'competition': 918, 'felix': 1689, 'tracy': 4546, 'junior': 2435, 'monkeys': 2891, 'homosexual': 2145, 'plausible': 3295, 'shy': 3962, 'tune': 4602, 'realism': 3549, 'kung': 2498, 'fu': 1844, 'explicit': 1591, 'blatant': 502, 'ingredients': 2289, 'airport': 167, 'lemmon': 2567, 'sea': 3838, 'airplane': 166, 'dropping': 1371, 'conflicts': 940, 'temple': 4398, 'reads': 3545, 'streets': 4217, 'accomplished': 87, 'potentially': 3356, 'beneath': 464, 'kelly': 2452, 'brady': 561, 'dean': 1139, 'pamela': 3179, 'brooklyn': 595, 'rendition': 3625, 'kissing': 2484, 'freeman': 1829, 'rotten': 3740, 'sleeping': 4025, 'producing': 3417, 'lasted': 2522, 'avoided': 364, 'muslim': 2949, 'media': 2789, 'intentionally': 2320, 'achieved': 93, 'boredom': 542, 'matrix': 2767, 'anime': 243, 'lay': 2542, 'robots': 3718, 'broke': 593, 'thrill': 4471, 'costs': 1004, 'roots': 3738, 'mall': 2720, 'waves': 4819, 'scale': 3802, 'typically': 4624, 'meaningless': 2782, 'satan': 3787, 'views': 4742, 'concerning': 933, 'advance': 127, 'dust': 1388, 'clumsy': 866, 'preview': 3386, 'matched': 2763, 'wells': 4845, 'lousy': 2667, 'horrifying': 2167, 'drops': 1372, 'imaginative': 2237, 'pseudo': 3454, 'philosophical': 3253, 'photographer': 3259, 'secrets': 3852, 'spread': 4133, 'niro': 3019, 'isolated': 2363, 'tame': 4363, 'proceeds': 3411, 'pulp': 3465, 'der': 1191, 'sexually': 3910, 'thrilling': 4474, 'carpenter': 694, 'attitudes': 347, 'rocky': 3723, 'irrelevant': 2358, 'ted': 4386, 'timing': 4498, 'exaggerated': 1552, 'busy': 635, 'bath': 411, 'clip': 851, 'valley': 4707, 'heston': 2094, 'survivors': 4325, 'realizes': 3554, '2nd': 41, 'pitt': 3280, 'vampire': 4711, 'turner': 4607, 'formula': 1802, 'fat': 1663, 'bleak': 503, '1983': 22, 'racial': 3501, 'olivier': 3103, 'boxing': 556, 'frequently': 1832, 'sloppy': 4030, 'website': 4834, 'childish': 791, 'wore': 4939, 'horrid': 2165, 'interview': 2329, 'consequences': 947, 'complexity': 924, 'hed': 2072, 'celluloid': 731, 'gifted': 1907, 'resources': 3651, 'virus': 4752, 'enters': 1496, 'severe': 3906, 'alice': 182, 'strangely': 4212, 'jaw': 2384, 'demented': 1176, 'dialogues': 1235, 'receive': 3563, 'revelation': 3674, 'immensely': 2243, 'upset': 4687, 'wake': 4774, 'education': 1424, 'cary': 706, 'disneys': 1290, 'introduction': 2339, 'stretch': 4221, 'intention': 2319, 'writes': 4970, 'disappear': 1270, 'regard': 3588, 'text': 4419, 'scope': 3821, 'bus': 631, 'franco': 1820, 'rick': 3689, 'melting': 2799, 'measure': 2786, 'endings': 1472, 'prisoners': 3403, 'transition': 4561, 'finger': 1731, 'wacky': 4769, 'neighborhood': 2993, 'monk': 2889, 'fix': 1744, 'astaire': 330, 'butler': 637, 'steals': 4172, 'priceless': 3390, 'singers': 3994, 'dracula': 1341, 'splendid': 4119, 'alcohol': 176, 'sally': 3776, 'grim': 1974, 'versus': 4722, 'dig': 1250, 'presentation': 3375, 'captivating': 675, 'maggie': 2702, 'nicholson': 3011, 'possessed': 3347, 'da': 1094, 'surfing': 4311, 'mighty': 2836, 'helen': 2075, 'bridge': 578, 'bumbling': 622, 'campbell': 663, 'discuss': 1283, 'genres': 1889, 'spin': 4112, 'overlook': 3153, 'survived': 4322, 'hyde': 2206, 'nonetheless': 3029, 'card': 681, 'witches': 4910, 'literature': 2623, 'ranks': 3519, 'dozen': 1338, 'hints': 2113, 'holly': 2136, 'beer': 439, 'steel': 4173, 'vaguely': 4706, 'francisco': 1819, 'wendy': 4846, 'jonathan': 2417, 'royal': 3746, 'pursuit': 3476, 'willis': 4890, 'fed': 1682, 'sitcom': 4004, 'succeed': 4262, 'scrooge': 3837, 'carol': 693, 'enormous': 1490, 'teachers': 4376, 'walker': 4778, 'household': 2179, 'medical': 2790, 'virgin': 4749, 'solely': 4056, 'craven': 1034, 'richardson': 3688, 'ear': 1397, 'jeremy': 2394, 'del': 1165, 'germans': 1897, 'widow': 4883, 'deceased': 1146, 'maria': 2736, 'journalist': 2420, 'raising': 3509, 'greek': 1970, 'quote': 3496, 'amanda': 205, 'monkey': 2890, 'displays': 1293, 'montana': 2895, 'landscape': 2513, 'equal': 1509, 'inept': 2281, 'balls': 390, 'album': 175, 'user': 4696, 'orders': 3127, 'definition': 1163, 'pretending': 3382, 'neo': 2998, 'draws': 1352, 'alfred': 181, 'admire': 121, 'crucial': 1068, 'lovable': 2668, 'slaughter': 4021, 'bay': 416, 'tiger': 4491, 'wealth': 4826, 'mentions': 2813, 'fish': 1738, 'counter': 1011, 'spoke': 4125, 'dubbing': 1380, 'bathroom': 412, 'che': 773, 'philip': 3252, 'stale': 4141, 'lesson': 2577, 'basketball': 409, 'lion': 2614, 'slight': 4027, 'spielberg': 4110, 'elegant': 1441, 'portion': 3338, 'laughably': 2531, 'psychiatrist': 3455, 'terrorist': 4413, 'allowing': 191, 'dub': 1378, 'hoped': 2156, 'itll': 2369, 'whale': 4857, 'stretched': 4222, 'compelled': 915, 'desperation': 1210, 'destiny': 1212, 'randomly': 3515, 'feed': 1683, 'daniel': 1111, 'excessive': 1560, 'mayor': 2777, 'hook': 2152, 'repeatedly': 3632, 'assault': 324, 'sneak': 4043, 'bela': 450, 'hunters': 2200, 'flaw': 1749, 'beast': 422, 'coherent': 871, 'poster': 3353, 'matches': 2764, 'unaware': 4632, 'ironic': 2355, 'anne': 246, 'gray': 1963, 'union': 4661, 'transformation': 4560, 'unoriginal': 4673, 'golden': 1934, 'ourselves': 3140, 'gerard': 1895, 'freddy': 1826, 'deaf': 1134, 'unreal': 4676, 'furthermore': 1854, 'weight': 4840, 'landscapes': 2514, 'nations': 2971, 'kennedy': 2454, 'equipment': 1511, 'comparing': 913, 'angela': 232, 'striking': 4226, 'throat': 4476, 'heat': 2067, 'partly': 3197, 'analysis': 224, 'soccer': 4048, 'historically': 2120, 'suited': 4286, 'sid': 3964, 'boat': 523, 'raymond': 3534, 'cusack': 1088, 'elm': 1447, 'mechanical': 2788, 'andy': 230, 'loaded': 2632, 'remarks': 3615, 'streep': 4215, 'disturbed': 1299, 'sport': 4129, 'paulie': 3215, 'lab': 2501, 'everyones': 1543, 'league': 2549, 'aids': 161, 'survivor': 4324, 'virginia': 4750, '24': 39, 'surrounded': 4318, 'bedroom': 437, 'spots': 4132, 'navy': 2976, 'chooses': 800, 'backgrounds': 381, 'ensues': 1493, 'enjoyment': 1488, 'hollow': 2135, 'seeks': 3860, 'spoiled': 4122, 'wrapped': 4964, 'june': 2433, 'bacall': 377, 'settings': 3901, 'explored': 1595, 'davies': 1125, 'exploration': 1593, 'lou': 2663, 'sullivan': 4288, 'clues': 865, 'guessed': 1990, 'wicked': 4879, 'wisdom': 4902, 'outrageous': 3145, 'lumet': 2688, 'confidence': 938, 'lugosi': 2686, 'corporate': 998, 'purchased': 3470, 'samurai': 3779, 'crocodile': 1065, 'prequel': 3372, 'steps': 4177, 'interaction': 2322, 'mild': 2839, 'gundam': 1997, 'armed': 293, 'neil': 2995, 'subplots': 4256, 'mate': 2765, 'falk': 1636, 'schools': 3814, 'stones': 4198, 'demand': 1174, 'library': 2589, 'neighbors': 2994, 'iii': 2227, 'misses': 2868, 'spirits': 4115, 'buffs': 612, 'li': 2587, 'rabbit': 3498, '70': 55, 'trained': 4557, 'domestic': 1318, 'madonna': 2699, 'cameras': 660, 'bird': 484, 'spain': 4091, 'unbearable': 4633, 'iran': 2350, 'piano': 3264, 'brosnan': 597, 'wholly': 4874, 'unit': 4663, 'intent': 2318, 'tooth': 4524, 'understated': 4646, 'carrie': 697, 'louise': 2666, 'hamlet': 2013, 'bakshi': 386, 'failing': 1627, 'seed': 3856, 'strangers': 4214, 'tap': 4364, 'karloff': 2445, 'hood': 2151, 'hello': 2078, 'atlantis': 332, 'illegal': 2229, 'shirley': 3936, 'miike': 2837}\n"
     ]
    }
   ],
   "source": [
    "print(str(vocabulary))"
   ]
  },
  {
   "cell_type": "markdown",
   "metadata": {},
   "source": [
    "Once you have added the endpoint name to the Lambda function, click on **Save**. Your Lambda function is now up and running. Next we need to create a way for our web app to execute the Lambda function."
   ]
  },
  {
   "cell_type": "markdown",
   "metadata": {},
   "source": [
    "### Setting up API Gateway\n",
    "\n",
    "Now that our Lambda function is set up, it is time to create a new API using API Gateway that will trigger the Lambda function we have just created.\n",
    "\n",
    "Using AWS Console, navigate to **Amazon API Gateway** and then click on **Get started**.\n",
    "\n",
    "On the next page, make sure that **New API** is selected and give the new api a name, for example, `sentiment_analysis_web_app`. Then, click on **Create API**.\n",
    "\n",
    "Now we have created an API, however it doesn't currently do anything. What we want it to do is to trigger the Lambda function that we created earlier.\n",
    "\n",
    "Select the **Actions** dropdown menu and click **Create Method**. A new blank method will be created, select its dropdown menu and select **POST**, then click on the check mark beside it.\n",
    "\n",
    "For the integration point, make sure that **Lambda Function** is selected and click on the **Use Lambda Proxy integration**. This option makes sure that the data that is sent to the API is then sent directly to the Lambda function with no processing. It also means that the return value must be a proper response object as it will also not be processed by API Gateway.\n",
    "\n",
    "Type the name of the Lambda function you created earlier into the **Lambda Function** text entry box and then click on **Save**. Click on **OK** in the pop-up box that then appears, giving permission to API Gateway to invoke the Lambda function you created.\n",
    "\n",
    "The last step in creating the API Gateway is to select the **Actions** dropdown and click on **Deploy API**. You will need to create a new Deployment stage and name it anything you like, for example `prod`.\n",
    "\n",
    "You have now successfully set up a public API to access your SageMaker model. Make sure to copy or write down the URL provided to invoke your newly created public API as this will be needed in the next step. This URL can be found at the top of the page, highlighted in blue next to the text **Invoke URL**."
   ]
  },
  {
   "cell_type": "markdown",
   "metadata": {},
   "source": [
    "## Step 7: Deploying our web app\n",
    "\n",
    "Now that we have a publicly available API, we can start using it in a web app. For our purposes, we have provided a simple static html file which can make use of the public api you created earlier.\n",
    "\n",
    "In the `website` folder there should be a file called `index.html`. Download the file to your computer and open that file up in a text editor of your choice. There should be a line which contains **\\*\\*REPLACE WITH PUBLIC API URL\\*\\***. Replace this string with the url that you wrote down in the last step and then save the file.\n",
    "\n",
    "Now, if you open `index.html` on your local computer, your browser will behave as a local web server and you can use the provided site to interact with your SageMaker model.\n",
    "\n",
    "If you'd like to go further, you can host this html file anywhere you'd like, for example using github or hosting a static site on Amazon's S3. Once you have done this you can share the link with anyone you'd like and have them play with it too!\n",
    "\n",
    "> **Important Note** In order for the web app to communicate with the SageMaker endpoint, the endpoint has to actually be deployed and running. This means that you are paying for it. Make sure that the endpoint is running when you want to use the web app but that you shut it down when you don't need it, otherwise you will end up with a surprisingly large AWS bill."
   ]
  },
  {
   "cell_type": "markdown",
   "metadata": {},
   "source": [
    "### Delete the endpoint\n",
    "\n",
    "Remember to always shut down your endpoint if you are no longer using it. You are charged for the length of time that the endpoint is running so if you forget and leave it on you could end up with an unexpectedly large bill."
   ]
  },
  {
   "cell_type": "code",
   "execution_count": 58,
   "metadata": {},
   "outputs": [],
   "source": [
    "xgb_predictor.delete_endpoint()"
   ]
  },
  {
   "cell_type": "markdown",
   "metadata": {},
   "source": [
    "## Optional: Clean up\n",
    "\n",
    "The default notebook instance on SageMaker doesn't have a lot of excess disk space available. As you continue to complete and execute notebooks you will eventually fill up this disk space, leading to errors which can be difficult to diagnose. Once you are completely finished using a notebook it is a good idea to remove the files that you created along the way. Of course, you can do this from the terminal or from the notebook hub if you would like. The cell below contains some commands to clean up the created files from within the notebook."
   ]
  },
  {
   "cell_type": "code",
   "execution_count": null,
   "metadata": {},
   "outputs": [],
   "source": [
    "# First we will remove all of the files contained in the data_dir directory\n",
    "!rm $data_dir/*\n",
    "\n",
    "# And then we delete the directory itself\n",
    "!rmdir $data_dir\n",
    "\n",
    "# Similarly we remove the files in the cache_dir directory and the directory itself\n",
    "!rm $cache_dir/*\n",
    "!rmdir $cache_dir"
   ]
  },
  {
   "cell_type": "code",
   "execution_count": null,
   "metadata": {},
   "outputs": [],
   "source": []
  }
 ],
 "metadata": {
  "kernelspec": {
   "display_name": "conda_python3",
   "language": "python",
   "name": "conda_python3"
  },
  "language_info": {
   "codemirror_mode": {
    "name": "ipython",
    "version": 3
   },
   "file_extension": ".py",
   "mimetype": "text/x-python",
   "name": "python",
   "nbconvert_exporter": "python",
   "pygments_lexer": "ipython3",
   "version": "3.6.10"
  }
 },
 "nbformat": 4,
 "nbformat_minor": 2
}
